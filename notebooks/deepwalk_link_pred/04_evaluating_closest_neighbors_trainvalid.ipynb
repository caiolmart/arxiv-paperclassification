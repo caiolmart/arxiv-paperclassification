{
 "cells": [
  {
   "cell_type": "code",
   "execution_count": 1,
   "id": "thousand-tuition",
   "metadata": {},
   "outputs": [],
   "source": [
    "import os"
   ]
  },
  {
   "cell_type": "code",
   "execution_count": 2,
   "id": "commercial-timer",
   "metadata": {},
   "outputs": [],
   "source": [
    "os.chdir('../..')"
   ]
  },
  {
   "cell_type": "code",
   "execution_count": 3,
   "id": "junior-pearl",
   "metadata": {},
   "outputs": [
    {
     "name": "stderr",
     "output_type": "stream",
     "text": [
      "Using backend: pytorch\n"
     ]
    }
   ],
   "source": [
    "import numpy as np\n",
    "import matplotlib.pyplot as plt\n",
    "import faiss\n",
    "import torch\n",
    "from ogb.nodeproppred import DglNodePropPredDataset"
   ]
  },
  {
   "cell_type": "code",
   "execution_count": 4,
   "id": "accepting-belfast",
   "metadata": {},
   "outputs": [],
   "source": [
    "dataset = DglNodePropPredDataset('ogbn-arxiv', root='data/dataset_dgl')\n",
    "graph = dataset[0][0]"
   ]
  },
  {
   "cell_type": "code",
   "execution_count": 5,
   "id": "tamil-startup",
   "metadata": {},
   "outputs": [],
   "source": [
    "output_emb_file = 'models/deepwalk_03_trvl_embedding.npy'"
   ]
  },
  {
   "cell_type": "code",
   "execution_count": 6,
   "id": "formed-general",
   "metadata": {},
   "outputs": [
    {
     "data": {
      "text/plain": [
       "(117837, 50)"
      ]
     },
     "execution_count": 6,
     "metadata": {},
     "output_type": "execute_result"
    }
   ],
   "source": [
    "embeddings = np.load(output_emb_file)\n",
    "embeddings.shape"
   ]
  },
  {
   "cell_type": "markdown",
   "id": "mounted-relief",
   "metadata": {},
   "source": [
    "## Train graph"
   ]
  },
  {
   "cell_type": "code",
   "execution_count": 8,
   "id": "special-heater",
   "metadata": {},
   "outputs": [],
   "source": [
    "split_idx = dataset.get_idx_split()\n",
    "graph_valid = graph.subgraph(\n",
    "    torch.cat([split_idx['train'], split_idx['valid']]))\n",
    "graph_valid.add_edges(graph_valid.edges()[1], graph_valid.edges()[0])\n",
    "mask_tensor = graph_valid.out_degrees() > 0\n",
    "graph_valid = graph_valid.subgraph(mask_tensor)"
   ]
  },
  {
   "cell_type": "markdown",
   "id": "banner-printing",
   "metadata": {},
   "source": [
    "## L2 Distance"
   ]
  },
  {
   "cell_type": "code",
   "execution_count": 9,
   "id": "recorded-clarity",
   "metadata": {},
   "outputs": [],
   "source": [
    "index = faiss.IndexFlatL2(embeddings.shape[1])"
   ]
  },
  {
   "cell_type": "code",
   "execution_count": 10,
   "id": "injured-qatar",
   "metadata": {},
   "outputs": [],
   "source": [
    "index.train(embeddings)\n",
    "index.add(embeddings)"
   ]
  },
  {
   "cell_type": "code",
   "execution_count": 11,
   "id": "three-happening",
   "metadata": {},
   "outputs": [
    {
     "data": {
      "text/plain": [
       "<faiss.swigfaiss.IndexFlatL2; proxy of <Swig Object of type 'faiss::IndexFlatL2 *' at 0x7ff1b84a1510> >"
      ]
     },
     "execution_count": 11,
     "metadata": {},
     "output_type": "execute_result"
    }
   ],
   "source": [
    "index"
   ]
  },
  {
   "cell_type": "code",
   "execution_count": 12,
   "id": "technical-german",
   "metadata": {},
   "outputs": [
    {
     "data": {
      "text/plain": [
       "117837"
      ]
     },
     "execution_count": 12,
     "metadata": {},
     "output_type": "execute_result"
    }
   ],
   "source": [
    "index.ntotal"
   ]
  },
  {
   "cell_type": "markdown",
   "id": "educated-watershed",
   "metadata": {},
   "source": [
    "### Check if the closest embedding is a neighbor"
   ]
  },
  {
   "cell_type": "code",
   "execution_count": 13,
   "id": "academic-plymouth",
   "metadata": {},
   "outputs": [],
   "source": [
    "distances, indices = index.search(embeddings, 2)"
   ]
  },
  {
   "cell_type": "code",
   "execution_count": 14,
   "id": "whole-growth",
   "metadata": {},
   "outputs": [
    {
     "data": {
      "text/plain": [
       "tensor(74365)"
      ]
     },
     "execution_count": 14,
     "metadata": {},
     "output_type": "execute_result"
    }
   ],
   "source": [
    "graph_valid.has_edges_between(indices[:, 0], indices[:, 1]).sum()"
   ]
  },
  {
   "cell_type": "code",
   "execution_count": 15,
   "id": "figured-helmet",
   "metadata": {},
   "outputs": [
    {
     "data": {
      "text/plain": [
       "tensor(False)"
      ]
     },
     "execution_count": 15,
     "metadata": {},
     "output_type": "execute_result"
    }
   ],
   "source": [
    "graph_valid.has_edges_between(indices[:, 0], indices[:, 1]).all()"
   ]
  },
  {
   "cell_type": "markdown",
   "id": "incoming-calgary",
   "metadata": {},
   "source": [
    "### Check if there is a neighbor in the n closest embeddings"
   ]
  },
  {
   "cell_type": "code",
   "execution_count": 16,
   "id": "funny-modem",
   "metadata": {},
   "outputs": [],
   "source": [
    "max_k = 100\n",
    "distances, indices = index.search(embeddings, max_k + 1)"
   ]
  },
  {
   "cell_type": "code",
   "execution_count": 17,
   "id": "future-bridal",
   "metadata": {},
   "outputs": [],
   "source": [
    "has_neighbor = torch.zeros((embeddings.shape[0], max_k))\n",
    "for j in range(max_k):\n",
    "    if j == 0:\n",
    "        has_neighbor[:, j] = graph_valid.has_edges_between(indices[:, 0], indices[:, j + 1])\n",
    "    else:\n",
    "        has_neighbor[:, j] = torch.max(\n",
    "            has_neighbor[:, j - 1],\n",
    "            graph_valid.has_edges_between(indices[:, 0], indices[:, j + 1]))"
   ]
  },
  {
   "cell_type": "code",
   "execution_count": 18,
   "id": "peripheral-wales",
   "metadata": {},
   "outputs": [
    {
     "data": {
      "text/plain": [
       "tensor([[1., 1., 1.,  ..., 1., 1., 1.],\n",
       "        [1., 1., 1.,  ..., 1., 1., 1.],\n",
       "        [0., 0., 0.,  ..., 1., 1., 1.],\n",
       "        ...,\n",
       "        [0., 1., 1.,  ..., 1., 1., 1.],\n",
       "        [1., 1., 1.,  ..., 1., 1., 1.],\n",
       "        [0., 1., 1.,  ..., 1., 1., 1.]])"
      ]
     },
     "execution_count": 18,
     "metadata": {},
     "output_type": "execute_result"
    }
   ],
   "source": [
    "has_neighbor"
   ]
  },
  {
   "cell_type": "code",
   "execution_count": 19,
   "id": "stainless-edition",
   "metadata": {},
   "outputs": [
    {
     "data": {
      "text/plain": [
       "[<matplotlib.lines.Line2D at 0x7ff0b0460640>]"
      ]
     },
     "execution_count": 19,
     "metadata": {},
     "output_type": "execute_result"
    },
    {
     "data": {
      "image/png": "[encoded data removed]",
      "text/plain": [
       "<Figure size 432x288 with 1 Axes>"
      ]
     },
     "metadata": {
      "needs_background": "light"
     },
     "output_type": "display_data"
    }
   ],
   "source": [
    "percentages = has_neighbor.sum(dim=0) / embeddings.shape[0]\n",
    "plt.plot(list(range(1, max_k + 1)), percentages)"
   ]
  },
  {
   "cell_type": "code",
   "execution_count": 20,
   "id": "nonprofit-synthetic",
   "metadata": {},
   "outputs": [
    {
     "data": {
      "text/plain": [
       "tensor([0.6311, 0.7618, 0.8209, 0.8538, 0.8754, 0.8909, 0.9030, 0.9120, 0.9197,\n",
       "        0.9263, 0.9316, 0.9363, 0.9402, 0.9440, 0.9472, 0.9500, 0.9529, 0.9555,\n",
       "        0.9578, 0.9598, 0.9617, 0.9636, 0.9652, 0.9665, 0.9676, 0.9691, 0.9702,\n",
       "        0.9712, 0.9721, 0.9730, 0.9739, 0.9749, 0.9758, 0.9767, 0.9775, 0.9783,\n",
       "        0.9789, 0.9796, 0.9802, 0.9809, 0.9815, 0.9820, 0.9824, 0.9829, 0.9833,\n",
       "        0.9838, 0.9842, 0.9846, 0.9850, 0.9853, 0.9856, 0.9860, 0.9863, 0.9866,\n",
       "        0.9869, 0.9872, 0.9875, 0.9878, 0.9881, 0.9883, 0.9885, 0.9888, 0.9890,\n",
       "        0.9893, 0.9895, 0.9897, 0.9899, 0.9901, 0.9903, 0.9904, 0.9906, 0.9908,\n",
       "        0.9910, 0.9912, 0.9914, 0.9915, 0.9916, 0.9917, 0.9919, 0.9921, 0.9922,\n",
       "        0.9923, 0.9925, 0.9926, 0.9927, 0.9928, 0.9930, 0.9931, 0.9932, 0.9934,\n",
       "        0.9935, 0.9936, 0.9937, 0.9938, 0.9939, 0.9940, 0.9941, 0.9942, 0.9943,\n",
       "        0.9943])"
      ]
     },
     "execution_count": 20,
     "metadata": {},
     "output_type": "execute_result"
    }
   ],
   "source": [
    "percentages"
   ]
  },
  {
   "cell_type": "code",
   "execution_count": 21,
   "id": "pointed-bulletin",
   "metadata": {},
   "outputs": [
    {
     "data": {
      "text/plain": [
       "tensor(0.9943)"
      ]
     },
     "execution_count": 21,
     "metadata": {},
     "output_type": "execute_result"
    }
   ],
   "source": [
    "percentages.max()"
   ]
  },
  {
   "cell_type": "markdown",
   "id": "continuous-washington",
   "metadata": {},
   "source": [
    "## Cossine Distance"
   ]
  },
  {
   "cell_type": "code",
   "execution_count": 22,
   "id": "common-annex",
   "metadata": {},
   "outputs": [],
   "source": [
    "emb_norm = embeddings / np.linalg.norm(embeddings, axis=1)[:, None]"
   ]
  },
  {
   "cell_type": "code",
   "execution_count": 23,
   "id": "daily-ambassador",
   "metadata": {},
   "outputs": [],
   "source": [
    "index_cos = faiss.IndexFlatIP(emb_norm.shape[1])"
   ]
  },
  {
   "cell_type": "code",
   "execution_count": 24,
   "id": "homeless-assignment",
   "metadata": {},
   "outputs": [],
   "source": [
    "index_cos.train(emb_norm)\n",
    "index_cos.add(emb_norm)"
   ]
  },
  {
   "cell_type": "code",
   "execution_count": 25,
   "id": "hawaiian-english",
   "metadata": {},
   "outputs": [
    {
     "data": {
      "text/plain": [
       "<faiss.swigfaiss.IndexFlatIP; proxy of <Swig Object of type 'faiss::IndexFlatIP *' at 0x7ff0b048ed50> >"
      ]
     },
     "execution_count": 25,
     "metadata": {},
     "output_type": "execute_result"
    }
   ],
   "source": [
    "index_cos"
   ]
  },
  {
   "cell_type": "code",
   "execution_count": 26,
   "id": "green-leader",
   "metadata": {},
   "outputs": [
    {
     "data": {
      "text/plain": [
       "117837"
      ]
     },
     "execution_count": 26,
     "metadata": {},
     "output_type": "execute_result"
    }
   ],
   "source": [
    "index_cos.ntotal"
   ]
  },
  {
   "cell_type": "markdown",
   "id": "registered-charity",
   "metadata": {},
   "source": [
    "### Check if the closest embedding is a neighbor"
   ]
  },
  {
   "cell_type": "code",
   "execution_count": 27,
   "id": "exposed-fraud",
   "metadata": {},
   "outputs": [],
   "source": [
    "distances, indices = index_cos.search(emb_norm, 2)"
   ]
  },
  {
   "cell_type": "code",
   "execution_count": 28,
   "id": "marine-batman",
   "metadata": {},
   "outputs": [
    {
     "data": {
      "text/plain": [
       "tensor(74614)"
      ]
     },
     "execution_count": 28,
     "metadata": {},
     "output_type": "execute_result"
    }
   ],
   "source": [
    "graph_valid.has_edges_between(indices[:, 0], indices[:, 1]).sum()"
   ]
  },
  {
   "cell_type": "code",
   "execution_count": 29,
   "id": "beneficial-knock",
   "metadata": {},
   "outputs": [
    {
     "data": {
      "text/plain": [
       "tensor(False)"
      ]
     },
     "execution_count": 29,
     "metadata": {},
     "output_type": "execute_result"
    }
   ],
   "source": [
    "graph_valid.has_edges_between(indices[:, 0], indices[:, 1]).all()"
   ]
  },
  {
   "cell_type": "markdown",
   "id": "missing-corps",
   "metadata": {},
   "source": [
    "### Check if there is a neighbor in the n closest embeddings"
   ]
  },
  {
   "cell_type": "code",
   "execution_count": 30,
   "id": "urban-swimming",
   "metadata": {},
   "outputs": [],
   "source": [
    "max_k = 100\n",
    "distances, indices = index.search(emb_norm, max_k + 1)"
   ]
  },
  {
   "cell_type": "code",
   "execution_count": 31,
   "id": "careful-astronomy",
   "metadata": {},
   "outputs": [],
   "source": [
    "has_neighbor = torch.zeros((emb_norm.shape[0], max_k))\n",
    "for j in range(max_k):\n",
    "    if j == 0:\n",
    "        has_neighbor[:, j] = graph_valid.has_edges_between(indices[:, 0], indices[:, j + 1])\n",
    "    else:\n",
    "        has_neighbor[:, j] = torch.max(\n",
    "            has_neighbor[:, j - 1],\n",
    "            graph_valid.has_edges_between(indices[:, 0], indices[:, j + 1]))"
   ]
  },
  {
   "cell_type": "code",
   "execution_count": 32,
   "id": "given-temperature",
   "metadata": {},
   "outputs": [
    {
     "data": {
      "text/plain": [
       "tensor([[0., 0., 0.,  ..., 1., 1., 1.],\n",
       "        [0., 0., 1.,  ..., 1., 1., 1.],\n",
       "        [0., 0., 0.,  ..., 0., 0., 0.],\n",
       "        ...,\n",
       "        [0., 0., 0.,  ..., 0., 0., 0.],\n",
       "        [0., 0., 0.,  ..., 1., 1., 1.],\n",
       "        [1., 1., 1.,  ..., 1., 1., 1.]])"
      ]
     },
     "execution_count": 32,
     "metadata": {},
     "output_type": "execute_result"
    }
   ],
   "source": [
    "has_neighbor"
   ]
  },
  {
   "cell_type": "code",
   "execution_count": 33,
   "id": "flush-thumb",
   "metadata": {},
   "outputs": [
    {
     "data": {
      "text/plain": [
       "[<matplotlib.lines.Line2D at 0x7ff0b0359070>]"
      ]
     },
     "execution_count": 33,
     "metadata": {},
     "output_type": "execute_result"
    },
    {
     "data": {
      "image/png": "[encoded data removed]",
      "text/plain": [
       "<Figure size 432x288 with 1 Axes>"
      ]
     },
     "metadata": {
      "needs_background": "light"
     },
     "output_type": "display_data"
    }
   ],
   "source": [
    "percentages = has_neighbor.sum(dim=0) / embeddings.shape[0]\n",
    "plt.plot(list(range(1, max_k + 1)), percentages)"
   ]
  },
  {
   "cell_type": "code",
   "execution_count": 34,
   "id": "egyptian-national",
   "metadata": {},
   "outputs": [
    {
     "data": {
      "text/plain": [
       "tensor([0.3008, 0.4253, 0.4988, 0.5510, 0.5902, 0.6221, 0.6489, 0.6723, 0.6924,\n",
       "        0.7108, 0.7271, 0.7420, 0.7554, 0.7672, 0.7775, 0.7872, 0.7960, 0.8041,\n",
       "        0.8117, 0.8188, 0.8253, 0.8312, 0.8370, 0.8424, 0.8475, 0.8521, 0.8567,\n",
       "        0.8612, 0.8651, 0.8692, 0.8727, 0.8760, 0.8792, 0.8821, 0.8851, 0.8881,\n",
       "        0.8910, 0.8935, 0.8959, 0.8982, 0.9008, 0.9030, 0.9053, 0.9072, 0.9091,\n",
       "        0.9109, 0.9128, 0.9147, 0.9162, 0.9180, 0.9197, 0.9213, 0.9227, 0.9243,\n",
       "        0.9257, 0.9271, 0.9285, 0.9301, 0.9315, 0.9328, 0.9342, 0.9354, 0.9366,\n",
       "        0.9377, 0.9387, 0.9399, 0.9408, 0.9417, 0.9428, 0.9436, 0.9446, 0.9455,\n",
       "        0.9463, 0.9473, 0.9482, 0.9491, 0.9501, 0.9509, 0.9518, 0.9527, 0.9535,\n",
       "        0.9543, 0.9550, 0.9558, 0.9566, 0.9573, 0.9584, 0.9592, 0.9601, 0.9609,\n",
       "        0.9618, 0.9625, 0.9632, 0.9639, 0.9645, 0.9652, 0.9658, 0.9666, 0.9672,\n",
       "        0.9678])"
      ]
     },
     "execution_count": 34,
     "metadata": {},
     "output_type": "execute_result"
    }
   ],
   "source": [
    "percentages"
   ]
  }
 ],
 "metadata": {
  "kernelspec": {
   "display_name": "Python 3",
   "language": "python",
   "name": "python3"
  },
  "language_info": {
   "codemirror_mode": {
    "name": "ipython",
    "version": 3
   },
   "file_extension": ".py",
   "mimetype": "text/x-python",
   "name": "python",
   "nbconvert_exporter": "python",
   "pygments_lexer": "ipython3",
   "version": "3.8.5"
  }
 },
 "nbformat": 4,
 "nbformat_minor": 5
}
