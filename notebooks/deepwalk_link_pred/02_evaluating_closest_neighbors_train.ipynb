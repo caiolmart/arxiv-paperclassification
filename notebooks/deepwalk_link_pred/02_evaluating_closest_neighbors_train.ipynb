{
 "cells": [
  {
   "cell_type": "code",
   "execution_count": 1,
   "id": "thousand-tuition",
   "metadata": {},
   "outputs": [],
   "source": [
    "import os"
   ]
  },
  {
   "cell_type": "code",
   "execution_count": 2,
   "id": "commercial-timer",
   "metadata": {},
   "outputs": [],
   "source": [
    "os.chdir('../..')"
   ]
  },
  {
   "cell_type": "code",
   "execution_count": 3,
   "id": "junior-pearl",
   "metadata": {},
   "outputs": [
    {
     "name": "stderr",
     "output_type": "stream",
     "text": [
      "Using backend: pytorch\n"
     ]
    }
   ],
   "source": [
    "import numpy as np\n",
    "import matplotlib.pyplot as plt\n",
    "import faiss\n",
    "import torch\n",
    "from ogb.nodeproppred import DglNodePropPredDataset"
   ]
  },
  {
   "cell_type": "code",
   "execution_count": 4,
   "id": "accepting-belfast",
   "metadata": {},
   "outputs": [],
   "source": [
    "dataset = DglNodePropPredDataset('ogbn-arxiv', root='data/dataset_dgl')\n",
    "graph = dataset[0][0]"
   ]
  },
  {
   "cell_type": "code",
   "execution_count": 5,
   "id": "tamil-startup",
   "metadata": {},
   "outputs": [],
   "source": [
    "output_emb_file = 'models/deepwalk_01_tr_embedding.npy'"
   ]
  },
  {
   "cell_type": "code",
   "execution_count": 6,
   "id": "formed-general",
   "metadata": {},
   "outputs": [
    {
     "data": {
      "text/plain": [
       "(87599, 50)"
      ]
     },
     "execution_count": 6,
     "metadata": {},
     "output_type": "execute_result"
    }
   ],
   "source": [
    "embeddings = np.load(output_emb_file)\n",
    "embeddings.shape"
   ]
  },
  {
   "cell_type": "markdown",
   "id": "mounted-relief",
   "metadata": {},
   "source": [
    "## Train graph"
   ]
  },
  {
   "cell_type": "code",
   "execution_count": 7,
   "id": "special-heater",
   "metadata": {},
   "outputs": [],
   "source": [
    "split_idx = dataset.get_idx_split()\n",
    "graph_train = graph.subgraph(split_idx['train'])\n",
    "graph_train.add_edges(graph_train.edges()[1], graph_train.edges()[0])\n",
    "mask_tensor = graph_train.out_degrees() > 0\n",
    "graph_train = graph_train.subgraph(mask_tensor)"
   ]
  },
  {
   "cell_type": "markdown",
   "id": "banner-printing",
   "metadata": {},
   "source": [
    "## L2 Distance"
   ]
  },
  {
   "cell_type": "code",
   "execution_count": 8,
   "id": "recorded-clarity",
   "metadata": {},
   "outputs": [],
   "source": [
    "index = faiss.IndexFlatL2(embeddings.shape[1])"
   ]
  },
  {
   "cell_type": "code",
   "execution_count": 9,
   "id": "injured-qatar",
   "metadata": {},
   "outputs": [],
   "source": [
    "index.train(embeddings)\n",
    "index.add(embeddings)"
   ]
  },
  {
   "cell_type": "code",
   "execution_count": 10,
   "id": "three-happening",
   "metadata": {},
   "outputs": [
    {
     "data": {
      "text/plain": [
       "<faiss.swigfaiss.IndexFlatL2; proxy of <Swig Object of type 'faiss::IndexFlatL2 *' at 0x7fdb88055c30> >"
      ]
     },
     "execution_count": 10,
     "metadata": {},
     "output_type": "execute_result"
    }
   ],
   "source": [
    "index"
   ]
  },
  {
   "cell_type": "code",
   "execution_count": 11,
   "id": "technical-german",
   "metadata": {},
   "outputs": [
    {
     "data": {
      "text/plain": [
       "87599"
      ]
     },
     "execution_count": 11,
     "metadata": {},
     "output_type": "execute_result"
    }
   ],
   "source": [
    "index.ntotal"
   ]
  },
  {
   "cell_type": "markdown",
   "id": "educated-watershed",
   "metadata": {},
   "source": [
    "### Check if the closest embedding is a neighbor"
   ]
  },
  {
   "cell_type": "code",
   "execution_count": 12,
   "id": "academic-plymouth",
   "metadata": {},
   "outputs": [],
   "source": [
    "distances, indices = index.search(embeddings, 2)"
   ]
  },
  {
   "cell_type": "code",
   "execution_count": 13,
   "id": "whole-growth",
   "metadata": {},
   "outputs": [
    {
     "data": {
      "text/plain": [
       "tensor(58180)"
      ]
     },
     "execution_count": 13,
     "metadata": {},
     "output_type": "execute_result"
    }
   ],
   "source": [
    "graph_train.has_edges_between(indices[:, 0], indices[:, 1]).sum()"
   ]
  },
  {
   "cell_type": "code",
   "execution_count": 14,
   "id": "figured-helmet",
   "metadata": {},
   "outputs": [
    {
     "data": {
      "text/plain": [
       "tensor(False)"
      ]
     },
     "execution_count": 14,
     "metadata": {},
     "output_type": "execute_result"
    }
   ],
   "source": [
    "graph_train.has_edges_between(indices[:, 0], indices[:, 1]).all()"
   ]
  },
  {
   "cell_type": "markdown",
   "id": "incoming-calgary",
   "metadata": {},
   "source": [
    "### Check if there is a neighbor in the n closest embeddings"
   ]
  },
  {
   "cell_type": "code",
   "execution_count": 15,
   "id": "funny-modem",
   "metadata": {},
   "outputs": [],
   "source": [
    "max_k = 100\n",
    "distances, indices = index.search(embeddings, max_k + 1)"
   ]
  },
  {
   "cell_type": "code",
   "execution_count": 16,
   "id": "future-bridal",
   "metadata": {},
   "outputs": [],
   "source": [
    "has_neighbor = torch.zeros((embeddings.shape[0], max_k))\n",
    "for j in range(max_k):\n",
    "    if j == 0:\n",
    "        has_neighbor[:, j] = graph_train.has_edges_between(indices[:, 0], indices[:, j + 1])\n",
    "    else:\n",
    "        has_neighbor[:, j] = torch.max(\n",
    "            has_neighbor[:, j - 1],\n",
    "            graph_train.has_edges_between(indices[:, 0], indices[:, j + 1]))"
   ]
  },
  {
   "cell_type": "code",
   "execution_count": 17,
   "id": "peripheral-wales",
   "metadata": {},
   "outputs": [
    {
     "data": {
      "text/plain": [
       "tensor([[1., 1., 1.,  ..., 1., 1., 1.],\n",
       "        [1., 1., 1.,  ..., 1., 1., 1.],\n",
       "        [0., 0., 0.,  ..., 1., 1., 1.],\n",
       "        ...,\n",
       "        [0., 0., 0.,  ..., 1., 1., 1.],\n",
       "        [1., 1., 1.,  ..., 1., 1., 1.],\n",
       "        [1., 1., 1.,  ..., 1., 1., 1.]])"
      ]
     },
     "execution_count": 17,
     "metadata": {},
     "output_type": "execute_result"
    }
   ],
   "source": [
    "has_neighbor"
   ]
  },
  {
   "cell_type": "code",
   "execution_count": 18,
   "id": "stainless-edition",
   "metadata": {},
   "outputs": [
    {
     "data": {
      "text/plain": [
       "[<matplotlib.lines.Line2D at 0x7fdb77f96280>]"
      ]
     },
     "execution_count": 18,
     "metadata": {},
     "output_type": "execute_result"
    },
    {
     "data": {
      "image/png": "[encoded data removed]",
      "text/plain": [
       "<Figure size 432x288 with 1 Axes>"
      ]
     },
     "metadata": {
      "needs_background": "light"
     },
     "output_type": "display_data"
    }
   ],
   "source": [
    "percentages = has_neighbor.sum(dim=0) / embeddings.shape[0]\n",
    "plt.plot(list(range(1, max_k + 1)), percentages)"
   ]
  },
  {
   "cell_type": "code",
   "execution_count": 19,
   "id": "nonprofit-synthetic",
   "metadata": {},
   "outputs": [
    {
     "data": {
      "text/plain": [
       "tensor([0.6642, 0.7976, 0.8536, 0.8836, 0.9030, 0.9170, 0.9275, 0.9359, 0.9422,\n",
       "        0.9474, 0.9518, 0.9555, 0.9586, 0.9617, 0.9644, 0.9673, 0.9692, 0.9710,\n",
       "        0.9728, 0.9743, 0.9756, 0.9767, 0.9777, 0.9788, 0.9797, 0.9808, 0.9817,\n",
       "        0.9826, 0.9832, 0.9838, 0.9845, 0.9850, 0.9856, 0.9861, 0.9866, 0.9873,\n",
       "        0.9877, 0.9881, 0.9885, 0.9890, 0.9894, 0.9896, 0.9899, 0.9901, 0.9904,\n",
       "        0.9907, 0.9909, 0.9912, 0.9915, 0.9918, 0.9919, 0.9921, 0.9923, 0.9925,\n",
       "        0.9928, 0.9930, 0.9932, 0.9934, 0.9936, 0.9937, 0.9939, 0.9941, 0.9942,\n",
       "        0.9943, 0.9944, 0.9945, 0.9947, 0.9948, 0.9949, 0.9950, 0.9952, 0.9953,\n",
       "        0.9954, 0.9955, 0.9956, 0.9957, 0.9958, 0.9960, 0.9961, 0.9962, 0.9962,\n",
       "        0.9963, 0.9963, 0.9964, 0.9965, 0.9966, 0.9966, 0.9966, 0.9967, 0.9967,\n",
       "        0.9968, 0.9968, 0.9969, 0.9970, 0.9970, 0.9971, 0.9971, 0.9971, 0.9973,\n",
       "        0.9973])"
      ]
     },
     "execution_count": 19,
     "metadata": {},
     "output_type": "execute_result"
    }
   ],
   "source": [
    "percentages"
   ]
  },
  {
   "cell_type": "code",
   "execution_count": 20,
   "id": "pointed-bulletin",
   "metadata": {},
   "outputs": [
    {
     "data": {
      "text/plain": [
       "tensor(0.9973)"
      ]
     },
     "execution_count": 20,
     "metadata": {},
     "output_type": "execute_result"
    }
   ],
   "source": [
    "percentages.max()"
   ]
  },
  {
   "cell_type": "markdown",
   "id": "continuous-washington",
   "metadata": {},
   "source": [
    "## Cossine Distance"
   ]
  },
  {
   "cell_type": "code",
   "execution_count": 21,
   "id": "common-annex",
   "metadata": {},
   "outputs": [],
   "source": [
    "emb_norm = embeddings / np.linalg.norm(embeddings, axis=1)[:, None]"
   ]
  },
  {
   "cell_type": "code",
   "execution_count": 22,
   "id": "daily-ambassador",
   "metadata": {},
   "outputs": [],
   "source": [
    "index_cos = faiss.IndexFlatIP(emb_norm.shape[1])"
   ]
  },
  {
   "cell_type": "code",
   "execution_count": 23,
   "id": "homeless-assignment",
   "metadata": {},
   "outputs": [],
   "source": [
    "index_cos.train(emb_norm)\n",
    "index_cos.add(emb_norm)"
   ]
  },
  {
   "cell_type": "code",
   "execution_count": 24,
   "id": "hawaiian-english",
   "metadata": {},
   "outputs": [
    {
     "data": {
      "text/plain": [
       "<faiss.swigfaiss.IndexFlatIP; proxy of <Swig Object of type 'faiss::IndexFlatIP *' at 0x7fdb77fb9510> >"
      ]
     },
     "execution_count": 24,
     "metadata": {},
     "output_type": "execute_result"
    }
   ],
   "source": [
    "index_cos"
   ]
  },
  {
   "cell_type": "code",
   "execution_count": 25,
   "id": "green-leader",
   "metadata": {},
   "outputs": [
    {
     "data": {
      "text/plain": [
       "87599"
      ]
     },
     "execution_count": 25,
     "metadata": {},
     "output_type": "execute_result"
    }
   ],
   "source": [
    "index_cos.ntotal"
   ]
  },
  {
   "cell_type": "markdown",
   "id": "registered-charity",
   "metadata": {},
   "source": [
    "### Check if the closest embedding is a neighbor"
   ]
  },
  {
   "cell_type": "code",
   "execution_count": 26,
   "id": "exposed-fraud",
   "metadata": {},
   "outputs": [],
   "source": [
    "distances, indices = index_cos.search(emb_norm, 2)"
   ]
  },
  {
   "cell_type": "code",
   "execution_count": 27,
   "id": "marine-batman",
   "metadata": {},
   "outputs": [
    {
     "data": {
      "text/plain": [
       "tensor(58268)"
      ]
     },
     "execution_count": 27,
     "metadata": {},
     "output_type": "execute_result"
    }
   ],
   "source": [
    "graph_train.has_edges_between(indices[:, 0], indices[:, 1]).sum()"
   ]
  },
  {
   "cell_type": "code",
   "execution_count": 28,
   "id": "beneficial-knock",
   "metadata": {},
   "outputs": [
    {
     "data": {
      "text/plain": [
       "tensor(False)"
      ]
     },
     "execution_count": 28,
     "metadata": {},
     "output_type": "execute_result"
    }
   ],
   "source": [
    "graph_train.has_edges_between(indices[:, 0], indices[:, 1]).all()"
   ]
  },
  {
   "cell_type": "markdown",
   "id": "missing-corps",
   "metadata": {},
   "source": [
    "### Check if there is a neighbor in the n closest embeddings"
   ]
  },
  {
   "cell_type": "code",
   "execution_count": 29,
   "id": "urban-swimming",
   "metadata": {},
   "outputs": [],
   "source": [
    "max_k = 100\n",
    "distances, indices = index.search(emb_norm, max_k + 1)"
   ]
  },
  {
   "cell_type": "code",
   "execution_count": 30,
   "id": "careful-astronomy",
   "metadata": {},
   "outputs": [],
   "source": [
    "has_neighbor = torch.zeros((emb_norm.shape[0], max_k))\n",
    "for j in range(max_k):\n",
    "    if j == 0:\n",
    "        has_neighbor[:, j] = graph_train.has_edges_between(indices[:, 0], indices[:, j + 1])\n",
    "    else:\n",
    "        has_neighbor[:, j] = torch.max(\n",
    "            has_neighbor[:, j - 1],\n",
    "            graph_train.has_edges_between(indices[:, 0], indices[:, j + 1]))"
   ]
  },
  {
   "cell_type": "code",
   "execution_count": 31,
   "id": "given-temperature",
   "metadata": {},
   "outputs": [
    {
     "data": {
      "text/plain": [
       "tensor([[0., 1., 1.,  ..., 1., 1., 1.],\n",
       "        [0., 0., 0.,  ..., 1., 1., 1.],\n",
       "        [0., 0., 0.,  ..., 1., 1., 1.],\n",
       "        ...,\n",
       "        [0., 0., 0.,  ..., 1., 1., 1.],\n",
       "        [0., 0., 0.,  ..., 1., 1., 1.],\n",
       "        [1., 1., 1.,  ..., 1., 1., 1.]])"
      ]
     },
     "execution_count": 31,
     "metadata": {},
     "output_type": "execute_result"
    }
   ],
   "source": [
    "has_neighbor"
   ]
  },
  {
   "cell_type": "code",
   "execution_count": 32,
   "id": "flush-thumb",
   "metadata": {},
   "outputs": [
    {
     "data": {
      "text/plain": [
       "[<matplotlib.lines.Line2D at 0x7fdb77ef4af0>]"
      ]
     },
     "execution_count": 32,
     "metadata": {},
     "output_type": "execute_result"
    },
    {
     "data": {
      "image/png": "[encoded data removed]",
      "text/plain": [
       "<Figure size 432x288 with 1 Axes>"
      ]
     },
     "metadata": {
      "needs_background": "light"
     },
     "output_type": "display_data"
    }
   ],
   "source": [
    "percentages = has_neighbor.sum(dim=0) / embeddings.shape[0]\n",
    "plt.plot(list(range(1, max_k + 1)), percentages)"
   ]
  },
  {
   "cell_type": "code",
   "execution_count": 33,
   "id": "egyptian-national",
   "metadata": {},
   "outputs": [
    {
     "data": {
      "text/plain": [
       "tensor([0.3947, 0.5418, 0.6210, 0.6722, 0.7060, 0.7326, 0.7538, 0.7719, 0.7881,\n",
       "        0.8019, 0.8139, 0.8238, 0.8336, 0.8436, 0.8523, 0.8600, 0.8679, 0.8742,\n",
       "        0.8805, 0.8859, 0.8913, 0.8966, 0.9008, 0.9044, 0.9077, 0.9112, 0.9146,\n",
       "        0.9177, 0.9206, 0.9238, 0.9267, 0.9295, 0.9321, 0.9341, 0.9363, 0.9386,\n",
       "        0.9406, 0.9424, 0.9441, 0.9460, 0.9474, 0.9489, 0.9503, 0.9516, 0.9530,\n",
       "        0.9542, 0.9556, 0.9570, 0.9584, 0.9598, 0.9611, 0.9625, 0.9637, 0.9649,\n",
       "        0.9660, 0.9669, 0.9679, 0.9688, 0.9699, 0.9708, 0.9714, 0.9721, 0.9730,\n",
       "        0.9737, 0.9746, 0.9754, 0.9761, 0.9770, 0.9775, 0.9783, 0.9789, 0.9795,\n",
       "        0.9799, 0.9804, 0.9810, 0.9815, 0.9822, 0.9827, 0.9833, 0.9837, 0.9844,\n",
       "        0.9848, 0.9853, 0.9858, 0.9863, 0.9866, 0.9871, 0.9875, 0.9878, 0.9882,\n",
       "        0.9886, 0.9890, 0.9893, 0.9896, 0.9899, 0.9902, 0.9905, 0.9907, 0.9910,\n",
       "        0.9913])"
      ]
     },
     "execution_count": 33,
     "metadata": {},
     "output_type": "execute_result"
    }
   ],
   "source": [
    "percentages"
   ]
  }
 ],
 "metadata": {
  "kernelspec": {
   "display_name": "Python 3",
   "language": "python",
   "name": "python3"
  },
  "language_info": {
   "codemirror_mode": {
    "name": "ipython",
    "version": 3
   },
   "file_extension": ".py",
   "mimetype": "text/x-python",
   "name": "python",
   "nbconvert_exporter": "python",
   "pygments_lexer": "ipython3",
   "version": "3.8.5"
  }
 },
 "nbformat": 4,
 "nbformat_minor": 5
}
