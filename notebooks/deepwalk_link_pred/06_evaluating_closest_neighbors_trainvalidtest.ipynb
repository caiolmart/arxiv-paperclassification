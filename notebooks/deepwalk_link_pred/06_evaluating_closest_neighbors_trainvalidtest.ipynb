{
 "cells": [
  {
   "cell_type": "code",
   "execution_count": 1,
   "id": "thousand-tuition",
   "metadata": {},
   "outputs": [],
   "source": [
    "import os"
   ]
  },
  {
   "cell_type": "code",
   "execution_count": 2,
   "id": "commercial-timer",
   "metadata": {},
   "outputs": [],
   "source": [
    "os.chdir('../..')"
   ]
  },
  {
   "cell_type": "code",
   "execution_count": 3,
   "id": "junior-pearl",
   "metadata": {},
   "outputs": [
    {
     "name": "stderr",
     "output_type": "stream",
     "text": [
      "Using backend: pytorch\n"
     ]
    }
   ],
   "source": [
    "import numpy as np\n",
    "import matplotlib.pyplot as plt\n",
    "import faiss\n",
    "import torch\n",
    "from ogb.nodeproppred import DglNodePropPredDataset"
   ]
  },
  {
   "cell_type": "code",
   "execution_count": 4,
   "id": "accepting-belfast",
   "metadata": {},
   "outputs": [],
   "source": [
    "dataset = DglNodePropPredDataset('ogbn-arxiv', root='data/dataset_dgl')\n",
    "graph = dataset[0][0]"
   ]
  },
  {
   "cell_type": "code",
   "execution_count": 5,
   "id": "tamil-startup",
   "metadata": {},
   "outputs": [],
   "source": [
    "output_emb_file = 'models/deepwalk_05_trvlts_embedding.npy'"
   ]
  },
  {
   "cell_type": "code",
   "execution_count": 6,
   "id": "formed-general",
   "metadata": {},
   "outputs": [
    {
     "data": {
      "text/plain": [
       "(169343, 50)"
      ]
     },
     "execution_count": 6,
     "metadata": {},
     "output_type": "execute_result"
    }
   ],
   "source": [
    "embeddings = np.load(output_emb_file)\n",
    "embeddings.shape"
   ]
  },
  {
   "cell_type": "markdown",
   "id": "banner-printing",
   "metadata": {},
   "source": [
    "## L2 Distance"
   ]
  },
  {
   "cell_type": "code",
   "execution_count": 7,
   "id": "recorded-clarity",
   "metadata": {},
   "outputs": [],
   "source": [
    "index = faiss.IndexFlatL2(embeddings.shape[1])"
   ]
  },
  {
   "cell_type": "code",
   "execution_count": 8,
   "id": "injured-qatar",
   "metadata": {},
   "outputs": [],
   "source": [
    "index.train(embeddings)\n",
    "index.add(embeddings)"
   ]
  },
  {
   "cell_type": "code",
   "execution_count": 9,
   "id": "three-happening",
   "metadata": {},
   "outputs": [
    {
     "data": {
      "text/plain": [
       "<faiss.swigfaiss.IndexFlatL2; proxy of <Swig Object of type 'faiss::IndexFlatL2 *' at 0x7f2cc89842a0> >"
      ]
     },
     "execution_count": 9,
     "metadata": {},
     "output_type": "execute_result"
    }
   ],
   "source": [
    "index"
   ]
  },
  {
   "cell_type": "code",
   "execution_count": 10,
   "id": "technical-german",
   "metadata": {},
   "outputs": [
    {
     "data": {
      "text/plain": [
       "169343"
      ]
     },
     "execution_count": 10,
     "metadata": {},
     "output_type": "execute_result"
    }
   ],
   "source": [
    "index.ntotal"
   ]
  },
  {
   "cell_type": "markdown",
   "id": "educated-watershed",
   "metadata": {},
   "source": [
    "### Check if the closest embedding is a neighbor"
   ]
  },
  {
   "cell_type": "code",
   "execution_count": 11,
   "id": "academic-plymouth",
   "metadata": {},
   "outputs": [],
   "source": [
    "distances, indices = index.search(embeddings, 2)"
   ]
  },
  {
   "cell_type": "code",
   "execution_count": 12,
   "id": "whole-growth",
   "metadata": {},
   "outputs": [
    {
     "data": {
      "text/plain": [
       "tensor(53615)"
      ]
     },
     "execution_count": 12,
     "metadata": {},
     "output_type": "execute_result"
    }
   ],
   "source": [
    "graph.has_edges_between(indices[:, 0], indices[:, 1]).sum()"
   ]
  },
  {
   "cell_type": "code",
   "execution_count": 13,
   "id": "figured-helmet",
   "metadata": {},
   "outputs": [
    {
     "data": {
      "text/plain": [
       "tensor(False)"
      ]
     },
     "execution_count": 13,
     "metadata": {},
     "output_type": "execute_result"
    }
   ],
   "source": [
    "graph.has_edges_between(indices[:, 0], indices[:, 1]).all()"
   ]
  },
  {
   "cell_type": "markdown",
   "id": "incoming-calgary",
   "metadata": {},
   "source": [
    "### Check if there is a neighbor in the n closest embeddings"
   ]
  },
  {
   "cell_type": "code",
   "execution_count": 14,
   "id": "funny-modem",
   "metadata": {},
   "outputs": [],
   "source": [
    "max_k = 100\n",
    "distances, indices = index.search(embeddings, max_k + 1)"
   ]
  },
  {
   "cell_type": "code",
   "execution_count": 15,
   "id": "future-bridal",
   "metadata": {},
   "outputs": [],
   "source": [
    "has_neighbor = torch.zeros((embeddings.shape[0], max_k))\n",
    "for j in range(max_k):\n",
    "    if j == 0:\n",
    "        has_neighbor[:, j] = graph.has_edges_between(indices[:, 0], indices[:, j + 1])\n",
    "    else:\n",
    "        has_neighbor[:, j] = torch.max(\n",
    "            has_neighbor[:, j - 1],\n",
    "            graph.has_edges_between(indices[:, 0], indices[:, j + 1]))"
   ]
  },
  {
   "cell_type": "code",
   "execution_count": 16,
   "id": "peripheral-wales",
   "metadata": {},
   "outputs": [
    {
     "data": {
      "text/plain": [
       "tensor([[0., 0., 0.,  ..., 0., 0., 0.],\n",
       "        [0., 0., 1.,  ..., 1., 1., 1.],\n",
       "        [0., 0., 0.,  ..., 1., 1., 1.],\n",
       "        ...,\n",
       "        [0., 0., 0.,  ..., 1., 1., 1.],\n",
       "        [0., 0., 0.,  ..., 1., 1., 1.],\n",
       "        [0., 0., 0.,  ..., 1., 1., 1.]])"
      ]
     },
     "execution_count": 16,
     "metadata": {},
     "output_type": "execute_result"
    }
   ],
   "source": [
    "has_neighbor"
   ]
  },
  {
   "cell_type": "code",
   "execution_count": 17,
   "id": "stainless-edition",
   "metadata": {},
   "outputs": [
    {
     "data": {
      "text/plain": [
       "[<matplotlib.lines.Line2D at 0x7f2bda0aa5b0>]"
      ]
     },
     "execution_count": 17,
     "metadata": {},
     "output_type": "execute_result"
    },
    {
     "data": {
      "image/png": "[encoded data removed]",
      "text/plain": [
       "<Figure size 432x288 with 1 Axes>"
      ]
     },
     "metadata": {
      "needs_background": "light"
     },
     "output_type": "display_data"
    }
   ],
   "source": [
    "percentages = has_neighbor.sum(dim=0) / embeddings.shape[0]\n",
    "plt.plot(list(range(1, max_k + 1)), percentages)"
   ]
  },
  {
   "cell_type": "code",
   "execution_count": 18,
   "id": "nonprofit-synthetic",
   "metadata": {},
   "outputs": [
    {
     "data": {
      "text/plain": [
       "tensor([0.3166, 0.4534, 0.5311, 0.5817, 0.6174, 0.6444, 0.6662, 0.6843, 0.6992,\n",
       "        0.7118, 0.7223, 0.7320, 0.7406, 0.7482, 0.7553, 0.7613, 0.7669, 0.7718,\n",
       "        0.7764, 0.7809, 0.7852, 0.7891, 0.7927, 0.7959, 0.7990, 0.8020, 0.8048,\n",
       "        0.8076, 0.8098, 0.8120, 0.8143, 0.8165, 0.8185, 0.8205, 0.8221, 0.8239,\n",
       "        0.8256, 0.8272, 0.8287, 0.8303, 0.8317, 0.8329, 0.8341, 0.8353, 0.8365,\n",
       "        0.8376, 0.8387, 0.8396, 0.8406, 0.8417, 0.8426, 0.8435, 0.8443, 0.8451,\n",
       "        0.8458, 0.8466, 0.8473, 0.8481, 0.8488, 0.8494, 0.8502, 0.8510, 0.8518,\n",
       "        0.8525, 0.8533, 0.8538, 0.8545, 0.8550, 0.8556, 0.8562, 0.8568, 0.8574,\n",
       "        0.8579, 0.8585, 0.8590, 0.8596, 0.8600, 0.8604, 0.8609, 0.8613, 0.8617,\n",
       "        0.8622, 0.8626, 0.8630, 0.8634, 0.8638, 0.8642, 0.8645, 0.8648, 0.8651,\n",
       "        0.8655, 0.8658, 0.8661, 0.8665, 0.8669, 0.8671, 0.8674, 0.8677, 0.8679,\n",
       "        0.8682])"
      ]
     },
     "execution_count": 18,
     "metadata": {},
     "output_type": "execute_result"
    }
   ],
   "source": [
    "percentages"
   ]
  },
  {
   "cell_type": "code",
   "execution_count": 19,
   "id": "pointed-bulletin",
   "metadata": {},
   "outputs": [
    {
     "data": {
      "text/plain": [
       "tensor(0.8682)"
      ]
     },
     "execution_count": 19,
     "metadata": {},
     "output_type": "execute_result"
    }
   ],
   "source": [
    "percentages.max()"
   ]
  },
  {
   "cell_type": "markdown",
   "id": "continuous-washington",
   "metadata": {},
   "source": [
    "## Cossine Distance"
   ]
  },
  {
   "cell_type": "code",
   "execution_count": 20,
   "id": "common-annex",
   "metadata": {},
   "outputs": [],
   "source": [
    "emb_norm = embeddings / np.linalg.norm(embeddings, axis=1)[:, None]"
   ]
  },
  {
   "cell_type": "code",
   "execution_count": 21,
   "id": "daily-ambassador",
   "metadata": {},
   "outputs": [],
   "source": [
    "index_cos = faiss.IndexFlatIP(emb_norm.shape[1])"
   ]
  },
  {
   "cell_type": "code",
   "execution_count": 22,
   "id": "homeless-assignment",
   "metadata": {},
   "outputs": [],
   "source": [
    "index_cos.train(emb_norm)\n",
    "index_cos.add(emb_norm)"
   ]
  },
  {
   "cell_type": "code",
   "execution_count": 23,
   "id": "hawaiian-english",
   "metadata": {},
   "outputs": [
    {
     "data": {
      "text/plain": [
       "<faiss.swigfaiss.IndexFlatIP; proxy of <Swig Object of type 'faiss::IndexFlatIP *' at 0x7f2be461fe70> >"
      ]
     },
     "execution_count": 23,
     "metadata": {},
     "output_type": "execute_result"
    }
   ],
   "source": [
    "index_cos"
   ]
  },
  {
   "cell_type": "code",
   "execution_count": 24,
   "id": "green-leader",
   "metadata": {},
   "outputs": [
    {
     "data": {
      "text/plain": [
       "169343"
      ]
     },
     "execution_count": 24,
     "metadata": {},
     "output_type": "execute_result"
    }
   ],
   "source": [
    "index_cos.ntotal"
   ]
  },
  {
   "cell_type": "markdown",
   "id": "registered-charity",
   "metadata": {},
   "source": [
    "### Check if the closest embedding is a neighbor"
   ]
  },
  {
   "cell_type": "code",
   "execution_count": 25,
   "id": "exposed-fraud",
   "metadata": {},
   "outputs": [],
   "source": [
    "distances, indices = index_cos.search(emb_norm, 2)"
   ]
  },
  {
   "cell_type": "code",
   "execution_count": 26,
   "id": "marine-batman",
   "metadata": {},
   "outputs": [
    {
     "data": {
      "text/plain": [
       "tensor(54006)"
      ]
     },
     "execution_count": 26,
     "metadata": {},
     "output_type": "execute_result"
    }
   ],
   "source": [
    "graph.has_edges_between(indices[:, 0], indices[:, 1]).sum()"
   ]
  },
  {
   "cell_type": "code",
   "execution_count": 27,
   "id": "beneficial-knock",
   "metadata": {},
   "outputs": [
    {
     "data": {
      "text/plain": [
       "tensor(False)"
      ]
     },
     "execution_count": 27,
     "metadata": {},
     "output_type": "execute_result"
    }
   ],
   "source": [
    "graph.has_edges_between(indices[:, 0], indices[:, 1]).all()"
   ]
  },
  {
   "cell_type": "markdown",
   "id": "missing-corps",
   "metadata": {},
   "source": [
    "### Check if there is a neighbor in the n closest embeddings"
   ]
  },
  {
   "cell_type": "code",
   "execution_count": 28,
   "id": "urban-swimming",
   "metadata": {},
   "outputs": [],
   "source": [
    "max_k = 100\n",
    "distances, indices = index.search(emb_norm, max_k + 1)"
   ]
  },
  {
   "cell_type": "code",
   "execution_count": 29,
   "id": "careful-astronomy",
   "metadata": {},
   "outputs": [],
   "source": [
    "has_neighbor = torch.zeros((emb_norm.shape[0], max_k))\n",
    "for j in range(max_k):\n",
    "    if j == 0:\n",
    "        has_neighbor[:, j] = graph.has_edges_between(indices[:, 0], indices[:, j + 1])\n",
    "    else:\n",
    "        has_neighbor[:, j] = torch.max(\n",
    "            has_neighbor[:, j - 1],\n",
    "            graph.has_edges_between(indices[:, 0], indices[:, j + 1]))"
   ]
  },
  {
   "cell_type": "code",
   "execution_count": 30,
   "id": "given-temperature",
   "metadata": {},
   "outputs": [
    {
     "data": {
      "text/plain": [
       "tensor([[0., 0., 0.,  ..., 1., 1., 1.],\n",
       "        [0., 0., 1.,  ..., 1., 1., 1.],\n",
       "        [0., 0., 0.,  ..., 1., 1., 1.],\n",
       "        ...,\n",
       "        [1., 1., 1.,  ..., 1., 1., 1.],\n",
       "        [0., 0., 0.,  ..., 1., 1., 1.],\n",
       "        [0., 0., 0.,  ..., 1., 1., 1.]])"
      ]
     },
     "execution_count": 30,
     "metadata": {},
     "output_type": "execute_result"
    }
   ],
   "source": [
    "has_neighbor"
   ]
  },
  {
   "cell_type": "code",
   "execution_count": 31,
   "id": "flush-thumb",
   "metadata": {},
   "outputs": [
    {
     "data": {
      "text/plain": [
       "[<matplotlib.lines.Line2D at 0x7f2bd9f94220>]"
      ]
     },
     "execution_count": 31,
     "metadata": {},
     "output_type": "execute_result"
    },
    {
     "data": {
      "image/png": "[encoded data removed]",
      "text/plain": [
       "<Figure size 432x288 with 1 Axes>"
      ]
     },
     "metadata": {
      "needs_background": "light"
     },
     "output_type": "display_data"
    }
   ],
   "source": [
    "percentages = has_neighbor.sum(dim=0) / embeddings.shape[0]\n",
    "plt.plot(list(range(1, max_k + 1)), percentages)"
   ]
  },
  {
   "cell_type": "code",
   "execution_count": 32,
   "id": "egyptian-national",
   "metadata": {},
   "outputs": [
    {
     "data": {
      "text/plain": [
       "tensor([0.1217, 0.2078, 0.2716, 0.3212, 0.3616, 0.3951, 0.4224, 0.4467, 0.4686,\n",
       "        0.4887, 0.5073, 0.5244, 0.5398, 0.5550, 0.5693, 0.5827, 0.5956, 0.6078,\n",
       "        0.6194, 0.6303, 0.6406, 0.6504, 0.6598, 0.6687, 0.6768, 0.6848, 0.6922,\n",
       "        0.6991, 0.7058, 0.7126, 0.7189, 0.7246, 0.7302, 0.7358, 0.7411, 0.7464,\n",
       "        0.7509, 0.7554, 0.7597, 0.7638, 0.7679, 0.7717, 0.7750, 0.7787, 0.7819,\n",
       "        0.7850, 0.7881, 0.7910, 0.7939, 0.7965, 0.7991, 0.8018, 0.8041, 0.8064,\n",
       "        0.8089, 0.8111, 0.8133, 0.8155, 0.8173, 0.8192, 0.8208, 0.8226, 0.8244,\n",
       "        0.8259, 0.8274, 0.8291, 0.8307, 0.8321, 0.8334, 0.8347, 0.8360, 0.8372,\n",
       "        0.8384, 0.8398, 0.8411, 0.8422, 0.8434, 0.8446, 0.8458, 0.8469, 0.8480,\n",
       "        0.8490, 0.8499, 0.8507, 0.8518, 0.8529, 0.8538, 0.8548, 0.8557, 0.8565,\n",
       "        0.8573, 0.8581, 0.8590, 0.8598, 0.8607, 0.8615, 0.8623, 0.8632, 0.8641,\n",
       "        0.8648])"
      ]
     },
     "execution_count": 32,
     "metadata": {},
     "output_type": "execute_result"
    }
   ],
   "source": [
    "percentages"
   ]
  }
 ],
 "metadata": {
  "kernelspec": {
   "display_name": "Python 3",
   "language": "python",
   "name": "python3"
  },
  "language_info": {
   "codemirror_mode": {
    "name": "ipython",
    "version": 3
   },
   "file_extension": ".py",
   "mimetype": "text/x-python",
   "name": "python",
   "nbconvert_exporter": "python",
   "pygments_lexer": "ipython3",
   "version": "3.8.5"
  }
 },
 "nbformat": 4,
 "nbformat_minor": 5
}
