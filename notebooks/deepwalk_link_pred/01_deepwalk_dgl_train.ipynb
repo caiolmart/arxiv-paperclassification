{
 "cells": [
  {
   "cell_type": "code",
   "execution_count": 1,
   "metadata": {},
   "outputs": [],
   "source": [
    "import os"
   ]
  },
  {
   "cell_type": "code",
   "execution_count": 2,
   "metadata": {},
   "outputs": [],
   "source": [
    "os.chdir('../..')"
   ]
  },
  {
   "cell_type": "code",
   "execution_count": 3,
   "metadata": {},
   "outputs": [
    {
     "name": "stderr",
     "output_type": "stream",
     "text": [
      "Using backend: pytorch\n"
     ]
    }
   ],
   "source": [
    "from ogb.nodeproppred import DglNodePropPredDataset\n",
    "import dgl\n",
    "import torch"
   ]
  },
  {
   "cell_type": "code",
   "execution_count": 4,
   "metadata": {},
   "outputs": [],
   "source": [
    "dataset = DglNodePropPredDataset('ogbn-arxiv', root='data/dataset_dgl')"
   ]
  },
  {
   "cell_type": "code",
   "execution_count": 5,
   "metadata": {},
   "outputs": [
    {
     "data": {
      "text/plain": [
       "DglNodePropPredDataset(1)"
      ]
     },
     "execution_count": 5,
     "metadata": {},
     "output_type": "execute_result"
    }
   ],
   "source": [
    "dataset"
   ]
  },
  {
   "cell_type": "code",
   "execution_count": 6,
   "metadata": {},
   "outputs": [],
   "source": [
    "graph = dataset[0][0]"
   ]
  },
  {
   "cell_type": "code",
   "execution_count": 7,
   "metadata": {},
   "outputs": [
    {
     "data": {
      "text/plain": [
       "169343"
      ]
     },
     "execution_count": 7,
     "metadata": {},
     "output_type": "execute_result"
    }
   ],
   "source": [
    "graph.number_of_nodes()"
   ]
  },
  {
   "cell_type": "code",
   "execution_count": 8,
   "metadata": {},
   "outputs": [
    {
     "data": {
      "text/plain": [
       "1166243"
      ]
     },
     "execution_count": 8,
     "metadata": {},
     "output_type": "execute_result"
    }
   ],
   "source": [
    "graph.number_of_edges()"
   ]
  },
  {
   "cell_type": "code",
   "execution_count": 9,
   "metadata": {},
   "outputs": [
    {
     "data": {
      "text/plain": [
       "(tensor([104447,  15858, 107156,  ...,  45118,  45118,  45118]),\n",
       " tensor([ 13091,  47283,  69161,  ..., 162473, 162537,  72717]))"
      ]
     },
     "execution_count": 9,
     "metadata": {},
     "output_type": "execute_result"
    }
   ],
   "source": [
    "graph.edges()"
   ]
  },
  {
   "cell_type": "code",
   "execution_count": 10,
   "metadata": {
    "scrolled": true
   },
   "outputs": [
    {
     "data": {
      "text/plain": [
       "tensor(False)"
      ]
     },
     "execution_count": 10,
     "metadata": {},
     "output_type": "execute_result"
    }
   ],
   "source": [
    "graph.has_edges_between(graph.edges()[1], graph.edges()[0]).all()"
   ]
  },
  {
   "cell_type": "code",
   "execution_count": 11,
   "metadata": {
    "scrolled": true
   },
   "outputs": [
    {
     "data": {
      "text/plain": [
       "tensor(16888)"
      ]
     },
     "execution_count": 11,
     "metadata": {},
     "output_type": "execute_result"
    }
   ],
   "source": [
    "graph.has_edges_between(graph.edges()[1], graph.edges()[0]).sum()"
   ]
  },
  {
   "cell_type": "code",
   "execution_count": 12,
   "metadata": {},
   "outputs": [
    {
     "data": {
      "text/plain": [
       "{'train': tensor([     0,      1,      2,  ..., 169145, 169148, 169251]),\n",
       " 'valid': tensor([   349,    357,    366,  ..., 169185, 169261, 169296]),\n",
       " 'test': tensor([   346,    398,    451,  ..., 169340, 169341, 169342])}"
      ]
     },
     "execution_count": 12,
     "metadata": {},
     "output_type": "execute_result"
    }
   ],
   "source": [
    "split_idx = dataset.get_idx_split()\n",
    "split_idx"
   ]
  },
  {
   "cell_type": "markdown",
   "metadata": {},
   "source": [
    "## Train Embedding"
   ]
  },
  {
   "cell_type": "code",
   "execution_count": 13,
   "metadata": {},
   "outputs": [],
   "source": [
    "graph_train = graph.subgraph(split_idx['train'])"
   ]
  },
  {
   "cell_type": "code",
   "execution_count": 14,
   "metadata": {},
   "outputs": [
    {
     "data": {
      "text/plain": [
       "Graph(num_nodes=90941, num_edges=749678,\n",
       "      ndata_schemes={'year': Scheme(shape=(1,), dtype=torch.int64), 'feat': Scheme(shape=(128,), dtype=torch.float32), '_ID': Scheme(shape=(), dtype=torch.int64)}\n",
       "      edata_schemes={'_ID': Scheme(shape=(), dtype=torch.int64)})"
      ]
     },
     "execution_count": 14,
     "metadata": {},
     "output_type": "execute_result"
    }
   ],
   "source": [
    "graph_train.add_edges(graph_train.edges()[1], graph_train.edges()[0])\n",
    "graph_train"
   ]
  },
  {
   "cell_type": "code",
   "execution_count": 15,
   "metadata": {},
   "outputs": [
    {
     "data": {
      "text/plain": [
       "Graph(num_nodes=87599, num_edges=749678,\n",
       "      ndata_schemes={'year': Scheme(shape=(1,), dtype=torch.int64), 'feat': Scheme(shape=(128,), dtype=torch.float32), '_ID': Scheme(shape=(), dtype=torch.int64)}\n",
       "      edata_schemes={'_ID': Scheme(shape=(), dtype=torch.int64)})"
      ]
     },
     "execution_count": 15,
     "metadata": {},
     "output_type": "execute_result"
    }
   ],
   "source": [
    "mask_tensor = graph_train.out_degrees() > 0\n",
    "graph_train = graph_train.subgraph(mask_tensor)\n",
    "graph_train"
   ]
  },
  {
   "cell_type": "code",
   "execution_count": 16,
   "metadata": {},
   "outputs": [],
   "source": [
    "device = 0"
   ]
  },
  {
   "cell_type": "code",
   "execution_count": 17,
   "metadata": {},
   "outputs": [],
   "source": [
    "dim = 50\n",
    "walk_length = 30\n",
    "window_size = 2\n",
    "batch_size = 160\n",
    "only_cpu = True\n",
    "only_gpu = False\n",
    "mix = False\n",
    "neg_weight = 1.\n",
    "negative = 1\n",
    "lr = 0.1\n",
    "lap_norm = 0.05\n",
    "fast_neg = False\n",
    "print_loss = True\n",
    "norm = False\n",
    "use_context_weight = False\n",
    "async_update = False\n",
    "num_threads = 16\n",
    "gpus = [-1]\n",
    "count_params = False\n",
    "num_walks = 30\n",
    "num_sampler_threads = 0\n",
    "print_interval = 2000\n",
    "save_in_txt = False\n",
    "save_in_pt = False\n",
    "output_emb_file = 'models/deepwalk_01_tr_embedding.npy'"
   ]
  },
  {
   "cell_type": "code",
   "execution_count": 18,
   "metadata": {},
   "outputs": [],
   "source": [
    "from notebooks.deepwalk_link_pred.src.deepwalk import DeepwalkTrainer"
   ]
  },
  {
   "cell_type": "code",
   "execution_count": 19,
   "metadata": {
    "scrolled": true
   },
   "outputs": [
    {
     "name": "stdout",
     "output_type": "stream",
     "text": [
      "2627970 seeds in 0.10s\n"
     ]
    }
   ],
   "source": [
    "trainer = DeepwalkTrainer(\n",
    "    graph=graph_train,\n",
    "    device=device,\n",
    "    dim=dim,\n",
    "    walk_length=walk_length,\n",
    "    window_size=window_size,\n",
    "    batch_size=batch_size,\n",
    "    only_cpu=only_cpu,\n",
    "    only_gpu=only_gpu,\n",
    "    mix=mix,\n",
    "    neg_weight=neg_weight,\n",
    "    negative=negative,\n",
    "    lr=lr,\n",
    "    lap_norm=lap_norm,\n",
    "    fast_neg=fast_neg,\n",
    "    print_loss=print_loss,\n",
    "    norm=norm,\n",
    "    use_context_weight=use_context_weight,\n",
    "    async_update=async_update,\n",
    "    num_threads=num_threads,\n",
    "    gpus=gpus,\n",
    "    count_params=count_params,\n",
    "    num_walks=num_walks,\n",
    "    num_sampler_threads=num_sampler_threads,\n",
    "    print_interval=print_interval,\n",
    "    save_in_txt=save_in_txt,\n",
    "    save_in_pt=save_in_pt,\n",
    "    output_emb_file=output_emb_file,\n",
    ")"
   ]
  },
  {
   "cell_type": "code",
   "execution_count": 20,
   "metadata": {},
   "outputs": [
    {
     "name": "stdout",
     "output_type": "stream",
     "text": [
      "Run in CPU process\n",
      "num batchs: 16425\n",
      "\n",
      "Batch 2000 training time: 44.23s loss: 0.5693\n",
      "Batch 4000 training time: 43.40s loss: 0.3015\n",
      "Batch 6000 training time: 43.32s loss: 0.2805\n",
      "Batch 8000 training time: 43.60s loss: 0.2747\n",
      "Batch 10000 training time: 43.60s loss: 0.2711\n",
      "Batch 12000 training time: 44.24s loss: 0.2689\n",
      "Batch 14000 training time: 44.36s loss: 0.2673\n",
      "Batch 16000 training time: 44.72s loss: 0.2662\n",
      "Training used time: 360.67s\n"
     ]
    }
   ],
   "source": [
    "trainer.train()"
   ]
  }
 ],
 "metadata": {
  "kernelspec": {
   "display_name": "Python 3",
   "language": "python",
   "name": "python3"
  },
  "language_info": {
   "codemirror_mode": {
    "name": "ipython",
    "version": 3
   },
   "file_extension": ".py",
   "mimetype": "text/x-python",
   "name": "python",
   "nbconvert_exporter": "python",
   "pygments_lexer": "ipython3",
   "version": "3.8.5"
  }
 },
 "nbformat": 4,
 "nbformat_minor": 4
}
