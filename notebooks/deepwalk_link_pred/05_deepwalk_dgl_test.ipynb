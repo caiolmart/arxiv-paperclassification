{
 "cells": [
  {
   "cell_type": "code",
   "execution_count": 1,
   "metadata": {},
   "outputs": [],
   "source": [
    "import os"
   ]
  },
  {
   "cell_type": "code",
   "execution_count": 2,
   "metadata": {},
   "outputs": [],
   "source": [
    "os.chdir('../..')"
   ]
  },
  {
   "cell_type": "code",
   "execution_count": 3,
   "metadata": {},
   "outputs": [
    {
     "name": "stderr",
     "output_type": "stream",
     "text": [
      "Using backend: pytorch\n"
     ]
    }
   ],
   "source": [
    "from ogb.nodeproppred import DglNodePropPredDataset\n",
    "import dgl\n",
    "import torch"
   ]
  },
  {
   "cell_type": "code",
   "execution_count": 4,
   "metadata": {},
   "outputs": [],
   "source": [
    "dataset = DglNodePropPredDataset('ogbn-arxiv', root='data/dataset_dgl')"
   ]
  },
  {
   "cell_type": "code",
   "execution_count": 5,
   "metadata": {},
   "outputs": [
    {
     "data": {
      "text/plain": [
       "DglNodePropPredDataset(1)"
      ]
     },
     "execution_count": 5,
     "metadata": {},
     "output_type": "execute_result"
    }
   ],
   "source": [
    "dataset"
   ]
  },
  {
   "cell_type": "code",
   "execution_count": 6,
   "metadata": {},
   "outputs": [],
   "source": [
    "graph = dataset[0][0]"
   ]
  },
  {
   "cell_type": "markdown",
   "metadata": {},
   "source": [
    "#### Symmetric"
   ]
  },
  {
   "cell_type": "code",
   "execution_count": 7,
   "metadata": {},
   "outputs": [
    {
     "data": {
      "text/plain": [
       "Graph(num_nodes=169343, num_edges=2332486,\n",
       "      ndata_schemes={'year': Scheme(shape=(1,), dtype=torch.int64), 'feat': Scheme(shape=(128,), dtype=torch.float32)}\n",
       "      edata_schemes={})"
      ]
     },
     "execution_count": 7,
     "metadata": {},
     "output_type": "execute_result"
    }
   ],
   "source": [
    "graph.add_edges(graph.edges()[1], graph.edges()[0])\n",
    "graph"
   ]
  },
  {
   "cell_type": "markdown",
   "metadata": {},
   "source": [
    "#### Remove isolated nodes"
   ]
  },
  {
   "cell_type": "code",
   "execution_count": 8,
   "metadata": {},
   "outputs": [
    {
     "data": {
      "text/plain": [
       "Graph(num_nodes=169343, num_edges=2332486,\n",
       "      ndata_schemes={'year': Scheme(shape=(1,), dtype=torch.int64), 'feat': Scheme(shape=(128,), dtype=torch.float32), '_ID': Scheme(shape=(), dtype=torch.int64)}\n",
       "      edata_schemes={'_ID': Scheme(shape=(), dtype=torch.int64)})"
      ]
     },
     "execution_count": 8,
     "metadata": {},
     "output_type": "execute_result"
    }
   ],
   "source": [
    "mask_tensor = graph.out_degrees() > 0\n",
    "graph = graph.subgraph(mask_tensor)\n",
    "graph"
   ]
  },
  {
   "cell_type": "code",
   "execution_count": 9,
   "metadata": {},
   "outputs": [],
   "source": [
    "device = 0"
   ]
  },
  {
   "cell_type": "code",
   "execution_count": 10,
   "metadata": {},
   "outputs": [],
   "source": [
    "dim = 50\n",
    "walk_length = 30\n",
    "window_size = 2\n",
    "batch_size = 160\n",
    "only_cpu = True\n",
    "only_gpu = False\n",
    "mix = False\n",
    "neg_weight = 1.\n",
    "negative = 1\n",
    "lr = 0.1\n",
    "lap_norm = 0.05\n",
    "fast_neg = False\n",
    "print_loss = True\n",
    "norm = False\n",
    "use_context_weight = False\n",
    "async_update = False\n",
    "num_threads = 16\n",
    "gpus = [-1]\n",
    "count_params = False\n",
    "num_walks = 30\n",
    "num_sampler_threads = 0\n",
    "print_interval = 2000\n",
    "save_in_txt = False\n",
    "save_in_pt = False\n",
    "output_emb_file = 'models/deepwalk_05_trvlts_embedding.npy'"
   ]
  },
  {
   "cell_type": "code",
   "execution_count": 11,
   "metadata": {},
   "outputs": [],
   "source": [
    "from notebooks.deepwalk_link_pred.src.deepwalk import DeepwalkTrainer"
   ]
  },
  {
   "cell_type": "code",
   "execution_count": 12,
   "metadata": {
    "scrolled": true
   },
   "outputs": [
    {
     "name": "stdout",
     "output_type": "stream",
     "text": [
      "5080290 seeds in 0.20s\n"
     ]
    }
   ],
   "source": [
    "trainer = DeepwalkTrainer(\n",
    "    graph=graph,\n",
    "    device=device,\n",
    "    dim=dim,\n",
    "    walk_length=walk_length,\n",
    "    window_size=window_size,\n",
    "    batch_size=batch_size,\n",
    "    only_cpu=only_cpu,\n",
    "    only_gpu=only_gpu,\n",
    "    mix=mix,\n",
    "    neg_weight=neg_weight,\n",
    "    negative=negative,\n",
    "    lr=lr,\n",
    "    lap_norm=lap_norm,\n",
    "    fast_neg=fast_neg,\n",
    "    print_loss=print_loss,\n",
    "    norm=norm,\n",
    "    use_context_weight=use_context_weight,\n",
    "    async_update=async_update,\n",
    "    num_threads=num_threads,\n",
    "    gpus=gpus,\n",
    "    count_params=count_params,\n",
    "    num_walks=num_walks,\n",
    "    num_sampler_threads=num_sampler_threads,\n",
    "    print_interval=print_interval,\n",
    "    save_in_txt=save_in_txt,\n",
    "    save_in_pt=save_in_pt,\n",
    "    output_emb_file=output_emb_file,\n",
    ")"
   ]
  },
  {
   "cell_type": "code",
   "execution_count": null,
   "metadata": {},
   "outputs": [
    {
     "name": "stdout",
     "output_type": "stream",
     "text": [
      "Run in CPU process\n",
      "num batchs: 31752\n",
      "\n",
      "Batch 2000 training time: 45.40s loss: 0.8287\n",
      "Batch 4000 training time: 44.71s loss: 0.4878\n",
      "Batch 6000 training time: 44.06s loss: 0.4193\n",
      "Batch 8000 training time: 44.05s loss: 0.3973\n",
      "Batch 10000 training time: 44.84s loss: 0.3865\n",
      "Batch 12000 training time: 44.15s loss: 0.3805\n",
      "Batch 14000 training time: 45.06s loss: 0.3762\n",
      "Batch 16000 training time: 45.99s loss: 0.3732\n",
      "Batch 18000 training time: 44.89s loss: 0.3707\n",
      "Batch 20000 training time: 44.24s loss: 0.3691\n",
      "Batch 22000 training time: 43.96s loss: 0.3672\n",
      "Batch 24000 training time: 44.17s loss: 0.3669\n",
      "Batch 26000 training time: 44.06s loss: 0.3656\n",
      "Batch 28000 training time: 46.41s loss: 0.3646\n",
      "Batch 30000 training time: 45.07s loss: 0.3642\n"
     ]
    }
   ],
   "source": [
    "trainer.train()"
   ]
  }
 ],
 "metadata": {
  "kernelspec": {
   "display_name": "Python 3",
   "language": "python",
   "name": "python3"
  },
  "language_info": {
   "codemirror_mode": {
    "name": "ipython",
    "version": 3
   },
   "file_extension": ".py",
   "mimetype": "text/x-python",
   "name": "python",
   "nbconvert_exporter": "python",
   "pygments_lexer": "ipython3",
   "version": "3.8.5"
  }
 },
 "nbformat": 4,
 "nbformat_minor": 4
}
