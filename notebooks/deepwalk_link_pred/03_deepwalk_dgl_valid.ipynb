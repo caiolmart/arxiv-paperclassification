{
 "cells": [
  {
   "cell_type": "code",
   "execution_count": 1,
   "metadata": {},
   "outputs": [],
   "source": [
    "import os"
   ]
  },
  {
   "cell_type": "code",
   "execution_count": 2,
   "metadata": {},
   "outputs": [],
   "source": [
    "os.chdir('../..')"
   ]
  },
  {
   "cell_type": "code",
   "execution_count": 3,
   "metadata": {},
   "outputs": [
    {
     "name": "stderr",
     "output_type": "stream",
     "text": [
      "Using backend: pytorch\n"
     ]
    }
   ],
   "source": [
    "from ogb.nodeproppred import DglNodePropPredDataset\n",
    "import dgl\n",
    "import torch"
   ]
  },
  {
   "cell_type": "code",
   "execution_count": 4,
   "metadata": {},
   "outputs": [],
   "source": [
    "dataset = DglNodePropPredDataset('ogbn-arxiv', root='data/dataset_dgl')"
   ]
  },
  {
   "cell_type": "code",
   "execution_count": 5,
   "metadata": {},
   "outputs": [
    {
     "data": {
      "text/plain": [
       "DglNodePropPredDataset(1)"
      ]
     },
     "execution_count": 5,
     "metadata": {},
     "output_type": "execute_result"
    }
   ],
   "source": [
    "dataset"
   ]
  },
  {
   "cell_type": "code",
   "execution_count": 6,
   "metadata": {},
   "outputs": [],
   "source": [
    "graph = dataset[0][0]"
   ]
  },
  {
   "cell_type": "markdown",
   "metadata": {},
   "source": [
    "## Train + Valid Embedding"
   ]
  },
  {
   "cell_type": "code",
   "execution_count": 7,
   "metadata": {},
   "outputs": [],
   "source": [
    "split_idx = dataset.get_idx_split()"
   ]
  },
  {
   "cell_type": "code",
   "execution_count": 8,
   "metadata": {},
   "outputs": [],
   "source": [
    "graph_valid = graph.subgraph(\n",
    "    torch.cat([split_idx['train'], split_idx['valid']]))"
   ]
  },
  {
   "cell_type": "markdown",
   "metadata": {},
   "source": [
    "#### Symmetric"
   ]
  },
  {
   "cell_type": "code",
   "execution_count": 9,
   "metadata": {},
   "outputs": [
    {
     "data": {
      "text/plain": [
       "Graph(num_nodes=120740, num_edges=1244932,\n",
       "      ndata_schemes={'year': Scheme(shape=(1,), dtype=torch.int64), 'feat': Scheme(shape=(128,), dtype=torch.float32), '_ID': Scheme(shape=(), dtype=torch.int64)}\n",
       "      edata_schemes={'_ID': Scheme(shape=(), dtype=torch.int64)})"
      ]
     },
     "execution_count": 9,
     "metadata": {},
     "output_type": "execute_result"
    }
   ],
   "source": [
    "graph_valid.add_edges(graph_valid.edges()[1], graph_valid.edges()[0])\n",
    "graph_valid"
   ]
  },
  {
   "cell_type": "markdown",
   "metadata": {},
   "source": [
    "#### Remove isolated nodes"
   ]
  },
  {
   "cell_type": "code",
   "execution_count": 10,
   "metadata": {},
   "outputs": [
    {
     "data": {
      "text/plain": [
       "Graph(num_nodes=117837, num_edges=1244932,\n",
       "      ndata_schemes={'year': Scheme(shape=(1,), dtype=torch.int64), 'feat': Scheme(shape=(128,), dtype=torch.float32), '_ID': Scheme(shape=(), dtype=torch.int64)}\n",
       "      edata_schemes={'_ID': Scheme(shape=(), dtype=torch.int64)})"
      ]
     },
     "execution_count": 10,
     "metadata": {},
     "output_type": "execute_result"
    }
   ],
   "source": [
    "mask_tensor = graph_valid.out_degrees() > 0\n",
    "graph_valid = graph_valid.subgraph(mask_tensor)\n",
    "graph_valid"
   ]
  },
  {
   "cell_type": "code",
   "execution_count": 11,
   "metadata": {},
   "outputs": [],
   "source": [
    "device = 0"
   ]
  },
  {
   "cell_type": "code",
   "execution_count": 12,
   "metadata": {},
   "outputs": [],
   "source": [
    "dim = 50\n",
    "walk_length = 30\n",
    "window_size = 2\n",
    "batch_size = 160\n",
    "only_cpu = True\n",
    "only_gpu = False\n",
    "mix = False\n",
    "neg_weight = 1.\n",
    "negative = 1\n",
    "lr = 0.1\n",
    "lap_norm = 0.05\n",
    "fast_neg = False\n",
    "print_loss = True\n",
    "norm = False\n",
    "use_context_weight = False\n",
    "async_update = False\n",
    "num_threads = 16\n",
    "gpus = [-1]\n",
    "count_params = False\n",
    "num_walks = 30\n",
    "num_sampler_threads = 0\n",
    "print_interval = 2000\n",
    "save_in_txt = False\n",
    "save_in_pt = False\n",
    "output_emb_file = 'models/deepwalk_03_trvl_embedding.npy'"
   ]
  },
  {
   "cell_type": "code",
   "execution_count": 13,
   "metadata": {},
   "outputs": [],
   "source": [
    "from notebooks.deepwalk_link_pred.src.deepwalk import DeepwalkTrainer"
   ]
  },
  {
   "cell_type": "code",
   "execution_count": 14,
   "metadata": {
    "scrolled": true
   },
   "outputs": [
    {
     "name": "stdout",
     "output_type": "stream",
     "text": [
      "3535110 seeds in 0.13s\n"
     ]
    }
   ],
   "source": [
    "trainer = DeepwalkTrainer(\n",
    "    graph=graph_valid,\n",
    "    device=device,\n",
    "    dim=dim,\n",
    "    walk_length=walk_length,\n",
    "    window_size=window_size,\n",
    "    batch_size=batch_size,\n",
    "    only_cpu=only_cpu,\n",
    "    only_gpu=only_gpu,\n",
    "    mix=mix,\n",
    "    neg_weight=neg_weight,\n",
    "    negative=negative,\n",
    "    lr=lr,\n",
    "    lap_norm=lap_norm,\n",
    "    fast_neg=fast_neg,\n",
    "    print_loss=print_loss,\n",
    "    norm=norm,\n",
    "    use_context_weight=use_context_weight,\n",
    "    async_update=async_update,\n",
    "    num_threads=num_threads,\n",
    "    gpus=gpus,\n",
    "    count_params=count_params,\n",
    "    num_walks=num_walks,\n",
    "    num_sampler_threads=num_sampler_threads,\n",
    "    print_interval=print_interval,\n",
    "    save_in_txt=save_in_txt,\n",
    "    save_in_pt=save_in_pt,\n",
    "    output_emb_file=output_emb_file,\n",
    ")"
   ]
  },
  {
   "cell_type": "code",
   "execution_count": 15,
   "metadata": {},
   "outputs": [
    {
     "name": "stdout",
     "output_type": "stream",
     "text": [
      "Run in CPU process\n",
      "num batchs: 22095\n",
      "\n",
      "Batch 2000 training time: 45.80s loss: 0.6896\n",
      "Batch 4000 training time: 46.03s loss: 0.3767\n",
      "Batch 6000 training time: 44.15s loss: 0.3405\n",
      "Batch 8000 training time: 45.07s loss: 0.3294\n",
      "Batch 10000 training time: 43.85s loss: 0.3239\n",
      "Batch 12000 training time: 44.99s loss: 0.3198\n",
      "Batch 14000 training time: 45.40s loss: 0.3177\n",
      "Batch 16000 training time: 45.74s loss: 0.3158\n",
      "Batch 18000 training time: 45.25s loss: 0.3148\n",
      "Batch 20000 training time: 43.84s loss: 0.3131\n",
      "Batch 22000 training time: 45.73s loss: 0.3126\n",
      "Training used time: 497.93s\n"
     ]
    }
   ],
   "source": [
    "trainer.train()"
   ]
  }
 ],
 "metadata": {
  "kernelspec": {
   "display_name": "Python 3",
   "language": "python",
   "name": "python3"
  },
  "language_info": {
   "codemirror_mode": {
    "name": "ipython",
    "version": 3
   },
   "file_extension": ".py",
   "mimetype": "text/x-python",
   "name": "python",
   "nbconvert_exporter": "python",
   "pygments_lexer": "ipython3",
   "version": "3.8.5"
  }
 },
 "nbformat": 4,
 "nbformat_minor": 4
}
