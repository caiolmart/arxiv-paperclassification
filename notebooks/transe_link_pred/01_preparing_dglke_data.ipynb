{
 "cells": [
  {
   "cell_type": "code",
   "execution_count": 1,
   "metadata": {},
   "outputs": [
    {
     "name": "stderr",
     "output_type": "stream",
     "text": [
      "Using backend: pytorch\n"
     ]
    }
   ],
   "source": [
    "import pandas as pd\n",
    "import numpy as np\n",
    "from ogb.nodeproppred import DglNodePropPredDataset"
   ]
  },
  {
   "cell_type": "code",
   "execution_count": 2,
   "metadata": {},
   "outputs": [],
   "source": [
    "dataset = DglNodePropPredDataset(name='ogbn-arxiv', \n",
    "                                 root='../../data/dataset_dgl/')"
   ]
  },
  {
   "cell_type": "code",
   "execution_count": 3,
   "metadata": {},
   "outputs": [],
   "source": [
    "graph = dataset[0][0]"
   ]
  },
  {
   "cell_type": "code",
   "execution_count": 4,
   "metadata": {},
   "outputs": [
    {
     "data": {
      "text/plain": [
       "Graph(num_nodes=169343, num_edges=1166243,\n",
       "      ndata_schemes={'year': Scheme(shape=(1,), dtype=torch.int64), 'feat': Scheme(shape=(128,), dtype=torch.float32)}\n",
       "      edata_schemes={})"
      ]
     },
     "execution_count": 4,
     "metadata": {},
     "output_type": "execute_result"
    }
   ],
   "source": [
    "graph"
   ]
  },
  {
   "cell_type": "code",
   "execution_count": 17,
   "metadata": {},
   "outputs": [
    {
     "data": {
      "text/plain": [
       "tensor([     0,      1,      2,  ..., 169340, 169341, 169342])"
      ]
     },
     "execution_count": 17,
     "metadata": {},
     "output_type": "execute_result"
    }
   ],
   "source": [
    "graph.nodes()"
   ]
  },
  {
   "cell_type": "code",
   "execution_count": 5,
   "metadata": {},
   "outputs": [
    {
     "data": {
      "text/plain": [
       "(tensor([104447,  15858, 107156,  ...,  45118,  45118,  45118]),\n",
       " tensor([ 13091,  47283,  69161,  ..., 162473, 162537,  72717]))"
      ]
     },
     "execution_count": 5,
     "metadata": {},
     "output_type": "execute_result"
    }
   ],
   "source": [
    "graph.edges()"
   ]
  },
  {
   "cell_type": "code",
   "execution_count": 6,
   "metadata": {},
   "outputs": [
    {
     "data": {
      "text/plain": [
       "array([104447,  15858, 107156, ...,  45118,  45118,  45118])"
      ]
     },
     "execution_count": 6,
     "metadata": {},
     "output_type": "execute_result"
    }
   ],
   "source": [
    "graph.edges()[0].numpy()"
   ]
  },
  {
   "cell_type": "code",
   "execution_count": 7,
   "metadata": {},
   "outputs": [
    {
     "data": {
      "text/plain": [
       "array([[104447.,      0.,  13091.],\n",
       "       [ 15858.,      0.,  47283.],\n",
       "       [107156.,      0.,  69161.],\n",
       "       ...,\n",
       "       [ 45118.,      0., 162473.],\n",
       "       [ 45118.,      0., 162537.],\n",
       "       [ 45118.,      0.,  72717.]])"
      ]
     },
     "execution_count": 7,
     "metadata": {},
     "output_type": "execute_result"
    }
   ],
   "source": [
    "graph_np = np.zeros((graph.num_edges(), 3))\n",
    "graph_np[:, 0] = graph.edges()[0].numpy()\n",
    "graph_np[:, 2] = graph.edges()[1].numpy()\n",
    "graph_np"
   ]
  },
  {
   "cell_type": "code",
   "execution_count": 8,
   "metadata": {},
   "outputs": [
    {
     "data": {
      "text/html": [
       "<div>\n",
       "<style scoped>\n",
       "    .dataframe tbody tr th:only-of-type {\n",
       "        vertical-align: middle;\n",
       "    }\n",
       "\n",
       "    .dataframe tbody tr th {\n",
       "        vertical-align: top;\n",
       "    }\n",
       "\n",
       "    .dataframe thead th {\n",
       "        text-align: right;\n",
       "    }\n",
       "</style>\n",
       "<table border=\"1\" class=\"dataframe\">\n",
       "  <thead>\n",
       "    <tr style=\"text-align: right;\">\n",
       "      <th></th>\n",
       "      <th>0</th>\n",
       "      <th>1</th>\n",
       "      <th>2</th>\n",
       "    </tr>\n",
       "  </thead>\n",
       "  <tbody>\n",
       "    <tr>\n",
       "      <th>0</th>\n",
       "      <td>104447</td>\n",
       "      <td>0</td>\n",
       "      <td>13091</td>\n",
       "    </tr>\n",
       "    <tr>\n",
       "      <th>1</th>\n",
       "      <td>15858</td>\n",
       "      <td>0</td>\n",
       "      <td>47283</td>\n",
       "    </tr>\n",
       "    <tr>\n",
       "      <th>2</th>\n",
       "      <td>107156</td>\n",
       "      <td>0</td>\n",
       "      <td>69161</td>\n",
       "    </tr>\n",
       "    <tr>\n",
       "      <th>3</th>\n",
       "      <td>107156</td>\n",
       "      <td>0</td>\n",
       "      <td>136440</td>\n",
       "    </tr>\n",
       "    <tr>\n",
       "      <th>4</th>\n",
       "      <td>107156</td>\n",
       "      <td>0</td>\n",
       "      <td>107366</td>\n",
       "    </tr>\n",
       "  </tbody>\n",
       "</table>\n",
       "</div>"
      ],
      "text/plain": [
       "        0  1       2\n",
       "0  104447  0   13091\n",
       "1   15858  0   47283\n",
       "2  107156  0   69161\n",
       "3  107156  0  136440\n",
       "4  107156  0  107366"
      ]
     },
     "execution_count": 8,
     "metadata": {},
     "output_type": "execute_result"
    }
   ],
   "source": [
    "graph_df = pd.DataFrame(graph_np, dtype=int)\n",
    "graph_df.head()"
   ]
  },
  {
   "cell_type": "code",
   "execution_count": 11,
   "metadata": {},
   "outputs": [
    {
     "data": {
      "text/plain": [
       "(1166243, 3)"
      ]
     },
     "execution_count": 11,
     "metadata": {},
     "output_type": "execute_result"
    }
   ],
   "source": [
    "graph_df.shape"
   ]
  },
  {
   "cell_type": "code",
   "execution_count": 13,
   "metadata": {},
   "outputs": [
    {
     "name": "stdout",
     "output_type": "stream",
     "text": [
      "(1119593, 3)\n",
      "(46650, 3)\n"
     ]
    }
   ],
   "source": [
    "graph_train = graph_df.sample(frac=0.96)\n",
    "graph_validtest = graph_df.drop(graph_train.index)\n",
    "print(graph_train.shape)\n",
    "print(graph_validtest.shape)"
   ]
  },
  {
   "cell_type": "code",
   "execution_count": 14,
   "metadata": {},
   "outputs": [
    {
     "name": "stdout",
     "output_type": "stream",
     "text": [
      "(23325, 3)\n",
      "(23325, 3)\n"
     ]
    }
   ],
   "source": [
    "graph_valid = graph_validtest.sample(frac=0.5)\n",
    "graph_test = graph_validtest.drop(graph_valid.index)\n",
    "print(graph_valid.shape)\n",
    "print(graph_test.shape)"
   ]
  },
  {
   "cell_type": "code",
   "execution_count": 15,
   "metadata": {},
   "outputs": [
    {
     "data": {
      "text/html": [
       "<div>\n",
       "<style scoped>\n",
       "    .dataframe tbody tr th:only-of-type {\n",
       "        vertical-align: middle;\n",
       "    }\n",
       "\n",
       "    .dataframe tbody tr th {\n",
       "        vertical-align: top;\n",
       "    }\n",
       "\n",
       "    .dataframe thead th {\n",
       "        text-align: right;\n",
       "    }\n",
       "</style>\n",
       "<table border=\"1\" class=\"dataframe\">\n",
       "  <thead>\n",
       "    <tr style=\"text-align: right;\">\n",
       "      <th></th>\n",
       "      <th>0</th>\n",
       "      <th>1</th>\n",
       "      <th>2</th>\n",
       "    </tr>\n",
       "  </thead>\n",
       "  <tbody>\n",
       "    <tr>\n",
       "      <th>4</th>\n",
       "      <td>107156</td>\n",
       "      <td>0</td>\n",
       "      <td>107366</td>\n",
       "    </tr>\n",
       "    <tr>\n",
       "      <th>45</th>\n",
       "      <td>79476</td>\n",
       "      <td>0</td>\n",
       "      <td>88828</td>\n",
       "    </tr>\n",
       "    <tr>\n",
       "      <th>76</th>\n",
       "      <td>113762</td>\n",
       "      <td>0</td>\n",
       "      <td>83423</td>\n",
       "    </tr>\n",
       "    <tr>\n",
       "      <th>86</th>\n",
       "      <td>122950</td>\n",
       "      <td>0</td>\n",
       "      <td>125</td>\n",
       "    </tr>\n",
       "    <tr>\n",
       "      <th>126</th>\n",
       "      <td>108479</td>\n",
       "      <td>0</td>\n",
       "      <td>105291</td>\n",
       "    </tr>\n",
       "  </tbody>\n",
       "</table>\n",
       "</div>"
      ],
      "text/plain": [
       "          0  1       2\n",
       "4    107156  0  107366\n",
       "45    79476  0   88828\n",
       "76   113762  0   83423\n",
       "86   122950  0     125\n",
       "126  108479  0  105291"
      ]
     },
     "execution_count": 15,
     "metadata": {},
     "output_type": "execute_result"
    }
   ],
   "source": [
    "graph_test.head()"
   ]
  },
  {
   "cell_type": "code",
   "execution_count": 16,
   "metadata": {},
   "outputs": [
    {
     "data": {
      "text/html": [
       "<div>\n",
       "<style scoped>\n",
       "    .dataframe tbody tr th:only-of-type {\n",
       "        vertical-align: middle;\n",
       "    }\n",
       "\n",
       "    .dataframe tbody tr th {\n",
       "        vertical-align: top;\n",
       "    }\n",
       "\n",
       "    .dataframe thead th {\n",
       "        text-align: right;\n",
       "    }\n",
       "</style>\n",
       "<table border=\"1\" class=\"dataframe\">\n",
       "  <thead>\n",
       "    <tr style=\"text-align: right;\">\n",
       "      <th></th>\n",
       "      <th>0</th>\n",
       "      <th>1</th>\n",
       "      <th>2</th>\n",
       "    </tr>\n",
       "  </thead>\n",
       "  <tbody>\n",
       "    <tr>\n",
       "      <th>203788</th>\n",
       "      <td>49553</td>\n",
       "      <td>0</td>\n",
       "      <td>96976</td>\n",
       "    </tr>\n",
       "    <tr>\n",
       "      <th>602088</th>\n",
       "      <td>29842</td>\n",
       "      <td>0</td>\n",
       "      <td>115394</td>\n",
       "    </tr>\n",
       "    <tr>\n",
       "      <th>481203</th>\n",
       "      <td>67020</td>\n",
       "      <td>0</td>\n",
       "      <td>29312</td>\n",
       "    </tr>\n",
       "    <tr>\n",
       "      <th>964136</th>\n",
       "      <td>7569</td>\n",
       "      <td>0</td>\n",
       "      <td>82632</td>\n",
       "    </tr>\n",
       "    <tr>\n",
       "      <th>658404</th>\n",
       "      <td>162309</td>\n",
       "      <td>0</td>\n",
       "      <td>19883</td>\n",
       "    </tr>\n",
       "  </tbody>\n",
       "</table>\n",
       "</div>"
      ],
      "text/plain": [
       "             0  1       2\n",
       "203788   49553  0   96976\n",
       "602088   29842  0  115394\n",
       "481203   67020  0   29312\n",
       "964136    7569  0   82632\n",
       "658404  162309  0   19883"
      ]
     },
     "execution_count": 16,
     "metadata": {},
     "output_type": "execute_result"
    }
   ],
   "source": [
    "graph_valid.head()"
   ]
  },
  {
   "cell_type": "code",
   "execution_count": 19,
   "metadata": {},
   "outputs": [],
   "source": [
    "graph_df.to_csv('../../data/dataset_dglke/ogbn-arxiv-edges-full.tsv',\n",
    "                sep='\\t',\n",
    "                index=False,\n",
    "                header=False)\n",
    "graph_train.to_csv('../../data/dataset_dglke/ogbn-arxiv-edges-train.tsv',\n",
    "                   sep='\\t',\n",
    "                   index=False,\n",
    "                   header=False)\n",
    "graph_valid.to_csv('../../data/dataset_dglke/ogbn-arxiv-edges-valid.tsv',\n",
    "                   sep='\\t',\n",
    "                   index=False,\n",
    "                   header=False)\n",
    "graph_test.to_csv('../../data/dataset_dglke/ogbn-arxiv-edges-test.tsv',\n",
    "                   sep='\\t',\n",
    "                   index=False,\n",
    "                   header=False)"
   ]
  },
  {
   "cell_type": "code",
   "execution_count": 23,
   "metadata": {},
   "outputs": [],
   "source": [
    "entities = pd.DataFrame(graph.nodes().numpy())\n",
    "entities.to_csv('../../data/dataset_dglke/entities.tsv',\n",
    "                sep='\\t',\n",
    "                index=True,\n",
    "                header=False)"
   ]
  },
  {
   "cell_type": "code",
   "execution_count": 24,
   "metadata": {},
   "outputs": [],
   "source": [
    "relations = pd.DataFrame([0])\n",
    "relations.to_csv('../../data/dataset_dglke/relations.tsv',\n",
    "                 sep='\\t',\n",
    "                 index=True,\n",
    "                 header=False)"
   ]
  }
 ],
 "metadata": {
  "kernelspec": {
   "display_name": "Python 3",
   "language": "python",
   "name": "python3"
  },
  "language_info": {
   "codemirror_mode": {
    "name": "ipython",
    "version": 3
   },
   "file_extension": ".py",
   "mimetype": "text/x-python",
   "name": "python",
   "nbconvert_exporter": "python",
   "pygments_lexer": "ipython3",
   "version": "3.8.5"
  }
 },
 "nbformat": 4,
 "nbformat_minor": 4
}
