{
 "cells": [
  {
   "cell_type": "markdown",
   "metadata": {},
   "source": [
    "Uses dgl==0.6.1"
   ]
  },
  {
   "cell_type": "code",
   "execution_count": 26,
   "metadata": {},
   "outputs": [],
   "source": [
    "import pandas as pd\n",
    "import numpy as np\n",
    "from ogb.nodeproppred import DglNodePropPredDataset\n",
    "import faiss\n",
    "import torch\n",
    "import matplotlib.pyplot as plt"
   ]
  },
  {
   "cell_type": "code",
   "execution_count": 2,
   "metadata": {},
   "outputs": [],
   "source": [
    "dataset = DglNodePropPredDataset(name='ogbn-arxiv', \n",
    "                                 root='../../data/dataset_dgl/')"
   ]
  },
  {
   "cell_type": "code",
   "execution_count": 3,
   "metadata": {},
   "outputs": [],
   "source": [
    "graph = dataset[0][0]"
   ]
  },
  {
   "cell_type": "code",
   "execution_count": 4,
   "metadata": {},
   "outputs": [
    {
     "data": {
      "text/plain": [
       "Graph(num_nodes=169343, num_edges=1166243,\n",
       "      ndata_schemes={'year': Scheme(shape=(1,), dtype=torch.int64), 'feat': Scheme(shape=(128,), dtype=torch.float32)}\n",
       "      edata_schemes={})"
      ]
     },
     "execution_count": 4,
     "metadata": {},
     "output_type": "execute_result"
    }
   ],
   "source": [
    "graph"
   ]
  },
  {
   "cell_type": "code",
   "execution_count": 5,
   "metadata": {},
   "outputs": [
    {
     "data": {
      "text/plain": [
       "tensor([     0,      1,      2,  ..., 169340, 169341, 169342])"
      ]
     },
     "execution_count": 5,
     "metadata": {},
     "output_type": "execute_result"
    }
   ],
   "source": [
    "graph.nodes()"
   ]
  },
  {
   "cell_type": "code",
   "execution_count": 28,
   "metadata": {},
   "outputs": [],
   "source": [
    "output_emb_file = '../../ckpts/TransE_l2_ogbn-arxiv_2/ogbn-arxiv_TransE_l2_entity.npy'\n",
    "output_rel_file = '../../ckpts/TransE_l2_ogbn-arxiv_2/ogbn-arxiv_TransE_l2_relation.npy'"
   ]
  },
  {
   "cell_type": "code",
   "execution_count": 29,
   "metadata": {},
   "outputs": [
    {
     "data": {
      "text/plain": [
       "(169343, 10)"
      ]
     },
     "execution_count": 29,
     "metadata": {},
     "output_type": "execute_result"
    }
   ],
   "source": [
    "embeddings = np.load(output_emb_file)\n",
    "embeddings.shape"
   ]
  },
  {
   "cell_type": "code",
   "execution_count": 31,
   "metadata": {},
   "outputs": [
    {
     "data": {
      "text/plain": [
       "(1, 10)"
      ]
     },
     "execution_count": 31,
     "metadata": {},
     "output_type": "execute_result"
    }
   ],
   "source": [
    "relations = np.load(output_rel_file)\n",
    "relations.shape"
   ]
  },
  {
   "cell_type": "code",
   "execution_count": 33,
   "metadata": {},
   "outputs": [
    {
     "data": {
      "text/plain": [
       "array([[ 1.1064795, -7.251556 ,  4.845473 ,  1.5770537, -4.2837253,\n",
       "         4.7235155,  7.316712 ,  5.2145567, -2.6030858,  5.591577 ]],\n",
       "      dtype=float32)"
      ]
     },
     "execution_count": 33,
     "metadata": {},
     "output_type": "execute_result"
    }
   ],
   "source": [
    "relations"
   ]
  },
  {
   "cell_type": "code",
   "execution_count": 34,
   "metadata": {},
   "outputs": [
    {
     "data": {
      "text/plain": [
       "array([15.466242], dtype=float32)"
      ]
     },
     "execution_count": 34,
     "metadata": {},
     "output_type": "execute_result"
    }
   ],
   "source": [
    "np.linalg.norm(relations, axis=1)"
   ]
  },
  {
   "cell_type": "markdown",
   "metadata": {},
   "source": [
    "## L2 Distance"
   ]
  },
  {
   "cell_type": "code",
   "execution_count": 15,
   "metadata": {},
   "outputs": [],
   "source": [
    "index = faiss.IndexFlatL2(embeddings.shape[1])"
   ]
  },
  {
   "cell_type": "code",
   "execution_count": 16,
   "metadata": {},
   "outputs": [],
   "source": [
    "index.train(embeddings)\n",
    "index.add(embeddings)"
   ]
  },
  {
   "cell_type": "code",
   "execution_count": 17,
   "metadata": {},
   "outputs": [
    {
     "data": {
      "text/plain": [
       "<faiss.swigfaiss.IndexFlatL2; proxy of <Swig Object of type 'faiss::IndexFlatL2 *' at 0x7f23ac7390f0> >"
      ]
     },
     "execution_count": 17,
     "metadata": {},
     "output_type": "execute_result"
    }
   ],
   "source": [
    "index"
   ]
  },
  {
   "cell_type": "code",
   "execution_count": 18,
   "metadata": {},
   "outputs": [
    {
     "data": {
      "text/plain": [
       "169343"
      ]
     },
     "execution_count": 18,
     "metadata": {},
     "output_type": "execute_result"
    }
   ],
   "source": [
    "index.ntotal"
   ]
  },
  {
   "cell_type": "markdown",
   "metadata": {},
   "source": [
    "### Check if there is a neighbor in the n closest embeddings"
   ]
  },
  {
   "cell_type": "code",
   "execution_count": 19,
   "metadata": {},
   "outputs": [],
   "source": [
    "max_k = 100\n",
    "distances, indices = index.search(embeddings, max_k + 1)"
   ]
  },
  {
   "cell_type": "code",
   "execution_count": 23,
   "metadata": {},
   "outputs": [],
   "source": [
    "has_neighbor = torch.zeros((embeddings.shape[0], max_k))\n",
    "for j in range(max_k):\n",
    "    if j == 0:\n",
    "        has_neighbor[:, j] = graph.has_edges_between(indices[:, 0], indices[:, j + 1])\n",
    "    else:\n",
    "        has_neighbor[:, j] = torch.max(\n",
    "            has_neighbor[:, j - 1],\n",
    "            graph.has_edges_between(indices[:, 0], indices[:, j + 1]))"
   ]
  },
  {
   "cell_type": "code",
   "execution_count": 24,
   "metadata": {},
   "outputs": [
    {
     "data": {
      "text/plain": [
       "tensor([[0., 0., 0.,  ..., 0., 0., 0.],\n",
       "        [0., 0., 0.,  ..., 0., 0., 0.],\n",
       "        [0., 0., 0.,  ..., 0., 0., 0.],\n",
       "        ...,\n",
       "        [0., 0., 0.,  ..., 0., 0., 0.],\n",
       "        [0., 0., 0.,  ..., 0., 0., 0.],\n",
       "        [0., 0., 0.,  ..., 0., 0., 0.]])"
      ]
     },
     "execution_count": 24,
     "metadata": {},
     "output_type": "execute_result"
    }
   ],
   "source": [
    "has_neighbor"
   ]
  },
  {
   "cell_type": "code",
   "execution_count": 27,
   "metadata": {},
   "outputs": [
    {
     "data": {
      "text/plain": [
       "[<matplotlib.lines.Line2D at 0x7f238688e190>]"
      ]
     },
     "execution_count": 27,
     "metadata": {},
     "output_type": "execute_result"
    },
    {
     "data": {
      "image/png": "[encoded data removed]",
      "text/plain": [
       "<Figure size 432x288 with 1 Axes>"
      ]
     },
     "metadata": {
      "needs_background": "light"
     },
     "output_type": "display_data"
    }
   ],
   "source": [
    "percentages = has_neighbor.sum(dim=0) / embeddings.shape[0]\n",
    "plt.plot(list(range(1, max_k + 1)), percentages)"
   ]
  },
  {
   "cell_type": "markdown",
   "metadata": {},
   "source": [
    "### Check if there is a neighbor in the n closest embeddings + relation"
   ]
  },
  {
   "cell_type": "code",
   "execution_count": 36,
   "metadata": {},
   "outputs": [
    {
     "data": {
      "text/plain": [
       "array([[-0.76570725, -1.0899072 , -0.76050377, ..., -1.4019278 ,\n",
       "         0.4569007 , -0.27539188],\n",
       "       [-1.6489363 ,  1.1121172 ,  1.310688  , ...,  1.748477  ,\n",
       "         0.26110145, -0.51407427],\n",
       "       [ 0.36414617,  0.10182829,  0.07844748, ..., -1.2746279 ,\n",
       "         1.2738042 , -1.533764  ],\n",
       "       ...,\n",
       "       [-1.4388547 , -1.3355291 ,  1.2198706 , ..., -1.6577222 ,\n",
       "        -1.3725159 , -1.7848283 ],\n",
       "       [ 1.365776  ,  1.7486248 ,  0.05584155, ...,  1.292088  ,\n",
       "        -1.7295866 , -1.3166554 ],\n",
       "       [-1.7966888 , -1.5278947 ,  1.6159921 , ...,  1.419532  ,\n",
       "        -1.118486  , -1.2830914 ]], dtype=float32)"
      ]
     },
     "execution_count": 36,
     "metadata": {},
     "output_type": "execute_result"
    }
   ],
   "source": [
    "embeddings"
   ]
  },
  {
   "cell_type": "code",
   "execution_count": 37,
   "metadata": {},
   "outputs": [
    {
     "data": {
      "text/plain": [
       "array([[ 0.34077227, -8.341463  ,  4.084969  , ...,  3.8126287 ,\n",
       "        -2.1461852 ,  5.316185  ],\n",
       "       [-0.54245675, -6.1394386 ,  6.156161  , ...,  6.9630337 ,\n",
       "        -2.3419843 ,  5.0775027 ],\n",
       "       [ 1.4706256 , -7.149728  ,  4.92392   , ...,  3.9399288 ,\n",
       "        -1.3292816 ,  4.057813  ],\n",
       "       ...,\n",
       "       [-0.33237517, -8.587085  ,  6.0653434 , ...,  3.5568345 ,\n",
       "        -3.9756017 ,  3.8067489 ],\n",
       "       [ 2.4722555 , -5.502931  ,  4.9013143 , ...,  6.5066447 ,\n",
       "        -4.332672  ,  4.2749214 ],\n",
       "       [-0.69020927, -8.77945   ,  6.461465  , ...,  6.6340885 ,\n",
       "        -3.721572  ,  4.3084855 ]], dtype=float32)"
      ]
     },
     "execution_count": 37,
     "metadata": {},
     "output_type": "execute_result"
    }
   ],
   "source": [
    "embeddings + relations"
   ]
  },
  {
   "cell_type": "code",
   "execution_count": 39,
   "metadata": {},
   "outputs": [],
   "source": [
    "max_k = 100\n",
    "distances, indices = index.search(embeddings + relations, max_k + 1)"
   ]
  },
  {
   "cell_type": "code",
   "execution_count": 44,
   "metadata": {},
   "outputs": [
    {
     "data": {
      "text/plain": [
       "array([[167.81145, 168.80052, 169.03299, ..., 184.6338 , 184.74643,\n",
       "        184.89517],\n",
       "       [165.2212 , 166.01796, 166.41588, ..., 181.02853, 181.11739,\n",
       "        181.30942],\n",
       "       [142.892  , 143.8693 , 144.85204, ..., 159.40248, 159.42416,\n",
       "        159.4415 ],\n",
       "       ...,\n",
       "       [146.30267, 149.74539, 150.56367, ..., 162.30966, 162.32846,\n",
       "        162.51013],\n",
       "       [151.4126 , 153.72946, 153.82477, ..., 171.31299, 171.33441,\n",
       "        171.57901],\n",
       "       [216.8711 , 217.41904, 219.03085, ..., 233.78659, 233.84674,\n",
       "        233.90549]], dtype=float32)"
      ]
     },
     "execution_count": 44,
     "metadata": {},
     "output_type": "execute_result"
    }
   ],
   "source": [
    "distances"
   ]
  },
  {
   "cell_type": "code",
   "execution_count": 43,
   "metadata": {},
   "outputs": [
    {
     "data": {
      "text/plain": [
       "array([[138938,  89783,  93423, ...,  87354, 104676,  22488],\n",
       "       [ 28974, 112362, 138938, ...,  19136,  90147, 112649],\n",
       "       [143578, 138938,  93423, ...,  28974,   9823, 104676],\n",
       "       ...,\n",
       "       [ 89783, 151864, 132347, ..., 160271,  84631,  31870],\n",
       "       [112362, 138938, 128793, ...,  61572, 156084, 149805],\n",
       "       [151864,  28974, 138938, ...,  20838,  87895, 160271]])"
      ]
     },
     "execution_count": 43,
     "metadata": {},
     "output_type": "execute_result"
    }
   ],
   "source": [
    "indices"
   ]
  },
  {
   "cell_type": "code",
   "execution_count": 40,
   "metadata": {},
   "outputs": [],
   "source": [
    "has_neighbor = torch.zeros((embeddings.shape[0], max_k))\n",
    "for j in range(max_k):\n",
    "    if j == 0:\n",
    "        has_neighbor[:, j] = graph.has_edges_between(indices[:, 0], indices[:, j + 1])\n",
    "    else:\n",
    "        has_neighbor[:, j] = torch.max(\n",
    "            has_neighbor[:, j - 1],\n",
    "            graph.has_edges_between(indices[:, 0], indices[:, j + 1]))"
   ]
  },
  {
   "cell_type": "code",
   "execution_count": 41,
   "metadata": {},
   "outputs": [
    {
     "data": {
      "text/plain": [
       "tensor([[0., 0., 0.,  ..., 0., 0., 0.],\n",
       "        [0., 0., 0.,  ..., 0., 0., 0.],\n",
       "        [0., 0., 0.,  ..., 0., 0., 0.],\n",
       "        ...,\n",
       "        [0., 0., 0.,  ..., 0., 0., 0.],\n",
       "        [0., 0., 0.,  ..., 0., 0., 0.],\n",
       "        [0., 0., 0.,  ..., 0., 0., 0.]])"
      ]
     },
     "execution_count": 41,
     "metadata": {},
     "output_type": "execute_result"
    }
   ],
   "source": [
    "has_neighbor"
   ]
  },
  {
   "cell_type": "code",
   "execution_count": 42,
   "metadata": {},
   "outputs": [
    {
     "data": {
      "text/plain": [
       "[<matplotlib.lines.Line2D at 0x7f2361e009d0>]"
      ]
     },
     "execution_count": 42,
     "metadata": {},
     "output_type": "execute_result"
    },
    {
     "data": {
      "image/png": "[encoded data removed]",
      "text/plain": [
       "<Figure size 432x288 with 1 Axes>"
      ]
     },
     "metadata": {
      "needs_background": "light"
     },
     "output_type": "display_data"
    }
   ],
   "source": [
    "percentages = has_neighbor.sum(dim=0) / embeddings.shape[0]\n",
    "plt.plot(list(range(1, max_k + 1)), percentages)"
   ]
  }
 ],
 "metadata": {
  "kernelspec": {
   "display_name": "Python 3",
   "language": "python",
   "name": "python3"
  },
  "language_info": {
   "codemirror_mode": {
    "name": "ipython",
    "version": 3
   },
   "file_extension": ".py",
   "mimetype": "text/x-python",
   "name": "python",
   "nbconvert_exporter": "python",
   "pygments_lexer": "ipython3",
   "version": "3.8.5"
  }
 },
 "nbformat": 4,
 "nbformat_minor": 4
}
