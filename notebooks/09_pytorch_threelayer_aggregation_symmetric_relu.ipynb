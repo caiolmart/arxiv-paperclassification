{
 "cells": [
  {
   "cell_type": "code",
   "execution_count": 1,
   "metadata": {},
   "outputs": [],
   "source": [
    "import numpy as np\n",
    "from sklearn.metrics import accuracy_score\n",
    "import torch\n",
    "import torch.nn.functional as F\n",
    "from ogb.nodeproppred import PygNodePropPredDataset, Evaluator\n",
    "import torch_geometric.transforms as T\n",
    "from torch_geometric.data import DataLoader\n",
    "from torch_geometric.nn import SAGEConv"
   ]
  },
  {
   "cell_type": "code",
   "execution_count": 2,
   "metadata": {},
   "outputs": [],
   "source": [
    "dataset = PygNodePropPredDataset(name='ogbn-arxiv', \n",
    "                                 root='../data/dataset/',\n",
    "                                 transform=T.ToSparseTensor())"
   ]
  },
  {
   "cell_type": "code",
   "execution_count": 3,
   "metadata": {
    "scrolled": true
   },
   "outputs": [
    {
     "data": {
      "text/plain": [
       "True"
      ]
     },
     "execution_count": 3,
     "metadata": {},
     "output_type": "execute_result"
    }
   ],
   "source": [
    "torch.cuda.is_available()"
   ]
  },
  {
   "cell_type": "code",
   "execution_count": 4,
   "metadata": {},
   "outputs": [],
   "source": [
    "device = 'cuda:0' if torch.cuda.is_available() else 'cpu'\n",
    "device = torch.device(device)"
   ]
  },
  {
   "cell_type": "code",
   "execution_count": 5,
   "metadata": {},
   "outputs": [],
   "source": [
    "data = dataset[0]\n",
    "data.adj_t = data.adj_t.to_symmetric()"
   ]
  },
  {
   "cell_type": "code",
   "execution_count": 6,
   "metadata": {},
   "outputs": [
    {
     "data": {
      "text/plain": [
       "Data(adj_t=[169343, 169343, nnz=2315598], node_year=[169343, 1], x=[169343, 128], y=[169343, 1])"
      ]
     },
     "execution_count": 6,
     "metadata": {},
     "output_type": "execute_result"
    }
   ],
   "source": [
    "data"
   ]
  },
  {
   "cell_type": "code",
   "execution_count": 7,
   "metadata": {},
   "outputs": [],
   "source": [
    "data = data.to(device)"
   ]
  },
  {
   "cell_type": "code",
   "execution_count": 8,
   "metadata": {},
   "outputs": [],
   "source": [
    "split_idx = dataset.get_idx_split()\n",
    "train_idx = split_idx['train'].to(device)"
   ]
  },
  {
   "cell_type": "code",
   "execution_count": 9,
   "metadata": {},
   "outputs": [],
   "source": [
    "evaluator = Evaluator(name='ogbn-arxiv')"
   ]
  },
  {
   "cell_type": "code",
   "execution_count": 10,
   "metadata": {},
   "outputs": [
    {
     "data": {
      "text/plain": [
       "128"
      ]
     },
     "execution_count": 10,
     "metadata": {},
     "output_type": "execute_result"
    }
   ],
   "source": [
    "data['x'].shape[1]"
   ]
  },
  {
   "cell_type": "code",
   "execution_count": 11,
   "metadata": {},
   "outputs": [
    {
     "data": {
      "text/plain": [
       "40"
      ]
     },
     "execution_count": 11,
     "metadata": {},
     "output_type": "execute_result"
    }
   ],
   "source": [
    "data['y'][:, 0].unique().shape[0]"
   ]
  },
  {
   "cell_type": "code",
   "execution_count": 12,
   "metadata": {},
   "outputs": [],
   "source": [
    "n_iters = 3000\n",
    "epochs = 500\n",
    "log_steps = 25\n",
    "input_dim = data['x'].shape[1]\n",
    "hidden_channels = input_dim * 2\n",
    "output_dim = data['y'][:, 0].unique().shape[0]\n",
    "lr_rate = 0.001"
   ]
  },
  {
   "cell_type": "code",
   "execution_count": 13,
   "metadata": {},
   "outputs": [],
   "source": [
    "class ThreeLayer(torch.nn.Module):\n",
    "    def __init__(self, input_dim, hidden_channels, output_dim):\n",
    "        super(ThreeLayer, self).__init__()\n",
    "        \n",
    "        self.convs = torch.nn.ModuleList()\n",
    "        self.bns = torch.nn.ModuleList()\n",
    "        \n",
    "        self.convs.append(SAGEConv(input_dim, hidden_channels))\n",
    "        self.bns.append(torch.nn.BatchNorm1d(hidden_channels))\n",
    "        \n",
    "        self.convs.append(SAGEConv(hidden_channels, hidden_channels))\n",
    "        self.bns.append(torch.nn.BatchNorm1d(hidden_channels))\n",
    "        \n",
    "        self.convs.append(SAGEConv(hidden_channels, output_dim))\n",
    "        \n",
    "\n",
    "    def forward(self, x, adj_t):\n",
    "        x = self.convs[0](x, adj_t)\n",
    "        x = self.bns[0](x)\n",
    "        x = F.relu(x)\n",
    "        \n",
    "        x = self.convs[1](x, adj_t)\n",
    "        x = self.bns[1](x)\n",
    "        x = F.relu(x)\n",
    "        \n",
    "        x = self.convs[2](x, adj_t)\n",
    "        return x.log_softmax(dim=-1)"
   ]
  },
  {
   "cell_type": "code",
   "execution_count": 14,
   "metadata": {},
   "outputs": [],
   "source": [
    "model = ThreeLayer(input_dim, hidden_channels, output_dim).to(device)"
   ]
  },
  {
   "cell_type": "code",
   "execution_count": 15,
   "metadata": {},
   "outputs": [],
   "source": [
    "def train(model, data, train_idx, optimizer):\n",
    "    model.train()\n",
    "\n",
    "    optimizer.zero_grad()\n",
    "    out = model(data.x, data.adj_t)[train_idx]\n",
    "    loss = F.nll_loss(out, data.y.squeeze(1)[train_idx])\n",
    "    loss.backward()\n",
    "    optimizer.step()\n",
    "\n",
    "    return loss.item()"
   ]
  },
  {
   "cell_type": "code",
   "execution_count": 16,
   "metadata": {},
   "outputs": [],
   "source": [
    "@torch.no_grad()\n",
    "def test(model, data, split_idx, evaluator):\n",
    "    model.eval()\n",
    "\n",
    "    out = model(data.x, data.adj_t)\n",
    "    y_pred = out.argmax(dim=-1, keepdim=True)\n",
    "\n",
    "    train_acc = evaluator.eval({\n",
    "        'y_true': data.y[split_idx['train']],\n",
    "        'y_pred': y_pred[split_idx['train']],\n",
    "    })['acc']\n",
    "    valid_acc = evaluator.eval({\n",
    "        'y_true': data.y[split_idx['valid']],\n",
    "        'y_pred': y_pred[split_idx['valid']],\n",
    "    })['acc']\n",
    "    test_acc = evaluator.eval({\n",
    "        'y_true': data.y[split_idx['test']],\n",
    "        'y_pred': y_pred[split_idx['test']],\n",
    "    })['acc']\n",
    "\n",
    "    return train_acc, valid_acc, test_acc"
   ]
  },
  {
   "cell_type": "code",
   "execution_count": 17,
   "metadata": {},
   "outputs": [
    {
     "name": "stdout",
     "output_type": "stream",
     "text": [
      "Epoch: 25, Loss: 1.2518, Train: 53.40%, Valid: 57.69% Test: 59.84%\n",
      "Epoch: 50, Loss: 1.0355, Train: 69.01%, Valid: 68.68% Test: 68.36%\n",
      "Epoch: 75, Loss: 0.9302, Train: 72.02%, Valid: 70.50% Test: 69.64%\n",
      "Epoch: 100, Loss: 0.8518, Train: 73.80%, Valid: 70.86% Test: 70.09%\n",
      "Epoch: 125, Loss: 0.7784, Train: 75.96%, Valid: 71.14% Test: 69.99%\n",
      "Epoch: 150, Loss: 0.7042, Train: 77.67%, Valid: 70.72% Test: 68.89%\n",
      "Epoch: 175, Loss: 0.6343, Train: 79.27%, Valid: 70.36% Test: 68.34%\n",
      "Epoch: 200, Loss: 0.5582, Train: 81.76%, Valid: 70.53% Test: 68.58%\n",
      "Epoch: 225, Loss: 0.4937, Train: 83.61%, Valid: 70.38% Test: 68.37%\n",
      "Epoch: 250, Loss: 0.4358, Train: 86.08%, Valid: 70.09% Test: 68.02%\n",
      "Epoch: 275, Loss: 0.3835, Train: 88.06%, Valid: 69.59% Test: 67.25%\n",
      "Epoch: 300, Loss: 0.3378, Train: 89.89%, Valid: 69.64% Test: 67.41%\n",
      "Epoch: 325, Loss: 0.2986, Train: 91.33%, Valid: 68.97% Test: 66.80%\n",
      "Epoch: 350, Loss: 0.2633, Train: 92.81%, Valid: 68.68% Test: 66.39%\n",
      "Epoch: 375, Loss: 0.2318, Train: 94.16%, Valid: 68.59% Test: 66.73%\n",
      "Epoch: 400, Loss: 0.2073, Train: 95.20%, Valid: 68.68% Test: 67.20%\n",
      "Epoch: 425, Loss: 0.1818, Train: 96.08%, Valid: 68.50% Test: 67.40%\n",
      "Epoch: 450, Loss: 0.1605, Train: 96.39%, Valid: 67.68% Test: 65.57%\n",
      "Epoch: 475, Loss: 0.1424, Train: 97.39%, Valid: 67.85% Test: 66.31%\n",
      "Epoch: 500, Loss: 0.1320, Train: 97.34%, Valid: 68.01% Test: 67.03%\n"
     ]
    }
   ],
   "source": [
    "optimizer = torch.optim.Adam(model.parameters(), lr=lr_rate)\n",
    "for epoch in range(1, 1 + epochs):\n",
    "    loss = train(model, data, train_idx, optimizer)\n",
    "    result = test(model, data, split_idx, evaluator)\n",
    "\n",
    "    if epoch % log_steps == 0:\n",
    "        train_acc, valid_acc, test_acc = result\n",
    "        print(f'Epoch: {epoch:02d}, '\n",
    "              f'Loss: {loss:.4f}, '\n",
    "              f'Train: {100 * train_acc:.2f}%, '\n",
    "              f'Valid: {100 * valid_acc:.2f}% '\n",
    "              f'Test: {100 * test_acc:.2f}%')"
   ]
  }
 ],
 "metadata": {
  "kernelspec": {
   "display_name": "Python 3",
   "language": "python",
   "name": "python3"
  },
  "language_info": {
   "codemirror_mode": {
    "name": "ipython",
    "version": 3
   },
   "file_extension": ".py",
   "mimetype": "text/x-python",
   "name": "python",
   "nbconvert_exporter": "python",
   "pygments_lexer": "ipython3",
   "version": "3.8.5"
  }
 },
 "nbformat": 4,
 "nbformat_minor": 4
}
