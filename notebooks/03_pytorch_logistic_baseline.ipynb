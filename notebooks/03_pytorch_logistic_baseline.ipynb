{
 "cells": [
  {
   "cell_type": "code",
   "execution_count": 1,
   "metadata": {},
   "outputs": [],
   "source": [
    "import numpy as np\n",
    "from sklearn.metrics import accuracy_score\n",
    "import torch\n",
    "import torch.nn.functional as F\n",
    "from ogb.nodeproppred import PygNodePropPredDataset, Evaluator\n",
    "import torch_geometric.transforms as T\n",
    "from torch_geometric.data import DataLoader"
   ]
  },
  {
   "cell_type": "code",
   "execution_count": 2,
   "metadata": {},
   "outputs": [],
   "source": [
    "dataset = PygNodePropPredDataset(name='ogbn-arxiv', \n",
    "                                 root='../data/dataset/',\n",
    "                                 transform=T.ToSparseTensor())"
   ]
  },
  {
   "cell_type": "code",
   "execution_count": 3,
   "metadata": {},
   "outputs": [
    {
     "data": {
      "text/plain": [
       "True"
      ]
     },
     "execution_count": 3,
     "metadata": {},
     "output_type": "execute_result"
    }
   ],
   "source": [
    "torch.cuda.is_available()"
   ]
  },
  {
   "cell_type": "code",
   "execution_count": 4,
   "metadata": {},
   "outputs": [],
   "source": [
    "device = 'cuda:0' if torch.cuda.is_available() else 'cpu'\n",
    "device = torch.device(device)"
   ]
  },
  {
   "cell_type": "code",
   "execution_count": 5,
   "metadata": {},
   "outputs": [],
   "source": [
    "data = dataset[0]"
   ]
  },
  {
   "cell_type": "code",
   "execution_count": 6,
   "metadata": {},
   "outputs": [
    {
     "data": {
      "text/plain": [
       "Data(adj_t=[169343, 169343, nnz=1166243], node_year=[169343, 1], x=[169343, 128], y=[169343, 1])"
      ]
     },
     "execution_count": 6,
     "metadata": {},
     "output_type": "execute_result"
    }
   ],
   "source": [
    "data"
   ]
  },
  {
   "cell_type": "code",
   "execution_count": 7,
   "metadata": {},
   "outputs": [],
   "source": [
    "data = data.to(device)"
   ]
  },
  {
   "cell_type": "code",
   "execution_count": 8,
   "metadata": {},
   "outputs": [],
   "source": [
    "split_idx = dataset.get_idx_split()\n",
    "train_idx = split_idx['train'].to(device)"
   ]
  },
  {
   "cell_type": "code",
   "execution_count": 9,
   "metadata": {},
   "outputs": [],
   "source": [
    "evaluator = Evaluator(name='ogbn-arxiv')"
   ]
  },
  {
   "cell_type": "code",
   "execution_count": 10,
   "metadata": {},
   "outputs": [],
   "source": [
    "class LogisticRegression(torch.nn.Module):\n",
    "    def __init__(self, input_dim, output_dim):\n",
    "        super(LogisticRegression, self).__init__()\n",
    "        self.linear = torch.nn.Linear(input_dim, output_dim)\n",
    "\n",
    "    def forward(self, x):\n",
    "        outputs = self.linear(x)\n",
    "        return outputs.log_softmax(dim=-1)"
   ]
  },
  {
   "cell_type": "code",
   "execution_count": 11,
   "metadata": {},
   "outputs": [
    {
     "data": {
      "text/plain": [
       "128"
      ]
     },
     "execution_count": 11,
     "metadata": {},
     "output_type": "execute_result"
    }
   ],
   "source": [
    "data['x'].shape[1]"
   ]
  },
  {
   "cell_type": "code",
   "execution_count": 12,
   "metadata": {},
   "outputs": [
    {
     "data": {
      "text/plain": [
       "40"
      ]
     },
     "execution_count": 12,
     "metadata": {},
     "output_type": "execute_result"
    }
   ],
   "source": [
    "data['y'][:, 0].unique().shape[0]"
   ]
  },
  {
   "cell_type": "code",
   "execution_count": 13,
   "metadata": {},
   "outputs": [],
   "source": [
    "n_iters = 3000\n",
    "epochs = 10000\n",
    "log_steps = 100\n",
    "input_dim = data['x'].shape[1]\n",
    "output_dim = data['y'][:, 0].unique().shape[0]\n",
    "lr_rate = 0.001"
   ]
  },
  {
   "cell_type": "code",
   "execution_count": 14,
   "metadata": {},
   "outputs": [],
   "source": [
    "model = LogisticRegression(input_dim, output_dim).to(device)"
   ]
  },
  {
   "cell_type": "code",
   "execution_count": 15,
   "metadata": {},
   "outputs": [],
   "source": [
    "criterion = torch.nn.CrossEntropyLoss()"
   ]
  },
  {
   "cell_type": "code",
   "execution_count": 16,
   "metadata": {},
   "outputs": [],
   "source": [
    "def train(model, data, train_idx, optimizer):\n",
    "    model.train()\n",
    "\n",
    "    optimizer.zero_grad()\n",
    "    out = model(data.x)[train_idx]\n",
    "    loss = F.nll_loss(out, data.y.squeeze(1)[train_idx])\n",
    "    loss.backward()\n",
    "    optimizer.step()\n",
    "\n",
    "    return loss.item()"
   ]
  },
  {
   "cell_type": "code",
   "execution_count": 17,
   "metadata": {},
   "outputs": [],
   "source": [
    "@torch.no_grad()\n",
    "def test(model, data, split_idx, evaluator):\n",
    "    model.eval()\n",
    "\n",
    "    out = model(data.x)\n",
    "    y_pred = out.argmax(dim=-1, keepdim=True)\n",
    "\n",
    "    train_acc = evaluator.eval({\n",
    "        'y_true': data.y[split_idx['train']],\n",
    "        'y_pred': y_pred[split_idx['train']],\n",
    "    })['acc']\n",
    "    valid_acc = evaluator.eval({\n",
    "        'y_true': data.y[split_idx['valid']],\n",
    "        'y_pred': y_pred[split_idx['valid']],\n",
    "    })['acc']\n",
    "    test_acc = evaluator.eval({\n",
    "        'y_true': data.y[split_idx['test']],\n",
    "        'y_pred': y_pred[split_idx['test']],\n",
    "    })['acc']\n",
    "\n",
    "    return train_acc, valid_acc, test_acc"
   ]
  },
  {
   "cell_type": "code",
   "execution_count": 18,
   "metadata": {},
   "outputs": [
    {
     "name": "stdout",
     "output_type": "stream",
     "text": [
      "Epoch: 100, Loss: 2.8646, Train: 23.81%, Valid: 20.38% Test: 17.51%\n",
      "Epoch: 200, Loss: 2.6096, Train: 28.07%, Valid: 27.38% Test: 24.73%\n",
      "Epoch: 300, Loss: 2.4279, Train: 34.03%, Valid: 35.03% Test: 32.51%\n",
      "Epoch: 400, Loss: 2.2880, Train: 38.70%, Valid: 40.17% Test: 37.69%\n",
      "Epoch: 500, Loss: 2.1785, Train: 42.06%, Valid: 43.60% Test: 41.29%\n",
      "Epoch: 600, Loss: 2.0917, Train: 44.41%, Valid: 45.84% Test: 43.44%\n",
      "Epoch: 700, Loss: 2.0219, Train: 46.11%, Valid: 47.12% Test: 45.15%\n",
      "Epoch: 800, Loss: 1.9650, Train: 47.39%, Valid: 48.23% Test: 46.26%\n",
      "Epoch: 900, Loss: 1.9180, Train: 48.27%, Valid: 49.14% Test: 47.09%\n",
      "Epoch: 1000, Loss: 1.8788, Train: 49.05%, Valid: 49.78% Test: 47.70%\n",
      "Epoch: 1100, Loss: 1.8456, Train: 49.64%, Valid: 50.34% Test: 48.19%\n",
      "Epoch: 1200, Loss: 1.8173, Train: 50.12%, Valid: 50.80% Test: 48.61%\n",
      "Epoch: 1300, Loss: 1.7929, Train: 50.55%, Valid: 51.14% Test: 49.01%\n",
      "Epoch: 1400, Loss: 1.7717, Train: 50.91%, Valid: 51.48% Test: 49.30%\n",
      "Epoch: 1500, Loss: 1.7532, Train: 51.26%, Valid: 51.79% Test: 49.55%\n",
      "Epoch: 1600, Loss: 1.7369, Train: 51.57%, Valid: 51.98% Test: 49.81%\n",
      "Epoch: 1700, Loss: 1.7224, Train: 51.87%, Valid: 52.19% Test: 50.03%\n",
      "Epoch: 1800, Loss: 1.7095, Train: 52.08%, Valid: 52.44% Test: 50.25%\n",
      "Epoch: 1900, Loss: 1.6980, Train: 52.22%, Valid: 52.71% Test: 50.45%\n",
      "Epoch: 2000, Loss: 1.6876, Train: 52.39%, Valid: 52.94% Test: 50.59%\n",
      "Epoch: 2100, Loss: 1.6782, Train: 52.58%, Valid: 53.11% Test: 50.75%\n",
      "Epoch: 2200, Loss: 1.6697, Train: 52.75%, Valid: 53.27% Test: 50.88%\n",
      "Epoch: 2300, Loss: 1.6620, Train: 52.91%, Valid: 53.38% Test: 50.98%\n",
      "Epoch: 2400, Loss: 1.6550, Train: 53.05%, Valid: 53.49% Test: 51.14%\n",
      "Epoch: 2500, Loss: 1.6485, Train: 53.20%, Valid: 53.60% Test: 51.22%\n",
      "Epoch: 2600, Loss: 1.6426, Train: 53.32%, Valid: 53.69% Test: 51.34%\n",
      "Epoch: 2700, Loss: 1.6371, Train: 53.47%, Valid: 53.81% Test: 51.46%\n",
      "Epoch: 2800, Loss: 1.6321, Train: 53.57%, Valid: 53.87% Test: 51.53%\n",
      "Epoch: 2900, Loss: 1.6274, Train: 53.67%, Valid: 53.96% Test: 51.64%\n",
      "Epoch: 3000, Loss: 1.6231, Train: 53.77%, Valid: 54.08% Test: 51.66%\n",
      "Epoch: 3100, Loss: 1.6191, Train: 53.89%, Valid: 54.15% Test: 51.74%\n",
      "Epoch: 3200, Loss: 1.6154, Train: 53.95%, Valid: 54.19% Test: 51.80%\n",
      "Epoch: 3300, Loss: 1.6119, Train: 54.01%, Valid: 54.21% Test: 51.84%\n",
      "Epoch: 3400, Loss: 1.6087, Train: 54.07%, Valid: 54.22% Test: 51.86%\n",
      "Epoch: 3500, Loss: 1.6057, Train: 54.14%, Valid: 54.30% Test: 51.95%\n",
      "Epoch: 3600, Loss: 1.6029, Train: 54.19%, Valid: 54.37% Test: 51.99%\n",
      "Epoch: 3700, Loss: 1.6002, Train: 54.24%, Valid: 54.41% Test: 52.04%\n",
      "Epoch: 3800, Loss: 1.5978, Train: 54.30%, Valid: 54.43% Test: 52.09%\n",
      "Epoch: 3900, Loss: 1.5955, Train: 54.35%, Valid: 54.49% Test: 52.10%\n",
      "Epoch: 4000, Loss: 1.5933, Train: 54.42%, Valid: 54.53% Test: 52.14%\n",
      "Epoch: 4100, Loss: 1.5913, Train: 54.48%, Valid: 54.55% Test: 52.15%\n",
      "Epoch: 4200, Loss: 1.5894, Train: 54.51%, Valid: 54.58% Test: 52.18%\n",
      "Epoch: 4300, Loss: 1.5876, Train: 54.53%, Valid: 54.64% Test: 52.20%\n",
      "Epoch: 4400, Loss: 1.5859, Train: 54.57%, Valid: 54.63% Test: 52.21%\n",
      "Epoch: 4500, Loss: 1.5843, Train: 54.61%, Valid: 54.62% Test: 52.30%\n",
      "Epoch: 4600, Loss: 1.5829, Train: 54.66%, Valid: 54.66% Test: 52.28%\n",
      "Epoch: 4700, Loss: 1.5815, Train: 54.69%, Valid: 54.67% Test: 52.32%\n",
      "Epoch: 4800, Loss: 1.5802, Train: 54.70%, Valid: 54.70% Test: 52.34%\n",
      "Epoch: 4900, Loss: 1.5789, Train: 54.73%, Valid: 54.71% Test: 52.33%\n",
      "Epoch: 5000, Loss: 1.5778, Train: 54.73%, Valid: 54.73% Test: 52.33%\n",
      "Epoch: 5100, Loss: 1.5767, Train: 54.74%, Valid: 54.72% Test: 52.36%\n",
      "Epoch: 5200, Loss: 1.5757, Train: 54.76%, Valid: 54.76% Test: 52.37%\n",
      "Epoch: 5300, Loss: 1.5748, Train: 54.78%, Valid: 54.76% Test: 52.37%\n",
      "Epoch: 5400, Loss: 1.5739, Train: 54.78%, Valid: 54.79% Test: 52.40%\n",
      "Epoch: 5500, Loss: 1.5730, Train: 54.82%, Valid: 54.81% Test: 52.39%\n",
      "Epoch: 5600, Loss: 1.5723, Train: 54.84%, Valid: 54.83% Test: 52.41%\n",
      "Epoch: 5700, Loss: 1.5715, Train: 54.85%, Valid: 54.84% Test: 52.39%\n",
      "Epoch: 5800, Loss: 1.5708, Train: 54.88%, Valid: 54.86% Test: 52.39%\n",
      "Epoch: 5900, Loss: 1.5702, Train: 54.89%, Valid: 54.84% Test: 52.40%\n",
      "Epoch: 6000, Loss: 1.5696, Train: 54.91%, Valid: 54.85% Test: 52.42%\n",
      "Epoch: 6100, Loss: 1.5691, Train: 54.93%, Valid: 54.85% Test: 52.41%\n",
      "Epoch: 6200, Loss: 1.5685, Train: 54.94%, Valid: 54.89% Test: 52.41%\n",
      "Epoch: 6300, Loss: 1.5681, Train: 54.96%, Valid: 54.87% Test: 52.40%\n",
      "Epoch: 6400, Loss: 1.5676, Train: 54.98%, Valid: 54.86% Test: 52.40%\n",
      "Epoch: 6500, Loss: 1.5672, Train: 55.00%, Valid: 54.89% Test: 52.40%\n",
      "Epoch: 6600, Loss: 1.5668, Train: 55.03%, Valid: 54.91% Test: 52.36%\n",
      "Epoch: 6700, Loss: 1.5664, Train: 55.02%, Valid: 54.89% Test: 52.37%\n",
      "Epoch: 6800, Loss: 1.5661, Train: 55.04%, Valid: 54.89% Test: 52.38%\n",
      "Epoch: 6900, Loss: 1.5658, Train: 55.05%, Valid: 54.90% Test: 52.40%\n",
      "Epoch: 7000, Loss: 1.5655, Train: 55.06%, Valid: 54.90% Test: 52.39%\n",
      "Epoch: 7100, Loss: 1.5652, Train: 55.06%, Valid: 54.90% Test: 52.40%\n",
      "Epoch: 7200, Loss: 1.5650, Train: 55.05%, Valid: 54.90% Test: 52.40%\n",
      "Epoch: 7300, Loss: 1.5647, Train: 55.06%, Valid: 54.90% Test: 52.42%\n",
      "Epoch: 7400, Loss: 1.5645, Train: 55.07%, Valid: 54.92% Test: 52.40%\n",
      "Epoch: 7500, Loss: 1.5643, Train: 55.07%, Valid: 54.92% Test: 52.39%\n",
      "Epoch: 7600, Loss: 1.5641, Train: 55.08%, Valid: 54.90% Test: 52.41%\n",
      "Epoch: 7700, Loss: 1.5639, Train: 55.09%, Valid: 54.91% Test: 52.39%\n",
      "Epoch: 7800, Loss: 1.5638, Train: 55.09%, Valid: 54.88% Test: 52.39%\n",
      "Epoch: 7900, Loss: 1.5636, Train: 55.09%, Valid: 54.86% Test: 52.38%\n",
      "Epoch: 8000, Loss: 1.5635, Train: 55.09%, Valid: 54.85% Test: 52.38%\n",
      "Epoch: 8100, Loss: 1.5634, Train: 55.09%, Valid: 54.84% Test: 52.40%\n",
      "Epoch: 8200, Loss: 1.5632, Train: 55.10%, Valid: 54.85% Test: 52.41%\n",
      "Epoch: 8300, Loss: 1.5631, Train: 55.10%, Valid: 54.84% Test: 52.42%\n",
      "Epoch: 8400, Loss: 1.5630, Train: 55.11%, Valid: 54.85% Test: 52.42%\n",
      "Epoch: 8500, Loss: 1.5629, Train: 55.12%, Valid: 54.85% Test: 52.42%\n",
      "Epoch: 8600, Loss: 1.5628, Train: 55.11%, Valid: 54.85% Test: 52.43%\n",
      "Epoch: 8700, Loss: 1.5627, Train: 55.12%, Valid: 54.84% Test: 52.44%\n",
      "Epoch: 8800, Loss: 1.5627, Train: 55.12%, Valid: 54.86% Test: 52.44%\n",
      "Epoch: 8900, Loss: 1.5626, Train: 55.12%, Valid: 54.85% Test: 52.42%\n",
      "Epoch: 9000, Loss: 1.5625, Train: 55.11%, Valid: 54.85% Test: 52.41%\n",
      "Epoch: 9100, Loss: 1.5625, Train: 55.10%, Valid: 54.86% Test: 52.41%\n",
      "Epoch: 9200, Loss: 1.5624, Train: 55.11%, Valid: 54.87% Test: 52.42%\n",
      "Epoch: 9300, Loss: 1.5623, Train: 55.12%, Valid: 54.87% Test: 52.42%\n",
      "Epoch: 9400, Loss: 1.5623, Train: 55.12%, Valid: 54.86% Test: 52.42%\n",
      "Epoch: 9500, Loss: 1.5622, Train: 55.13%, Valid: 54.86% Test: 52.41%\n",
      "Epoch: 9600, Loss: 1.5622, Train: 55.13%, Valid: 54.86% Test: 52.42%\n",
      "Epoch: 9700, Loss: 1.5621, Train: 55.14%, Valid: 54.86% Test: 52.42%\n",
      "Epoch: 9800, Loss: 1.5621, Train: 55.14%, Valid: 54.86% Test: 52.42%\n",
      "Epoch: 9900, Loss: 1.5621, Train: 55.14%, Valid: 54.86% Test: 52.43%\n",
      "Epoch: 10000, Loss: 1.5620, Train: 55.14%, Valid: 54.86% Test: 52.42%\n"
     ]
    }
   ],
   "source": [
    "optimizer = torch.optim.Adam(model.parameters(), lr=lr_rate)\n",
    "for epoch in range(1, 1 + epochs):\n",
    "    loss = train(model, data, train_idx, optimizer)\n",
    "    result = test(model, data, split_idx, evaluator)\n",
    "\n",
    "    if epoch % log_steps == 0:\n",
    "        train_acc, valid_acc, test_acc = result\n",
    "        print(f'Epoch: {epoch:02d}, '\n",
    "              f'Loss: {loss:.4f}, '\n",
    "              f'Train: {100 * train_acc:.2f}%, '\n",
    "              f'Valid: {100 * valid_acc:.2f}% '\n",
    "              f'Test: {100 * test_acc:.2f}%')"
   ]
  }
 ],
 "metadata": {
  "kernelspec": {
   "display_name": "Python 3",
   "language": "python",
   "name": "python3"
  },
  "language_info": {
   "codemirror_mode": {
    "name": "ipython",
    "version": 3
   },
   "file_extension": ".py",
   "mimetype": "text/x-python",
   "name": "python",
   "nbconvert_exporter": "python",
   "pygments_lexer": "ipython3",
   "version": "3.8.5"
  }
 },
 "nbformat": 4,
 "nbformat_minor": 4
}
