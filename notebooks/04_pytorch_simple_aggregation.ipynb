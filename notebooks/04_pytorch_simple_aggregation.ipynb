{
 "cells": [
  {
   "cell_type": "code",
   "execution_count": 1,
   "metadata": {},
   "outputs": [],
   "source": [
    "import numpy as np\n",
    "from sklearn.metrics import accuracy_score\n",
    "import torch\n",
    "import torch.nn.functional as F\n",
    "from ogb.nodeproppred import PygNodePropPredDataset, Evaluator\n",
    "import torch_geometric.transforms as T\n",
    "from torch_geometric.data import DataLoader\n",
    "from torch_geometric.nn import SAGEConv"
   ]
  },
  {
   "cell_type": "code",
   "execution_count": 2,
   "metadata": {},
   "outputs": [],
   "source": [
    "dataset = PygNodePropPredDataset(name='ogbn-arxiv', \n",
    "                                 root='../data/dataset/',\n",
    "                                 transform=T.ToSparseTensor())"
   ]
  },
  {
   "cell_type": "code",
   "execution_count": 3,
   "metadata": {
    "scrolled": true
   },
   "outputs": [
    {
     "data": {
      "text/plain": [
       "True"
      ]
     },
     "execution_count": 3,
     "metadata": {},
     "output_type": "execute_result"
    }
   ],
   "source": [
    "torch.cuda.is_available()"
   ]
  },
  {
   "cell_type": "code",
   "execution_count": 4,
   "metadata": {},
   "outputs": [],
   "source": [
    "device = 'cuda:0' if torch.cuda.is_available() else 'cpu'\n",
    "device = torch.device(device)"
   ]
  },
  {
   "cell_type": "code",
   "execution_count": 5,
   "metadata": {},
   "outputs": [],
   "source": [
    "data = dataset[0]"
   ]
  },
  {
   "cell_type": "code",
   "execution_count": 6,
   "metadata": {},
   "outputs": [
    {
     "data": {
      "text/plain": [
       "Data(adj_t=[169343, 169343, nnz=1166243], node_year=[169343, 1], x=[169343, 128], y=[169343, 1])"
      ]
     },
     "execution_count": 6,
     "metadata": {},
     "output_type": "execute_result"
    }
   ],
   "source": [
    "data"
   ]
  },
  {
   "cell_type": "code",
   "execution_count": 7,
   "metadata": {},
   "outputs": [],
   "source": [
    "data = data.to(device)"
   ]
  },
  {
   "cell_type": "code",
   "execution_count": 8,
   "metadata": {},
   "outputs": [],
   "source": [
    "split_idx = dataset.get_idx_split()\n",
    "train_idx = split_idx['train'].to(device)"
   ]
  },
  {
   "cell_type": "code",
   "execution_count": 9,
   "metadata": {},
   "outputs": [],
   "source": [
    "evaluator = Evaluator(name='ogbn-arxiv')"
   ]
  },
  {
   "cell_type": "code",
   "execution_count": 10,
   "metadata": {},
   "outputs": [
    {
     "data": {
      "text/plain": [
       "128"
      ]
     },
     "execution_count": 10,
     "metadata": {},
     "output_type": "execute_result"
    }
   ],
   "source": [
    "data['x'].shape[1]"
   ]
  },
  {
   "cell_type": "code",
   "execution_count": 11,
   "metadata": {},
   "outputs": [
    {
     "data": {
      "text/plain": [
       "40"
      ]
     },
     "execution_count": 11,
     "metadata": {},
     "output_type": "execute_result"
    }
   ],
   "source": [
    "data['y'][:, 0].unique().shape[0]"
   ]
  },
  {
   "cell_type": "code",
   "execution_count": 12,
   "metadata": {},
   "outputs": [],
   "source": [
    "n_iters = 3000\n",
    "epochs = 10000\n",
    "log_steps = 100\n",
    "input_dim = data['x'].shape[1]\n",
    "hidden_channels = input_dim * 2\n",
    "output_dim = data['y'][:, 0].unique().shape[0]\n",
    "lr_rate = 0.001"
   ]
  },
  {
   "cell_type": "code",
   "execution_count": 13,
   "metadata": {},
   "outputs": [],
   "source": [
    "class OneLayer(torch.nn.Module):\n",
    "    def __init__(self, input_dim, hidden_channels, output_dim):\n",
    "        super(OneLayer, self).__init__()\n",
    "        \n",
    "        self.convs = torch.nn.ModuleList()\n",
    "        self.bns = torch.nn.ModuleList()\n",
    "        \n",
    "        \n",
    "        self.convs.append(SAGEConv(input_dim, output_dim))\n",
    "        \n",
    "\n",
    "    def forward(self, x, adj_t):\n",
    "        x = self.convs[0](x, adj_t)\n",
    "        return x.log_softmax(dim=-1)"
   ]
  },
  {
   "cell_type": "code",
   "execution_count": 14,
   "metadata": {},
   "outputs": [],
   "source": [
    "model = OneLayer(input_dim, hidden_channels, output_dim).to(device)"
   ]
  },
  {
   "cell_type": "code",
   "execution_count": 15,
   "metadata": {},
   "outputs": [],
   "source": [
    "def train(model, data, train_idx, optimizer):\n",
    "    model.train()\n",
    "\n",
    "    optimizer.zero_grad()\n",
    "    out = model(data.x, data.adj_t)[train_idx]\n",
    "    loss = F.nll_loss(out, data.y.squeeze(1)[train_idx])\n",
    "    loss.backward()\n",
    "    optimizer.step()\n",
    "\n",
    "    return loss.item()"
   ]
  },
  {
   "cell_type": "code",
   "execution_count": 16,
   "metadata": {},
   "outputs": [],
   "source": [
    "@torch.no_grad()\n",
    "def test(model, data, split_idx, evaluator):\n",
    "    model.eval()\n",
    "\n",
    "    out = model(data.x, data.adj_t)\n",
    "    y_pred = out.argmax(dim=-1, keepdim=True)\n",
    "\n",
    "    train_acc = evaluator.eval({\n",
    "        'y_true': data.y[split_idx['train']],\n",
    "        'y_pred': y_pred[split_idx['train']],\n",
    "    })['acc']\n",
    "    valid_acc = evaluator.eval({\n",
    "        'y_true': data.y[split_idx['valid']],\n",
    "        'y_pred': y_pred[split_idx['valid']],\n",
    "    })['acc']\n",
    "    test_acc = evaluator.eval({\n",
    "        'y_true': data.y[split_idx['test']],\n",
    "        'y_pred': y_pred[split_idx['test']],\n",
    "    })['acc']\n",
    "\n",
    "    return train_acc, valid_acc, test_acc"
   ]
  },
  {
   "cell_type": "code",
   "execution_count": null,
   "metadata": {},
   "outputs": [
    {
     "name": "stdout",
     "output_type": "stream",
     "text": [
      "Epoch: 100, Loss: 2.6869, Train: 27.51%, Valid: 27.36% Test: 26.63%\n",
      "Epoch: 200, Loss: 2.3460, Train: 37.84%, Valid: 38.77% Test: 34.62%\n",
      "Epoch: 300, Loss: 2.1141, Train: 45.13%, Valid: 45.47% Test: 39.42%\n",
      "Epoch: 400, Loss: 1.9518, Train: 49.12%, Valid: 49.00% Test: 42.86%\n",
      "Epoch: 500, Loss: 1.8343, Train: 51.68%, Valid: 51.18% Test: 45.06%\n",
      "Epoch: 600, Loss: 1.7467, Train: 53.33%, Valid: 52.86% Test: 46.74%\n",
      "Epoch: 700, Loss: 1.6793, Train: 54.49%, Valid: 54.03% Test: 47.93%\n",
      "Epoch: 800, Loss: 1.6263, Train: 55.43%, Valid: 54.71% Test: 48.83%\n",
      "Epoch: 900, Loss: 1.5836, Train: 56.16%, Valid: 55.15% Test: 49.50%\n",
      "Epoch: 1000, Loss: 1.5486, Train: 56.75%, Valid: 55.71% Test: 50.01%\n",
      "Epoch: 1100, Loss: 1.5194, Train: 57.26%, Valid: 56.20% Test: 50.51%\n",
      "Epoch: 1200, Loss: 1.4948, Train: 57.75%, Valid: 56.62% Test: 50.91%\n",
      "Epoch: 1300, Loss: 1.4737, Train: 58.19%, Valid: 56.90% Test: 51.21%\n",
      "Epoch: 1400, Loss: 1.4555, Train: 58.53%, Valid: 57.22% Test: 51.53%\n",
      "Epoch: 1500, Loss: 1.4396, Train: 58.82%, Valid: 57.48% Test: 51.81%\n",
      "Epoch: 1600, Loss: 1.4255, Train: 59.09%, Valid: 57.67% Test: 52.03%\n",
      "Epoch: 1700, Loss: 1.4131, Train: 59.38%, Valid: 57.92% Test: 52.21%\n",
      "Epoch: 1800, Loss: 1.4019, Train: 59.58%, Valid: 58.05% Test: 52.33%\n",
      "Epoch: 1900, Loss: 1.3918, Train: 59.84%, Valid: 58.17% Test: 52.52%\n",
      "Epoch: 2000, Loss: 1.3827, Train: 60.01%, Valid: 58.28% Test: 52.63%\n",
      "Epoch: 2100, Loss: 1.3744, Train: 60.20%, Valid: 58.43% Test: 52.76%\n",
      "Epoch: 2200, Loss: 1.3668, Train: 60.37%, Valid: 58.59% Test: 52.84%\n",
      "Epoch: 2300, Loss: 1.3599, Train: 60.52%, Valid: 58.66% Test: 52.94%\n",
      "Epoch: 2400, Loss: 1.3535, Train: 60.63%, Valid: 58.72% Test: 52.98%\n",
      "Epoch: 2500, Loss: 1.3475, Train: 60.77%, Valid: 58.87% Test: 53.04%\n",
      "Epoch: 2600, Loss: 1.3420, Train: 60.89%, Valid: 58.95% Test: 53.13%\n",
      "Epoch: 2700, Loss: 1.3369, Train: 61.00%, Valid: 59.06% Test: 53.26%\n",
      "Epoch: 2800, Loss: 1.3321, Train: 61.12%, Valid: 59.14% Test: 53.34%\n",
      "Epoch: 2900, Loss: 1.3276, Train: 61.23%, Valid: 59.22% Test: 53.43%\n",
      "Epoch: 3000, Loss: 1.3235, Train: 61.34%, Valid: 59.25% Test: 53.49%\n",
      "Epoch: 3100, Loss: 1.3195, Train: 61.40%, Valid: 59.33% Test: 53.51%\n",
      "Epoch: 3200, Loss: 1.3158, Train: 61.48%, Valid: 59.36% Test: 53.53%\n",
      "Epoch: 3300, Loss: 1.3124, Train: 61.53%, Valid: 59.36% Test: 53.58%\n",
      "Epoch: 3400, Loss: 1.3091, Train: 61.62%, Valid: 59.38% Test: 53.62%\n",
      "Epoch: 3500, Loss: 1.3060, Train: 61.66%, Valid: 59.39% Test: 53.57%\n",
      "Epoch: 3600, Loss: 1.3031, Train: 61.76%, Valid: 59.40% Test: 53.58%\n",
      "Epoch: 3700, Loss: 1.3004, Train: 61.84%, Valid: 59.37% Test: 53.58%\n",
      "Epoch: 3800, Loss: 1.2977, Train: 61.90%, Valid: 59.43% Test: 53.56%\n",
      "Epoch: 3900, Loss: 1.2953, Train: 61.94%, Valid: 59.45% Test: 53.61%\n",
      "Epoch: 4000, Loss: 1.2929, Train: 61.98%, Valid: 59.48% Test: 53.61%\n",
      "Epoch: 4100, Loss: 1.2907, Train: 62.03%, Valid: 59.51% Test: 53.63%\n",
      "Epoch: 4200, Loss: 1.2886, Train: 62.09%, Valid: 59.50% Test: 53.66%\n",
      "Epoch: 4300, Loss: 1.2866, Train: 62.15%, Valid: 59.57% Test: 53.66%\n",
      "Epoch: 4400, Loss: 1.2847, Train: 62.22%, Valid: 59.62% Test: 53.66%\n",
      "Epoch: 4500, Loss: 1.2829, Train: 62.28%, Valid: 59.63% Test: 53.66%\n",
      "Epoch: 4600, Loss: 1.2812, Train: 62.32%, Valid: 59.62% Test: 53.67%\n",
      "Epoch: 4700, Loss: 1.2795, Train: 62.36%, Valid: 59.62% Test: 53.70%\n",
      "Epoch: 4800, Loss: 1.2780, Train: 62.39%, Valid: 59.60% Test: 53.67%\n",
      "Epoch: 4900, Loss: 1.2765, Train: 62.40%, Valid: 59.62% Test: 53.67%\n",
      "Epoch: 5000, Loss: 1.2751, Train: 62.41%, Valid: 59.62% Test: 53.67%\n",
      "Epoch: 5100, Loss: 1.2738, Train: 62.44%, Valid: 59.64% Test: 53.68%\n",
      "Epoch: 5200, Loss: 1.2725, Train: 62.46%, Valid: 59.69% Test: 53.66%\n",
      "Epoch: 5300, Loss: 1.2713, Train: 62.48%, Valid: 59.68% Test: 53.67%\n",
      "Epoch: 5400, Loss: 1.2701, Train: 62.51%, Valid: 59.69% Test: 53.67%\n",
      "Epoch: 5500, Loss: 1.2691, Train: 62.54%, Valid: 59.68% Test: 53.67%\n",
      "Epoch: 5600, Loss: 1.2680, Train: 62.57%, Valid: 59.67% Test: 53.66%\n",
      "Epoch: 5700, Loss: 1.2670, Train: 62.60%, Valid: 59.67% Test: 53.67%\n",
      "Epoch: 5800, Loss: 1.2661, Train: 62.62%, Valid: 59.67% Test: 53.64%\n",
      "Epoch: 5900, Loss: 1.2652, Train: 62.64%, Valid: 59.66% Test: 53.65%\n",
      "Epoch: 6000, Loss: 1.2644, Train: 62.65%, Valid: 59.67% Test: 53.65%\n",
      "Epoch: 6100, Loss: 1.2636, Train: 62.67%, Valid: 59.68% Test: 53.67%\n",
      "Epoch: 6200, Loss: 1.2628, Train: 62.70%, Valid: 59.67% Test: 53.67%\n",
      "Epoch: 6300, Loss: 1.2621, Train: 62.71%, Valid: 59.69% Test: 53.66%\n",
      "Epoch: 6400, Loss: 1.2614, Train: 62.73%, Valid: 59.70% Test: 53.66%\n",
      "Epoch: 6500, Loss: 1.2608, Train: 62.76%, Valid: 59.70% Test: 53.65%\n",
      "Epoch: 6600, Loss: 1.2602, Train: 62.77%, Valid: 59.70% Test: 53.66%\n",
      "Epoch: 6700, Loss: 1.2596, Train: 62.78%, Valid: 59.71% Test: 53.63%\n",
      "Epoch: 6800, Loss: 1.2590, Train: 62.79%, Valid: 59.71% Test: 53.65%\n",
      "Epoch: 6900, Loss: 1.2585, Train: 62.81%, Valid: 59.71% Test: 53.66%\n",
      "Epoch: 7000, Loss: 1.2580, Train: 62.82%, Valid: 59.70% Test: 53.64%\n",
      "Epoch: 7100, Loss: 1.2575, Train: 62.84%, Valid: 59.69% Test: 53.62%\n",
      "Epoch: 7200, Loss: 1.2571, Train: 62.86%, Valid: 59.67% Test: 53.61%\n",
      "Epoch: 7300, Loss: 1.2567, Train: 62.87%, Valid: 59.66% Test: 53.62%\n",
      "Epoch: 7400, Loss: 1.2563, Train: 62.89%, Valid: 59.67% Test: 53.64%\n",
      "Epoch: 7500, Loss: 1.2559, Train: 62.90%, Valid: 59.66% Test: 53.64%\n",
      "Epoch: 7600, Loss: 1.2555, Train: 62.90%, Valid: 59.65% Test: 53.62%\n",
      "Epoch: 7700, Loss: 1.2552, Train: 62.92%, Valid: 59.66% Test: 53.61%\n"
     ]
    }
   ],
   "source": [
    "optimizer = torch.optim.Adam(model.parameters(), lr=lr_rate)\n",
    "for epoch in range(1, 1 + epochs):\n",
    "    loss = train(model, data, train_idx, optimizer)\n",
    "    result = test(model, data, split_idx, evaluator)\n",
    "\n",
    "    if epoch % log_steps == 0:\n",
    "        train_acc, valid_acc, test_acc = result\n",
    "        print(f'Epoch: {epoch:02d}, '\n",
    "              f'Loss: {loss:.4f}, '\n",
    "              f'Train: {100 * train_acc:.2f}%, '\n",
    "              f'Valid: {100 * valid_acc:.2f}% '\n",
    "              f'Test: {100 * test_acc:.2f}%')"
   ]
  }
 ],
 "metadata": {
  "kernelspec": {
   "display_name": "Python 3",
   "language": "python",
   "name": "python3"
  },
  "language_info": {
   "codemirror_mode": {
    "name": "ipython",
    "version": 3
   },
   "file_extension": ".py",
   "mimetype": "text/x-python",
   "name": "python",
   "nbconvert_exporter": "python",
   "pygments_lexer": "ipython3",
   "version": "3.8.5"
  }
 },
 "nbformat": 4,
 "nbformat_minor": 4
}
