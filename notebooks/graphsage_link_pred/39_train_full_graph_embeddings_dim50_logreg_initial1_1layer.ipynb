{
 "cells": [
  {
   "cell_type": "code",
   "execution_count": 1,
   "metadata": {},
   "outputs": [
    {
     "name": "stderr",
     "output_type": "stream",
     "text": [
      "Using backend: pytorch\n"
     ]
    }
   ],
   "source": [
    "import numpy as np\n",
    "from sklearn.metrics import accuracy_score\n",
    "import torch\n",
    "import torch.nn.functional as F\n",
    "from ogb.nodeproppred import PygNodePropPredDataset, Evaluator\n",
    "import torch_geometric.transforms as T\n",
    "from torch_geometric.utils import negative_sampling\n",
    "from torch_geometric.data import DataLoader\n",
    "from torch_geometric.nn import SAGEConv"
   ]
  },
  {
   "cell_type": "code",
   "execution_count": 2,
   "metadata": {},
   "outputs": [
    {
     "data": {
      "text/plain": [
       "PygNodePropPredDataset()"
      ]
     },
     "execution_count": 2,
     "metadata": {},
     "output_type": "execute_result"
    }
   ],
   "source": [
    "dataset = PygNodePropPredDataset(name='ogbn-arxiv', \n",
    "                                 root='../../data/dataset/',\n",
    "                                 transform=T.ToSparseTensor())\n",
    "dataset"
   ]
  },
  {
   "cell_type": "code",
   "execution_count": 3,
   "metadata": {
    "scrolled": false
   },
   "outputs": [
    {
     "data": {
      "text/plain": [
       "True"
      ]
     },
     "execution_count": 3,
     "metadata": {},
     "output_type": "execute_result"
    }
   ],
   "source": [
    "torch.cuda.is_available()"
   ]
  },
  {
   "cell_type": "code",
   "execution_count": 4,
   "metadata": {},
   "outputs": [
    {
     "data": {
      "text/plain": [
       "Data(adj_t=[169343, 169343, nnz=1166243], node_year=[169343, 1], x=[169343, 128], y=[169343, 1])"
      ]
     },
     "execution_count": 4,
     "metadata": {},
     "output_type": "execute_result"
    }
   ],
   "source": [
    "data = dataset[0]\n",
    "data"
   ]
  },
  {
   "cell_type": "code",
   "execution_count": 5,
   "metadata": {},
   "outputs": [
    {
     "data": {
      "text/plain": [
       "{'train': tensor([     0,      1,      2,  ..., 169145, 169148, 169251]),\n",
       " 'valid': tensor([   349,    357,    366,  ..., 169185, 169261, 169296]),\n",
       " 'test': tensor([   346,    398,    451,  ..., 169340, 169341, 169342])}"
      ]
     },
     "execution_count": 5,
     "metadata": {},
     "output_type": "execute_result"
    }
   ],
   "source": [
    "split_idx = dataset.get_idx_split()\n",
    "split_idx"
   ]
  },
  {
   "cell_type": "code",
   "execution_count": 6,
   "metadata": {},
   "outputs": [
    {
     "data": {
      "text/plain": [
       "SparseTensor(row=tensor([     0,      0,      0,  ..., 169341, 169342, 169342]),\n",
       "             col=tensor([   411,    640,   1162,  ..., 163274,  27824, 158981]),\n",
       "             size=(169343, 169343), nnz=2315598, density=0.01%)"
      ]
     },
     "execution_count": 6,
     "metadata": {},
     "output_type": "execute_result"
    }
   ],
   "source": [
    "data.adj_t = data.adj_t.to_symmetric()\n",
    "data.adj_t"
   ]
  },
  {
   "cell_type": "code",
   "execution_count": 7,
   "metadata": {},
   "outputs": [],
   "source": [
    "row, col, _ = data.adj_t.coo()"
   ]
  },
  {
   "cell_type": "code",
   "execution_count": 8,
   "metadata": {},
   "outputs": [
    {
     "data": {
      "text/plain": [
       "tensor([[   411,    640,   1162,  ..., 163274,  27824, 158981],\n",
       "        [     0,      0,      0,  ..., 169341, 169342, 169342]])"
      ]
     },
     "execution_count": 8,
     "metadata": {},
     "output_type": "execute_result"
    }
   ],
   "source": [
    "edge_index = torch.stack([col, row], dim=0)\n",
    "edge_index"
   ]
  },
  {
   "cell_type": "code",
   "execution_count": 9,
   "metadata": {},
   "outputs": [
    {
     "data": {
      "text/plain": [
       "tensor([[   411,      0],\n",
       "        [   640,      0],\n",
       "        [  1162,      0],\n",
       "        ...,\n",
       "        [163274, 169341],\n",
       "        [ 27824, 169342],\n",
       "        [158981, 169342]])"
      ]
     },
     "execution_count": 9,
     "metadata": {},
     "output_type": "execute_result"
    }
   ],
   "source": [
    "edge_index.t()"
   ]
  },
  {
   "cell_type": "code",
   "execution_count": 10,
   "metadata": {},
   "outputs": [
    {
     "data": {
      "text/plain": [
       "torch.Size([2, 2315598])"
      ]
     },
     "execution_count": 10,
     "metadata": {},
     "output_type": "execute_result"
    }
   ],
   "source": [
    "edge_index.shape"
   ]
  },
  {
   "cell_type": "code",
   "execution_count": 11,
   "metadata": {
    "scrolled": true
   },
   "outputs": [
    {
     "data": {
      "text/plain": [
       "tensor([411,   0])"
      ]
     },
     "execution_count": 11,
     "metadata": {},
     "output_type": "execute_result"
    }
   ],
   "source": [
    "edge_index[:, 0]"
   ]
  },
  {
   "cell_type": "code",
   "execution_count": 12,
   "metadata": {},
   "outputs": [
    {
     "data": {
      "text/plain": [
       "tensor([411,   0])"
      ]
     },
     "execution_count": 12,
     "metadata": {},
     "output_type": "execute_result"
    }
   ],
   "source": [
    "edge_index.t()[0]"
   ]
  },
  {
   "cell_type": "code",
   "execution_count": 16,
   "metadata": {},
   "outputs": [],
   "source": [
    "class SAGE(torch.nn.Module):\n",
    "    def __init__(self, in_channels, out_channels,\n",
    "                 dropout):\n",
    "        super(SAGE, self).__init__()\n",
    "\n",
    "        self.convs = torch.nn.ModuleList()\n",
    "        self.convs.append(SAGEConv(in_channels, out_channels))\n",
    "\n",
    "        self.dropout = dropout\n",
    "\n",
    "    def reset_parameters(self):\n",
    "        for conv in self.convs:\n",
    "            conv.reset_parameters()\n",
    "\n",
    "    def forward(self, x, adj_t):\n",
    "        for conv in self.convs[:-1]:\n",
    "            x = conv(x, adj_t)\n",
    "            x = F.relu(x)\n",
    "            x = F.dropout(x, p=self.dropout, training=self.training)\n",
    "        x = self.convs[-1](x, adj_t)\n",
    "        return x\n",
    "\n",
    "\n",
    "class LinkPredictor(torch.nn.Module):\n",
    "    def __init__(self, in_channels, out_channels):\n",
    "        super(LinkPredictor, self).__init__()\n",
    "        self.lin = torch.nn.Linear(in_channels, out_channels)\n",
    "\n",
    "    def reset_parameters(self):\n",
    "        self.lin.weight.data.fill_(1)\n",
    "\n",
    "    def forward(self, x_i, x_j):\n",
    "        x = x_i * x_j\n",
    "        x = self.lin(x)\n",
    "        return torch.sigmoid(x)"
   ]
  },
  {
   "cell_type": "code",
   "execution_count": 17,
   "metadata": {},
   "outputs": [],
   "source": [
    "device=0\n",
    "log_steps=1\n",
    "num_layers=1\n",
    "hidden_channels=50\n",
    "dropout=0.5\n",
    "batch_size=128 * 1024\n",
    "lr=0.005\n",
    "epochs=100\n",
    "eval_steps=2\n",
    "runs=10"
   ]
  },
  {
   "cell_type": "code",
   "execution_count": 18,
   "metadata": {},
   "outputs": [
    {
     "data": {
      "text/plain": [
       "device(type='cuda', index=0)"
      ]
     },
     "execution_count": 18,
     "metadata": {},
     "output_type": "execute_result"
    }
   ],
   "source": [
    "device = f'cuda:{device}' if torch.cuda.is_available() else 'cpu'\n",
    "device = torch.device(device)\n",
    "device"
   ]
  },
  {
   "cell_type": "code",
   "execution_count": 19,
   "metadata": {},
   "outputs": [],
   "source": [
    "adj_t = data.adj_t.to(device)"
   ]
  },
  {
   "cell_type": "code",
   "execution_count": 20,
   "metadata": {},
   "outputs": [
    {
     "data": {
      "text/plain": [
       "<torch._C.Generator at 0x7f8eba731970>"
      ]
     },
     "execution_count": 20,
     "metadata": {},
     "output_type": "execute_result"
    }
   ],
   "source": [
    "torch.manual_seed(12345)"
   ]
  },
  {
   "cell_type": "code",
   "execution_count": 21,
   "metadata": {},
   "outputs": [],
   "source": [
    "model = SAGE(hidden_channels, hidden_channels,\n",
    "             dropout).to(device)"
   ]
  },
  {
   "cell_type": "code",
   "execution_count": 22,
   "metadata": {},
   "outputs": [],
   "source": [
    "emb = torch.nn.Embedding(data.num_nodes, hidden_channels).to(device)"
   ]
  },
  {
   "cell_type": "code",
   "execution_count": 23,
   "metadata": {},
   "outputs": [],
   "source": [
    "predictor = LinkPredictor(hidden_channels, 1).to(device)"
   ]
  },
  {
   "cell_type": "code",
   "execution_count": 24,
   "metadata": {},
   "outputs": [
    {
     "data": {
      "text/plain": [
       "(169343, 50)"
      ]
     },
     "execution_count": 24,
     "metadata": {},
     "output_type": "execute_result"
    }
   ],
   "source": [
    "emb.weight.size(0), emb.weight.size(1)"
   ]
  },
  {
   "cell_type": "code",
   "execution_count": 25,
   "metadata": {
    "scrolled": true
   },
   "outputs": [
    {
     "data": {
      "text/plain": [
       "Parameter containing:\n",
       "tensor([[ 3.8116e-03, -1.7777e-04,  2.6052e-03,  ..., -9.5538e-04,\n",
       "         -5.6698e-03,  2.9117e-03],\n",
       "        [ 4.8286e-03,  5.7555e-03,  4.1475e-03,  ...,  2.2556e-03,\n",
       "          2.7162e-03,  4.5704e-03],\n",
       "        [ 1.6921e-03, -1.5087e-03,  3.1802e-03,  ..., -4.9685e-03,\n",
       "         -5.1306e-04, -9.3337e-04],\n",
       "        ...,\n",
       "        [ 4.1685e-03,  3.3565e-03,  3.5653e-03,  ...,  3.1168e-03,\n",
       "         -1.2510e-03, -3.7040e-03],\n",
       "        [-6.9713e-04,  2.8990e-03,  4.6939e-03,  ...,  3.2265e-03,\n",
       "          2.1993e-03,  4.2817e-03],\n",
       "        [ 4.2867e-03, -3.3813e-03,  3.8860e-05,  ...,  2.8638e-03,\n",
       "          5.3680e-04, -6.6582e-05]], device='cuda:0', requires_grad=True)"
      ]
     },
     "execution_count": 25,
     "metadata": {},
     "output_type": "execute_result"
    }
   ],
   "source": [
    "torch.nn.init.xavier_uniform_(emb.weight)"
   ]
  },
  {
   "cell_type": "code",
   "execution_count": 26,
   "metadata": {},
   "outputs": [],
   "source": [
    "model.reset_parameters()\n",
    "predictor.reset_parameters()"
   ]
  },
  {
   "cell_type": "code",
   "execution_count": 27,
   "metadata": {},
   "outputs": [],
   "source": [
    "optimizer = torch.optim.Adam(\n",
    "    list(model.parameters()) + list(emb.parameters()) +\n",
    "    list(predictor.parameters()), lr=lr)"
   ]
  },
  {
   "cell_type": "code",
   "execution_count": 28,
   "metadata": {},
   "outputs": [],
   "source": [
    "def train(model, predictor, x, adj_t, optimizer, batch_size):\n",
    "\n",
    "    row, col, _ = adj_t.coo()\n",
    "    edge_index = torch.stack([col, row], dim=0)\n",
    "\n",
    "    model.train()\n",
    "    predictor.train()\n",
    "\n",
    "    pos_train_edge = edge_index.t().to(x.device)\n",
    "\n",
    "    total_loss = total_examples = 0\n",
    "    for perm in DataLoader(range(pos_train_edge.size(0)), batch_size,\n",
    "                           shuffle=True):\n",
    "        optimizer.zero_grad()\n",
    "\n",
    "        h = model(x, adj_t)\n",
    "\n",
    "        edge = pos_train_edge[perm].t()\n",
    "\n",
    "        pos_out = predictor(h[edge[0]], h[edge[1]])\n",
    "        pos_loss = -torch.log(pos_out + 1e-15).mean()\n",
    "\n",
    "        edge = negative_sampling(edge_index, num_nodes=x.size(0),\n",
    "                                 num_neg_samples=perm.size(0), method='sparse')\n",
    "\n",
    "        neg_out = predictor(h[edge[0]], h[edge[1]])\n",
    "        neg_loss = -torch.log(1 - neg_out + 1e-15).mean()\n",
    "\n",
    "        loss = pos_loss + neg_loss\n",
    "        loss.backward()\n",
    "\n",
    "        torch.nn.utils.clip_grad_norm_(x, 1.0)\n",
    "        torch.nn.utils.clip_grad_norm_(model.parameters(), 1.0)\n",
    "        torch.nn.utils.clip_grad_norm_(predictor.parameters(), 1.0)\n",
    "\n",
    "        optimizer.step()\n",
    "\n",
    "        num_examples = pos_out.size(0)\n",
    "        total_loss += loss.item() * num_examples\n",
    "        total_examples += num_examples\n",
    "\n",
    "    return total_loss / total_examples"
   ]
  },
  {
   "cell_type": "code",
   "execution_count": 29,
   "metadata": {},
   "outputs": [
    {
     "name": "stdout",
     "output_type": "stream",
     "text": [
      "Epoch: 02, Loss: 0.9764\n",
      "Epoch: 04, Loss: 0.8561\n",
      "Epoch: 06, Loss: 0.7493\n",
      "Epoch: 08, Loss: 0.6867\n",
      "Epoch: 10, Loss: 0.6233\n",
      "Epoch: 12, Loss: 0.5675\n",
      "Epoch: 14, Loss: 0.5217\n",
      "Epoch: 16, Loss: 0.4715\n",
      "Epoch: 18, Loss: 0.4262\n",
      "Epoch: 20, Loss: 0.3915\n",
      "Epoch: 22, Loss: 0.3562\n",
      "Epoch: 24, Loss: 0.3321\n",
      "Epoch: 26, Loss: 0.3077\n",
      "Epoch: 28, Loss: 0.2861\n",
      "Epoch: 30, Loss: 0.2638\n",
      "Epoch: 32, Loss: 0.2437\n",
      "Epoch: 34, Loss: 0.2277\n",
      "Epoch: 36, Loss: 0.2130\n",
      "Epoch: 38, Loss: 0.1990\n",
      "Epoch: 40, Loss: 0.1869\n",
      "Epoch: 42, Loss: 0.1767\n",
      "Epoch: 44, Loss: 0.1665\n",
      "Epoch: 46, Loss: 0.1571\n",
      "Epoch: 48, Loss: 0.1493\n",
      "Epoch: 50, Loss: 0.1416\n",
      "Epoch: 52, Loss: 0.1349\n",
      "Epoch: 54, Loss: 0.1285\n",
      "Epoch: 56, Loss: 0.1227\n",
      "Epoch: 58, Loss: 0.1166\n",
      "Epoch: 60, Loss: 0.1110\n",
      "Epoch: 62, Loss: 0.1058\n",
      "Epoch: 64, Loss: 0.1016\n",
      "Epoch: 66, Loss: 0.0982\n",
      "Epoch: 68, Loss: 0.0942\n",
      "Epoch: 70, Loss: 0.0903\n",
      "Epoch: 72, Loss: 0.0870\n",
      "Epoch: 74, Loss: 0.0842\n",
      "Epoch: 76, Loss: 0.0813\n",
      "Epoch: 78, Loss: 0.0785\n",
      "Epoch: 80, Loss: 0.0755\n",
      "Epoch: 82, Loss: 0.0728\n",
      "Epoch: 84, Loss: 0.0702\n",
      "Epoch: 86, Loss: 0.0683\n",
      "Epoch: 88, Loss: 0.0656\n",
      "Epoch: 90, Loss: 0.0637\n",
      "Epoch: 92, Loss: 0.0618\n",
      "Epoch: 94, Loss: 0.0593\n",
      "Epoch: 96, Loss: 0.0578\n",
      "Epoch: 98, Loss: 0.0565\n",
      "Epoch: 100, Loss: 0.0546\n"
     ]
    }
   ],
   "source": [
    "for epoch in range(1, 1 + epochs):\n",
    "    loss = train(model, predictor, emb.weight, adj_t,\n",
    "                 optimizer, batch_size)\n",
    "    \n",
    "    if epoch % eval_steps == 0:\n",
    "        print(f'Epoch: {epoch:02d}, '\n",
    "              f'Loss: {loss:.4f}')"
   ]
  },
  {
   "cell_type": "code",
   "execution_count": 30,
   "metadata": {},
   "outputs": [
    {
     "data": {
      "text/plain": [
       "Parameter containing:\n",
       "tensor([[1.1896, 1.4459, 1.1338, 1.2402, 1.0555, 1.1475, 1.3328, 1.1936, 1.0301,\n",
       "         1.0774, 1.1115, 1.1587, 1.0725, 1.1604, 1.0804, 1.0288, 1.1297, 1.2014,\n",
       "         1.2258, 1.2762, 1.1281, 1.0166, 1.3971, 1.1980, 1.0943, 0.9973, 1.0443,\n",
       "         1.1536, 1.2125, 1.1489, 1.1733, 1.1425, 1.2231, 1.1866, 1.0806, 1.0404,\n",
       "         1.1260, 1.0387, 1.1598, 0.9950, 1.1039, 1.1471, 1.2440, 1.3079, 0.9607,\n",
       "         1.1720, 1.0738, 1.0588, 1.1591, 1.1847]], device='cuda:0',\n",
       "       requires_grad=True)"
      ]
     },
     "execution_count": 30,
     "metadata": {},
     "output_type": "execute_result"
    }
   ],
   "source": [
    "predictor.lin.weight"
   ]
  },
  {
   "cell_type": "code",
   "execution_count": 31,
   "metadata": {
    "scrolled": true
   },
   "outputs": [
    {
     "data": {
      "text/plain": [
       "SAGE(\n",
       "  (convs): ModuleList(\n",
       "    (0): SAGEConv(50, 50)\n",
       "  )\n",
       ")"
      ]
     },
     "execution_count": 31,
     "metadata": {},
     "output_type": "execute_result"
    }
   ],
   "source": [
    "model.eval()"
   ]
  },
  {
   "cell_type": "code",
   "execution_count": 32,
   "metadata": {},
   "outputs": [
    {
     "data": {
      "text/plain": [
       "Parameter containing:\n",
       "tensor([[ 0.2915, -0.5625,  0.1320,  ..., -0.4136,  0.0230,  0.1214],\n",
       "        [-0.0397,  0.1172,  0.1175,  ...,  0.1847,  0.0821, -0.0307],\n",
       "        [-0.1959,  0.1398,  0.1372,  ..., -0.2343, -0.1878,  0.0625],\n",
       "        ...,\n",
       "        [ 0.1398,  0.1138, -0.1345,  ..., -0.0459,  0.2057,  0.1261],\n",
       "        [ 0.0333, -0.2890, -0.0514,  ..., -0.2688,  0.0968, -0.0481],\n",
       "        [-0.1300,  0.1349,  0.0869,  ...,  0.0796,  0.0738, -0.0700]],\n",
       "       device='cuda:0', requires_grad=True)"
      ]
     },
     "execution_count": 32,
     "metadata": {},
     "output_type": "execute_result"
    }
   ],
   "source": [
    "emb.weight"
   ]
  },
  {
   "cell_type": "code",
   "execution_count": 33,
   "metadata": {},
   "outputs": [],
   "source": [
    "h = model(emb.weight, adj_t)"
   ]
  },
  {
   "cell_type": "code",
   "execution_count": 34,
   "metadata": {},
   "outputs": [
    {
     "data": {
      "text/plain": [
       "tensor([[ 0.4908,  0.6662, -0.5734,  ...,  0.6578,  0.7374,  0.8501],\n",
       "        [ 0.2486,  0.3619,  0.0535,  ...,  0.1343, -0.2551, -0.0771],\n",
       "        [ 0.5583, -0.5166,  0.6699,  ..., -0.6748,  0.3060, -0.5040],\n",
       "        ...,\n",
       "        [-0.4788, -0.2193,  0.5848,  ...,  0.2071, -0.4606,  0.3084],\n",
       "        [ 0.4071, -0.0937,  0.0074,  ...,  0.6124,  0.3130,  0.5037],\n",
       "        [-0.1100,  0.0197,  0.0495,  ..., -0.1894, -0.2193,  0.5262]],\n",
       "       device='cuda:0', grad_fn=<AddBackward0>)"
      ]
     },
     "execution_count": 34,
     "metadata": {},
     "output_type": "execute_result"
    }
   ],
   "source": [
    "h"
   ]
  },
  {
   "cell_type": "code",
   "execution_count": 35,
   "metadata": {},
   "outputs": [
    {
     "data": {
      "text/plain": [
       "tensor([0.9980], device='cuda:0', grad_fn=<SigmoidBackward>)"
      ]
     },
     "execution_count": 35,
     "metadata": {},
     "output_type": "execute_result"
    }
   ],
   "source": [
    "predictor(h[0], h[411])"
   ]
  },
  {
   "cell_type": "code",
   "execution_count": 36,
   "metadata": {},
   "outputs": [
    {
     "data": {
      "text/plain": [
       "tensor([0.0588], device='cuda:0', grad_fn=<SigmoidBackward>)"
      ]
     },
     "execution_count": 36,
     "metadata": {},
     "output_type": "execute_result"
    }
   ],
   "source": [
    "predictor(h[0], h[2])"
   ]
  },
  {
   "cell_type": "code",
   "execution_count": 37,
   "metadata": {},
   "outputs": [
    {
     "data": {
      "text/plain": [
       "tensor(1.9060, device='cuda:0', grad_fn=<SumBackward0>)"
      ]
     },
     "execution_count": 37,
     "metadata": {},
     "output_type": "execute_result"
    }
   ],
   "source": [
    "(h[0] * h[2]).sum()"
   ]
  },
  {
   "cell_type": "code",
   "execution_count": 38,
   "metadata": {},
   "outputs": [
    {
     "data": {
      "text/plain": [
       "tensor(9.6488, device='cuda:0', grad_fn=<SumBackward0>)"
      ]
     },
     "execution_count": 38,
     "metadata": {},
     "output_type": "execute_result"
    }
   ],
   "source": [
    "(h[0] * h[411]).sum()"
   ]
  },
  {
   "cell_type": "code",
   "execution_count": 39,
   "metadata": {},
   "outputs": [],
   "source": [
    "np.save('../../models/graphsage_link_pred/full_graphsage_linkpred_39_h.npy', h.cpu().detach().numpy())\n",
    "torch.save(model, '../../models/graphsage_link_pred/39_model.pt')\n",
    "torch.save(emb, '../../models/graphsage_link_pred/39_embedding.pt')\n",
    "torch.save(predictor, '../../models/graphsage_link_pred/39_predictor.pt')"
   ]
  }
 ],
 "metadata": {
  "kernelspec": {
   "display_name": "Python 3",
   "language": "python",
   "name": "python3"
  },
  "language_info": {
   "codemirror_mode": {
    "name": "ipython",
    "version": 3
   },
   "file_extension": ".py",
   "mimetype": "text/x-python",
   "name": "python",
   "nbconvert_exporter": "python",
   "pygments_lexer": "ipython3",
   "version": "3.8.5"
  }
 },
 "nbformat": 4,
 "nbformat_minor": 4
}
