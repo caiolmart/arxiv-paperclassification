{
 "cells": [
  {
   "cell_type": "code",
   "execution_count": 1,
   "id": "thousand-tuition",
   "metadata": {},
   "outputs": [],
   "source": [
    "import os"
   ]
  },
  {
   "cell_type": "code",
   "execution_count": 2,
   "id": "junior-pearl",
   "metadata": {},
   "outputs": [
    {
     "name": "stderr",
     "output_type": "stream",
     "text": [
      "Using backend: pytorch\n"
     ]
    }
   ],
   "source": [
    "import numpy as np\n",
    "import pandas as pd\n",
    "from sklearn.metrics import accuracy_score\n",
    "import torch\n",
    "import torch.nn.functional as F\n",
    "from ogb.nodeproppred import PygNodePropPredDataset, Evaluator\n",
    "import torch_geometric.transforms as T\n",
    "from torch_geometric.utils import negative_sampling\n",
    "from torch_geometric.data import DataLoader\n",
    "from torch_geometric.nn import SAGEConv\n",
    "import seaborn as sns\n",
    "import matplotlib.pyplot as plt"
   ]
  },
  {
   "cell_type": "code",
   "execution_count": 3,
   "id": "accepting-belfast",
   "metadata": {},
   "outputs": [
    {
     "data": {
      "text/plain": [
       "PygNodePropPredDataset()"
      ]
     },
     "execution_count": 3,
     "metadata": {},
     "output_type": "execute_result"
    }
   ],
   "source": [
    "dataset = PygNodePropPredDataset(name='ogbn-arxiv', \n",
    "                                 root='../../data/dataset/',\n",
    "                                 transform=T.ToSparseTensor())\n",
    "dataset"
   ]
  },
  {
   "cell_type": "code",
   "execution_count": 4,
   "id": "tamil-startup",
   "metadata": {},
   "outputs": [],
   "source": [
    "output_emb_file = '../../models/graphsage_link_pred/full_graphsage_linkpred_49_h.npy'\n",
    "losses_path = '../../data/results/graphsage_link_pred/49_losses.csv'"
   ]
  },
  {
   "cell_type": "code",
   "execution_count": 5,
   "id": "special-transmission",
   "metadata": {},
   "outputs": [
    {
     "data": {
      "text/plain": [
       "'0135'"
      ]
     },
     "execution_count": 5,
     "metadata": {},
     "output_type": "execute_result"
    }
   ],
   "source": [
    "losses = pd.read_csv(losses_path)\n",
    "idxmin = losses['valid_loss'].idxmin()\n",
    "epoch = int(losses.loc[idxmin, 'epoch'])\n",
    "f'{epoch:04d}'"
   ]
  },
  {
   "cell_type": "code",
   "execution_count": 6,
   "id": "bearing-excerpt",
   "metadata": {},
   "outputs": [],
   "source": [
    "model_path = f'../../models/graphsage_link_pred/49_model_epoch{epoch:04d}.pt'\n",
    "embedding_path = f'../../models/graphsage_link_pred/49_embedding_epoch{epoch:04d}.pt'\n",
    "predictor_path = f'../../models/graphsage_link_pred/49_predictor_epoch{epoch:04d}.pt'"
   ]
  },
  {
   "cell_type": "code",
   "execution_count": 7,
   "id": "accurate-syria",
   "metadata": {},
   "outputs": [
    {
     "data": {
      "text/plain": [
       "device(type='cuda', index=0)"
      ]
     },
     "execution_count": 7,
     "metadata": {},
     "output_type": "execute_result"
    }
   ],
   "source": [
    "device = 'cuda:0' if torch.cuda.is_available() else 'cpu'\n",
    "device = torch.device(device)\n",
    "device"
   ]
  },
  {
   "cell_type": "code",
   "execution_count": 8,
   "id": "pacific-birmingham",
   "metadata": {},
   "outputs": [
    {
     "data": {
      "text/plain": [
       "Data(adj_t=[169343, 169343, nnz=1166243], node_year=[169343, 1], x=[169343, 128], y=[169343, 1])"
      ]
     },
     "execution_count": 8,
     "metadata": {},
     "output_type": "execute_result"
    }
   ],
   "source": [
    "data = dataset[0]\n",
    "data"
   ]
  },
  {
   "cell_type": "code",
   "execution_count": 9,
   "id": "bored-retreat",
   "metadata": {},
   "outputs": [
    {
     "data": {
      "text/plain": [
       "SparseTensor(row=tensor([     0,      0,      0,  ..., 169341, 169342, 169342]),\n",
       "             col=tensor([   411,    640,   1162,  ..., 163274,  27824, 158981]),\n",
       "             size=(169343, 169343), nnz=2315598, density=0.01%)"
      ]
     },
     "execution_count": 9,
     "metadata": {},
     "output_type": "execute_result"
    }
   ],
   "source": [
    "data.adj_t = data.adj_t.to_symmetric()\n",
    "data.adj_t"
   ]
  },
  {
   "cell_type": "code",
   "execution_count": 10,
   "id": "limited-mouth",
   "metadata": {},
   "outputs": [],
   "source": [
    "class SAGE(torch.nn.Module):\n",
    "    def __init__(self, in_channels, hidden_channels, out_channels, num_layers,\n",
    "                 dropout):\n",
    "        super(SAGE, self).__init__()\n",
    "\n",
    "        self.convs = torch.nn.ModuleList()\n",
    "        self.convs.append(SAGEConv(in_channels, hidden_channels))\n",
    "        for _ in range(num_layers - 2):\n",
    "            self.convs.append(SAGEConv(hidden_channels, hidden_channels))\n",
    "        self.convs.append(SAGEConv(hidden_channels, out_channels))\n",
    "\n",
    "        self.dropout = dropout\n",
    "\n",
    "    def reset_parameters(self):\n",
    "        for conv in self.convs:\n",
    "            conv.reset_parameters()\n",
    "\n",
    "    def forward(self, x, adj_t):\n",
    "        for conv in self.convs[:-1]:\n",
    "            x = conv(x, adj_t)\n",
    "            x = F.relu(x)\n",
    "            x = F.dropout(x, p=self.dropout, training=self.training)\n",
    "        x = self.convs[-1](x, adj_t)\n",
    "        return x\n",
    "\n",
    "\n",
    "class LinkPredictor(torch.nn.Module):\n",
    "    def __init__(self, out_channels, bias=True):\n",
    "        super(LinkPredictor, self).__init__()\n",
    "        self.lin = torch.nn.Linear(1, out_channels, bias=bias)\n",
    "\n",
    "    def reset_parameters(self):\n",
    "        self.lin.weight.data.fill_(1)\n",
    "        self.lin.bias.data.fill_(0)\n",
    "\n",
    "    def forward(self, x_i, x_j):\n",
    "        cos_sim = torch.sum(\n",
    "            torch.mul(F.normalize(x_i), \n",
    "                      F.normalize(x_j)), \n",
    "            dim=1,\n",
    "            keepdim=True\n",
    "        )\n",
    "        x = self.lin(cos_sim)\n",
    "        return torch.sigmoid(x)"
   ]
  },
  {
   "cell_type": "code",
   "execution_count": 11,
   "id": "assumed-arizona",
   "metadata": {},
   "outputs": [],
   "source": [
    "model = torch.load(model_path).to(device)\n",
    "predictor = torch.load(predictor_path).to(device)\n",
    "embedding = torch.load(embedding_path).to(device)\n",
    "adj_t = data.adj_t.to(device)"
   ]
  },
  {
   "cell_type": "code",
   "execution_count": 12,
   "id": "photographic-dubai",
   "metadata": {},
   "outputs": [],
   "source": [
    "h = model(embedding.weight, adj_t)"
   ]
  },
  {
   "cell_type": "code",
   "execution_count": 13,
   "id": "banned-nicaragua",
   "metadata": {},
   "outputs": [
    {
     "data": {
      "text/plain": [
       "tensor([[0.9016],\n",
       "        [0.0537]], device='cuda:0', grad_fn=<SigmoidBackward>)"
      ]
     },
     "execution_count": 13,
     "metadata": {},
     "output_type": "execute_result"
    }
   ],
   "source": [
    "predictor(h[0:2], h[411:413])"
   ]
  },
  {
   "cell_type": "code",
   "execution_count": 14,
   "id": "geographic-aspect",
   "metadata": {},
   "outputs": [],
   "source": [
    "np.save(output_emb_file, h.cpu().detach().numpy())"
   ]
  },
  {
   "cell_type": "markdown",
   "id": "residential-incident",
   "metadata": {},
   "source": [
    "## Evaluating pred distribution of a node"
   ]
  },
  {
   "cell_type": "code",
   "execution_count": 15,
   "id": "peaceful-friday",
   "metadata": {},
   "outputs": [],
   "source": [
    "node_idx = 0"
   ]
  },
  {
   "cell_type": "code",
   "execution_count": 16,
   "id": "chronic-archives",
   "metadata": {},
   "outputs": [],
   "source": [
    "row, col, _ = data.adj_t.coo()\n",
    "edge_index = torch.stack([col, row], dim=0)\n",
    "mask = row == node_idx\n",
    "\n",
    "this_row = row[mask]\n",
    "this_col = col[mask]"
   ]
  },
  {
   "cell_type": "code",
   "execution_count": 17,
   "id": "developing-portal",
   "metadata": {},
   "outputs": [
    {
     "data": {
      "text/plain": [
       "tensor([0, 0, 0, 0, 0, 0, 0, 0, 0, 0, 0, 0, 0, 0, 0, 0, 0, 0, 0, 0, 0, 0, 0, 0,\n",
       "        0, 0, 0, 0, 0, 0, 0, 0, 0, 0, 0, 0, 0, 0, 0, 0, 0, 0, 0, 0, 0, 0, 0, 0,\n",
       "        0, 0, 0, 0, 0, 0, 0, 0, 0, 0, 0, 0, 0, 0, 0, 0, 0, 0, 0, 0, 0, 0, 0, 0,\n",
       "        0, 0, 0, 0, 0, 0, 0, 0, 0, 0, 0, 0, 0, 0, 0, 0, 0, 0, 0, 0, 0, 0, 0, 0,\n",
       "        0, 0, 0, 0, 0, 0, 0, 0, 0, 0, 0, 0, 0, 0, 0, 0, 0, 0, 0, 0, 0, 0, 0, 0,\n",
       "        0, 0, 0, 0, 0, 0, 0, 0, 0, 0, 0, 0, 0, 0, 0, 0, 0, 0, 0, 0, 0, 0, 0, 0,\n",
       "        0, 0, 0, 0, 0, 0, 0, 0, 0, 0, 0, 0, 0, 0, 0, 0, 0, 0, 0, 0, 0, 0, 0, 0,\n",
       "        0, 0, 0, 0, 0, 0, 0, 0, 0, 0, 0, 0, 0, 0, 0, 0, 0, 0, 0, 0, 0, 0, 0, 0,\n",
       "        0, 0, 0, 0, 0, 0, 0, 0, 0, 0, 0, 0, 0, 0, 0, 0, 0, 0, 0, 0, 0, 0, 0, 0,\n",
       "        0, 0, 0, 0, 0, 0, 0, 0, 0, 0, 0, 0, 0, 0, 0, 0, 0, 0, 0, 0, 0, 0, 0, 0,\n",
       "        0, 0, 0, 0, 0, 0, 0, 0, 0, 0, 0, 0, 0, 0, 0, 0, 0, 0, 0, 0, 0, 0, 0, 0,\n",
       "        0, 0, 0, 0, 0, 0, 0, 0, 0, 0, 0, 0, 0, 0, 0, 0, 0, 0, 0, 0, 0, 0, 0, 0,\n",
       "        0, 0, 0])"
      ]
     },
     "execution_count": 17,
     "metadata": {},
     "output_type": "execute_result"
    }
   ],
   "source": [
    "this_row"
   ]
  },
  {
   "cell_type": "code",
   "execution_count": 18,
   "id": "understood-checklist",
   "metadata": {},
   "outputs": [
    {
     "data": {
      "text/plain": [
       "<seaborn.axisgrid.FacetGrid at 0x7f13668eb820>"
      ]
     },
     "execution_count": 18,
     "metadata": {},
     "output_type": "execute_result"
    },
    {
     "data": {
      "image/png": "[encoded data removed]",
      "text/plain": [
       "<Figure size 402.25x360 with 1 Axes>"
      ]
     },
     "metadata": {
      "needs_background": "light"
     },
     "output_type": "display_data"
    }
   ],
   "source": [
    "node_preds = predictor(h[this_row], h[this_col]).cpu().detach().numpy()\n",
    "sns.displot(node_preds)"
   ]
  },
  {
   "cell_type": "markdown",
   "id": "compressed-february",
   "metadata": {},
   "source": [
    "## Evaluating predictions of all edges"
   ]
  },
  {
   "cell_type": "code",
   "execution_count": 19,
   "id": "involved-municipality",
   "metadata": {},
   "outputs": [
    {
     "data": {
      "text/plain": [
       "<seaborn.axisgrid.FacetGrid at 0x7f1366040d30>"
      ]
     },
     "execution_count": 19,
     "metadata": {},
     "output_type": "execute_result"
    },
    {
     "data": {
      "image/png": "[encoded data removed]",
      "text/plain": [
       "<Figure size 402.25x360 with 1 Axes>"
      ]
     },
     "metadata": {
      "needs_background": "light"
     },
     "output_type": "display_data"
    }
   ],
   "source": [
    "all_edges_preds = predictor(h[row], h[col]).cpu().detach().numpy()\n",
    "sns.displot(all_edges_preds)"
   ]
  },
  {
   "cell_type": "code",
   "execution_count": 20,
   "id": "reasonable-trainer",
   "metadata": {},
   "outputs": [
    {
     "data": {
      "text/plain": [
       "count    2.315598e+06\n",
       "mean     9.332897e-01\n",
       "std      6.273565e-02\n",
       "min      2.890049e-04\n",
       "0%       2.890049e-04\n",
       "5%       8.084550e-01\n",
       "10%      8.587466e-01\n",
       "25%      9.195458e-01\n",
       "50%      9.560926e-01\n",
       "max      9.834832e-01\n",
       "dtype: float64"
      ]
     },
     "execution_count": 20,
     "metadata": {},
     "output_type": "execute_result"
    }
   ],
   "source": [
    "pd.Series(all_edges_preds.squeeze()).describe(percentiles=[0, 0.05, 0.1, 0.25])"
   ]
  },
  {
   "cell_type": "markdown",
   "id": "plain-report",
   "metadata": {},
   "source": [
    "## Evaluating negative sampling predictions"
   ]
  },
  {
   "cell_type": "code",
   "execution_count": 21,
   "id": "suited-possibility",
   "metadata": {},
   "outputs": [],
   "source": [
    "neg_edges = negative_sampling(edge_index, num_nodes=data.adj_t.size(0),\n",
    "                              num_neg_samples=100000, method='sparse')"
   ]
  },
  {
   "cell_type": "code",
   "execution_count": 22,
   "id": "relative-dream",
   "metadata": {},
   "outputs": [
    {
     "data": {
      "text/plain": [
       "torch.Size([99994])"
      ]
     },
     "execution_count": 22,
     "metadata": {},
     "output_type": "execute_result"
    }
   ],
   "source": [
    "neg_edges[0].size()"
   ]
  },
  {
   "cell_type": "code",
   "execution_count": 23,
   "id": "refined-sample",
   "metadata": {},
   "outputs": [],
   "source": [
    "neg_edges_preds = predictor(h[neg_edges[0]], h[neg_edges[1]]).cpu().detach().numpy()"
   ]
  },
  {
   "cell_type": "code",
   "execution_count": 24,
   "id": "bacterial-investing",
   "metadata": {},
   "outputs": [
    {
     "data": {
      "text/plain": [
       "(99994, 1)"
      ]
     },
     "execution_count": 24,
     "metadata": {},
     "output_type": "execute_result"
    }
   ],
   "source": [
    "neg_edges_preds.shape"
   ]
  },
  {
   "cell_type": "code",
   "execution_count": 25,
   "id": "nonprofit-gospel",
   "metadata": {
    "scrolled": false
   },
   "outputs": [
    {
     "data": {
      "text/plain": [
       "0.9835195"
      ]
     },
     "execution_count": 25,
     "metadata": {},
     "output_type": "execute_result"
    }
   ],
   "source": [
    "neg_edges_preds.max()"
   ]
  },
  {
   "cell_type": "code",
   "execution_count": 26,
   "id": "encouraging-complement",
   "metadata": {
    "scrolled": false
   },
   "outputs": [
    {
     "data": {
      "text/plain": [
       "<seaborn.axisgrid.FacetGrid at 0x7f13621e98e0>"
      ]
     },
     "execution_count": 26,
     "metadata": {},
     "output_type": "execute_result"
    },
    {
     "data": {
      "image/png": "[encoded data removed]",
      "text/plain": [
       "<Figure size 402.25x360 with 1 Axes>"
      ]
     },
     "metadata": {
      "needs_background": "light"
     },
     "output_type": "display_data"
    }
   ],
   "source": [
    "sns.displot(neg_edges_preds.round(4))"
   ]
  },
  {
   "cell_type": "code",
   "execution_count": 27,
   "id": "specific-winner",
   "metadata": {},
   "outputs": [
    {
     "data": {
      "text/plain": [
       "count    99994.000000\n",
       "mean         0.070624\n",
       "std          0.126820\n",
       "min          0.000119\n",
       "0%           0.000119\n",
       "5%           0.003698\n",
       "10%          0.005785\n",
       "25%          0.011953\n",
       "50%          0.027066\n",
       "80%          0.084644\n",
       "90%          0.167725\n",
       "95%          0.307397\n",
       "max          0.983519\n",
       "dtype: float64"
      ]
     },
     "execution_count": 27,
     "metadata": {},
     "output_type": "execute_result"
    }
   ],
   "source": [
    "pd.Series(neg_edges_preds.squeeze()).describe(percentiles=[0, 0.05, 0.1, 0.25, 0.8, 0.9, 0.95])"
   ]
  },
  {
   "cell_type": "markdown",
   "id": "dirty-authentication",
   "metadata": {},
   "source": [
    "## Cosine similarity of all edges"
   ]
  },
  {
   "cell_type": "code",
   "execution_count": 28,
   "id": "visible-citation",
   "metadata": {
    "scrolled": true
   },
   "outputs": [
    {
     "data": {
      "text/plain": [
       "<seaborn.axisgrid.FacetGrid at 0x7f13355a0d90>"
      ]
     },
     "execution_count": 28,
     "metadata": {},
     "output_type": "execute_result"
    },
    {
     "data": {
      "image/png": "[encoded data removed]",
      "text/plain": [
       "<Figure size 360x360 with 1 Axes>"
      ]
     },
     "metadata": {
      "needs_background": "light"
     },
     "output_type": "display_data"
    }
   ],
   "source": [
    "similarities = F.cosine_similarity(h[row], h[col]).cpu().detach().numpy()\n",
    "sns.displot(similarities)"
   ]
  },
  {
   "cell_type": "markdown",
   "id": "united-insulin",
   "metadata": {},
   "source": [
    "## Cosine similarity of negative edges"
   ]
  },
  {
   "cell_type": "code",
   "execution_count": 29,
   "id": "certain-contact",
   "metadata": {
    "scrolled": true
   },
   "outputs": [
    {
     "data": {
      "text/plain": [
       "<seaborn.axisgrid.FacetGrid at 0x7f1366055ca0>"
      ]
     },
     "execution_count": 29,
     "metadata": {},
     "output_type": "execute_result"
    },
    {
     "data": {
      "image/png": "[encoded data removed]",
      "text/plain": [
       "<Figure size 360x360 with 1 Axes>"
      ]
     },
     "metadata": {
      "needs_background": "light"
     },
     "output_type": "display_data"
    }
   ],
   "source": [
    "similarities = F.cosine_similarity(h[neg_edges[0]], h[neg_edges[1]]).cpu().detach().numpy()\n",
    "sns.displot(similarities)"
   ]
  },
  {
   "cell_type": "markdown",
   "id": "arbitrary-bulgaria",
   "metadata": {},
   "source": [
    "## Inner product of all edges"
   ]
  },
  {
   "cell_type": "code",
   "execution_count": 30,
   "id": "forced-buffer",
   "metadata": {
    "scrolled": true
   },
   "outputs": [
    {
     "data": {
      "text/plain": [
       "<seaborn.axisgrid.FacetGrid at 0x7f1334fa7a00>"
      ]
     },
     "execution_count": 30,
     "metadata": {},
     "output_type": "execute_result"
    },
    {
     "data": {
      "image/png": "[encoded data removed]",
      "text/plain": [
       "<Figure size 360x360 with 1 Axes>"
      ]
     },
     "metadata": {
      "needs_background": "light"
     },
     "output_type": "display_data"
    }
   ],
   "source": [
    "ip_pos = torch.sum(torch.mul(h[row], h[col]), dim=1).cpu().detach().numpy()\n",
    "sns.displot(ip_pos)"
   ]
  },
  {
   "cell_type": "code",
   "execution_count": 31,
   "id": "proper-temple",
   "metadata": {},
   "outputs": [
    {
     "data": {
      "text/plain": [
       "10.003396"
      ]
     },
     "execution_count": 31,
     "metadata": {},
     "output_type": "execute_result"
    }
   ],
   "source": [
    "ip_pos.mean()"
   ]
  },
  {
   "cell_type": "code",
   "execution_count": 32,
   "id": "educational-thesis",
   "metadata": {},
   "outputs": [
    {
     "data": {
      "text/plain": [
       "3.1691346"
      ]
     },
     "execution_count": 32,
     "metadata": {},
     "output_type": "execute_result"
    }
   ],
   "source": [
    "ip_pos.std()"
   ]
  },
  {
   "cell_type": "markdown",
   "id": "revised-religious",
   "metadata": {},
   "source": [
    "## Inner product of negative edges"
   ]
  },
  {
   "cell_type": "code",
   "execution_count": 33,
   "id": "junior-bleeding",
   "metadata": {
    "scrolled": true
   },
   "outputs": [
    {
     "data": {
      "text/plain": [
       "<seaborn.axisgrid.FacetGrid at 0x7f1333178460>"
      ]
     },
     "execution_count": 33,
     "metadata": {},
     "output_type": "execute_result"
    },
    {
     "data": {
      "image/png": "[encoded data removed]",
      "text/plain": [
       "<Figure size 360x360 with 1 Axes>"
      ]
     },
     "metadata": {
      "needs_background": "light"
     },
     "output_type": "display_data"
    }
   ],
   "source": [
    "ip_neg = torch.sum(torch.mul(h[neg_edges[0]], h[neg_edges[1]]), dim=1).cpu().detach().numpy()\n",
    "sns.displot(ip_neg)"
   ]
  },
  {
   "cell_type": "code",
   "execution_count": 34,
   "id": "synthetic-homework",
   "metadata": {},
   "outputs": [
    {
     "data": {
      "text/plain": [
       "0.056426097"
      ]
     },
     "execution_count": 34,
     "metadata": {},
     "output_type": "execute_result"
    }
   ],
   "source": [
    "ip_neg.mean()"
   ]
  },
  {
   "cell_type": "code",
   "execution_count": 35,
   "id": "nuclear-nation",
   "metadata": {},
   "outputs": [
    {
     "data": {
      "text/plain": [
       "2.9947584"
      ]
     },
     "execution_count": 35,
     "metadata": {},
     "output_type": "execute_result"
    }
   ],
   "source": [
    "ip_neg.std()"
   ]
  }
 ],
 "metadata": {
  "kernelspec": {
   "display_name": "Python 3",
   "language": "python",
   "name": "python3"
  },
  "language_info": {
   "codemirror_mode": {
    "name": "ipython",
    "version": 3
   },
   "file_extension": ".py",
   "mimetype": "text/x-python",
   "name": "python",
   "nbconvert_exporter": "python",
   "pygments_lexer": "ipython3",
   "version": "3.8.10"
  }
 },
 "nbformat": 4,
 "nbformat_minor": 5
}
