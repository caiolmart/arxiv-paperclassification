{
 "cells": [
  {
   "cell_type": "code",
   "execution_count": 1,
   "id": "thousand-tuition",
   "metadata": {},
   "outputs": [],
   "source": [
    "import os"
   ]
  },
  {
   "cell_type": "code",
   "execution_count": 2,
   "id": "junior-pearl",
   "metadata": {},
   "outputs": [
    {
     "name": "stderr",
     "output_type": "stream",
     "text": [
      "Using backend: pytorch\n"
     ]
    }
   ],
   "source": [
    "import numpy as np\n",
    "import pandas as pd\n",
    "from sklearn.metrics import accuracy_score\n",
    "import torch\n",
    "import torch.nn.functional as F\n",
    "from ogb.nodeproppred import PygNodePropPredDataset, Evaluator\n",
    "import torch_geometric.transforms as T\n",
    "from torch_geometric.utils import negative_sampling\n",
    "from torch_geometric.data import DataLoader\n",
    "from torch_geometric.nn import SAGEConv\n",
    "import seaborn as sns\n",
    "import matplotlib.pyplot as plt"
   ]
  },
  {
   "cell_type": "code",
   "execution_count": 3,
   "id": "accepting-belfast",
   "metadata": {},
   "outputs": [
    {
     "data": {
      "text/plain": [
       "PygNodePropPredDataset()"
      ]
     },
     "execution_count": 3,
     "metadata": {},
     "output_type": "execute_result"
    }
   ],
   "source": [
    "dataset = PygNodePropPredDataset(name='ogbn-arxiv', \n",
    "                                 root='../../data/dataset/',\n",
    "                                 transform=T.ToSparseTensor())\n",
    "dataset"
   ]
  },
  {
   "cell_type": "code",
   "execution_count": 4,
   "id": "tamil-startup",
   "metadata": {},
   "outputs": [],
   "source": [
    "output_emb_file = '../../models/graphsage_link_pred/full_cos_graphsage_linkpred_24_h.npy'\n",
    "model_path = '../../models/graphsage_link_pred/24_model.pt'\n",
    "embedding_path = '../../models/graphsage_link_pred/24_embedding.pt'\n",
    "predictor_path = '../../models/graphsage_link_pred/24_predictor.pt'"
   ]
  },
  {
   "cell_type": "code",
   "execution_count": 5,
   "id": "accurate-syria",
   "metadata": {},
   "outputs": [
    {
     "data": {
      "text/plain": [
       "device(type='cuda', index=0)"
      ]
     },
     "execution_count": 5,
     "metadata": {},
     "output_type": "execute_result"
    }
   ],
   "source": [
    "device = 'cuda:0' if torch.cuda.is_available() else 'cpu'\n",
    "device = torch.device(device)\n",
    "device"
   ]
  },
  {
   "cell_type": "code",
   "execution_count": 6,
   "id": "formed-general",
   "metadata": {
    "scrolled": true
   },
   "outputs": [
    {
     "data": {
      "text/plain": [
       "torch.Size([169343, 50])"
      ]
     },
     "execution_count": 6,
     "metadata": {},
     "output_type": "execute_result"
    }
   ],
   "source": [
    "h = torch.from_numpy(np.load(output_emb_file)).to(device)\n",
    "h.shape"
   ]
  },
  {
   "cell_type": "code",
   "execution_count": 7,
   "id": "pacific-birmingham",
   "metadata": {},
   "outputs": [
    {
     "data": {
      "text/plain": [
       "Data(adj_t=[169343, 169343, nnz=1166243], node_year=[169343, 1], x=[169343, 128], y=[169343, 1])"
      ]
     },
     "execution_count": 7,
     "metadata": {},
     "output_type": "execute_result"
    }
   ],
   "source": [
    "data = dataset[0]\n",
    "data"
   ]
  },
  {
   "cell_type": "code",
   "execution_count": 8,
   "id": "bored-retreat",
   "metadata": {},
   "outputs": [
    {
     "data": {
      "text/plain": [
       "SparseTensor(row=tensor([     0,      0,      0,  ..., 169341, 169342, 169342]),\n",
       "             col=tensor([   411,    640,   1162,  ..., 163274,  27824, 158981]),\n",
       "             size=(169343, 169343), nnz=2315598, density=0.01%)"
      ]
     },
     "execution_count": 8,
     "metadata": {},
     "output_type": "execute_result"
    }
   ],
   "source": [
    "data.adj_t = data.adj_t.to_symmetric()\n",
    "data.adj_t"
   ]
  },
  {
   "cell_type": "code",
   "execution_count": 9,
   "id": "limited-mouth",
   "metadata": {},
   "outputs": [],
   "source": [
    "class SAGE(torch.nn.Module):\n",
    "    def __init__(self, in_channels, hidden_channels, out_channels, num_layers,\n",
    "                 dropout):\n",
    "        super(SAGE, self).__init__()\n",
    "\n",
    "        self.convs = torch.nn.ModuleList()\n",
    "        self.convs.append(SAGEConv(in_channels, hidden_channels))\n",
    "        for _ in range(num_layers - 2):\n",
    "            self.convs.append(SAGEConv(hidden_channels, hidden_channels))\n",
    "        self.convs.append(SAGEConv(hidden_channels, out_channels))\n",
    "\n",
    "        self.dropout = dropout\n",
    "\n",
    "    def reset_parameters(self):\n",
    "        for conv in self.convs:\n",
    "            conv.reset_parameters()\n",
    "\n",
    "    def forward(self, x, adj_t):\n",
    "        for conv in self.convs[:-1]:\n",
    "            x = conv(x, adj_t)\n",
    "            x = F.relu(x)\n",
    "            x = F.dropout(x, p=self.dropout, training=self.training)\n",
    "        x = self.convs[-1](x, adj_t)\n",
    "        return x\n",
    "\n",
    "\n",
    "class LinkPredictor(torch.nn.Module):\n",
    "    def __init__(self):\n",
    "        super(LinkPredictor, self).__init__()\n",
    "\n",
    "    def forward(self, x_i, x_j):\n",
    "        x = (F.cosine_similarity(x_i, x_j) + 1) / 2\n",
    "        return x"
   ]
  },
  {
   "cell_type": "code",
   "execution_count": 10,
   "id": "assumed-arizona",
   "metadata": {},
   "outputs": [],
   "source": [
    "model = torch.load(model_path)\n",
    "predictor = torch.load(predictor_path)"
   ]
  },
  {
   "cell_type": "code",
   "execution_count": 11,
   "id": "banned-nicaragua",
   "metadata": {},
   "outputs": [
    {
     "data": {
      "text/plain": [
       "tensor([0.8513, 0.5636], device='cuda:0')"
      ]
     },
     "execution_count": 11,
     "metadata": {},
     "output_type": "execute_result"
    }
   ],
   "source": [
    "predictor(h[0:2], h[411:413])"
   ]
  },
  {
   "cell_type": "markdown",
   "id": "residential-incident",
   "metadata": {},
   "source": [
    "## Evaluating pred distribution of a node"
   ]
  },
  {
   "cell_type": "code",
   "execution_count": 12,
   "id": "peaceful-friday",
   "metadata": {},
   "outputs": [],
   "source": [
    "node_idx = 0"
   ]
  },
  {
   "cell_type": "code",
   "execution_count": 13,
   "id": "chronic-archives",
   "metadata": {},
   "outputs": [],
   "source": [
    "row, col, _ = data.adj_t.coo()\n",
    "edge_index = torch.stack([col, row], dim=0)\n",
    "mask = row == node_idx\n",
    "\n",
    "this_row = row[mask]\n",
    "this_col = col[mask]"
   ]
  },
  {
   "cell_type": "code",
   "execution_count": 14,
   "id": "developing-portal",
   "metadata": {},
   "outputs": [
    {
     "data": {
      "text/plain": [
       "tensor([0, 0, 0, 0, 0, 0, 0, 0, 0, 0, 0, 0, 0, 0, 0, 0, 0, 0, 0, 0, 0, 0, 0, 0,\n",
       "        0, 0, 0, 0, 0, 0, 0, 0, 0, 0, 0, 0, 0, 0, 0, 0, 0, 0, 0, 0, 0, 0, 0, 0,\n",
       "        0, 0, 0, 0, 0, 0, 0, 0, 0, 0, 0, 0, 0, 0, 0, 0, 0, 0, 0, 0, 0, 0, 0, 0,\n",
       "        0, 0, 0, 0, 0, 0, 0, 0, 0, 0, 0, 0, 0, 0, 0, 0, 0, 0, 0, 0, 0, 0, 0, 0,\n",
       "        0, 0, 0, 0, 0, 0, 0, 0, 0, 0, 0, 0, 0, 0, 0, 0, 0, 0, 0, 0, 0, 0, 0, 0,\n",
       "        0, 0, 0, 0, 0, 0, 0, 0, 0, 0, 0, 0, 0, 0, 0, 0, 0, 0, 0, 0, 0, 0, 0, 0,\n",
       "        0, 0, 0, 0, 0, 0, 0, 0, 0, 0, 0, 0, 0, 0, 0, 0, 0, 0, 0, 0, 0, 0, 0, 0,\n",
       "        0, 0, 0, 0, 0, 0, 0, 0, 0, 0, 0, 0, 0, 0, 0, 0, 0, 0, 0, 0, 0, 0, 0, 0,\n",
       "        0, 0, 0, 0, 0, 0, 0, 0, 0, 0, 0, 0, 0, 0, 0, 0, 0, 0, 0, 0, 0, 0, 0, 0,\n",
       "        0, 0, 0, 0, 0, 0, 0, 0, 0, 0, 0, 0, 0, 0, 0, 0, 0, 0, 0, 0, 0, 0, 0, 0,\n",
       "        0, 0, 0, 0, 0, 0, 0, 0, 0, 0, 0, 0, 0, 0, 0, 0, 0, 0, 0, 0, 0, 0, 0, 0,\n",
       "        0, 0, 0, 0, 0, 0, 0, 0, 0, 0, 0, 0, 0, 0, 0, 0, 0, 0, 0, 0, 0, 0, 0, 0,\n",
       "        0, 0, 0])"
      ]
     },
     "execution_count": 14,
     "metadata": {},
     "output_type": "execute_result"
    }
   ],
   "source": [
    "this_row"
   ]
  },
  {
   "cell_type": "code",
   "execution_count": 15,
   "id": "understood-checklist",
   "metadata": {},
   "outputs": [
    {
     "data": {
      "text/plain": [
       "<seaborn.axisgrid.FacetGrid at 0x7f411ae8a940>"
      ]
     },
     "execution_count": 15,
     "metadata": {},
     "output_type": "execute_result"
    },
    {
     "data": {
      "image/png": "[encoded data removed]",
      "text/plain": [
       "<Figure size 360x360 with 1 Axes>"
      ]
     },
     "metadata": {
      "needs_background": "light"
     },
     "output_type": "display_data"
    }
   ],
   "source": [
    "node_preds = predictor(h[this_row], h[this_col]).cpu().detach().numpy()\n",
    "sns.displot(node_preds)"
   ]
  },
  {
   "cell_type": "markdown",
   "id": "compressed-february",
   "metadata": {},
   "source": [
    "## Evaluating predictions of all edges"
   ]
  },
  {
   "cell_type": "code",
   "execution_count": 16,
   "id": "involved-municipality",
   "metadata": {},
   "outputs": [
    {
     "data": {
      "text/plain": [
       "<seaborn.axisgrid.FacetGrid at 0x7f4112111370>"
      ]
     },
     "execution_count": 16,
     "metadata": {},
     "output_type": "execute_result"
    },
    {
     "data": {
      "image/png": "[encoded data removed]",
      "text/plain": [
       "<Figure size 360x360 with 1 Axes>"
      ]
     },
     "metadata": {
      "needs_background": "light"
     },
     "output_type": "display_data"
    }
   ],
   "source": [
    "all_edges_preds = predictor(h[row], h[col]).cpu().detach().numpy()\n",
    "sns.displot(all_edges_preds)"
   ]
  },
  {
   "cell_type": "code",
   "execution_count": 17,
   "id": "reasonable-trainer",
   "metadata": {},
   "outputs": [
    {
     "data": {
      "text/plain": [
       "count    2.315598e+06\n",
       "mean     9.496539e-01\n",
       "std      8.368822e-02\n",
       "min      2.025488e-01\n",
       "0%       2.025488e-01\n",
       "5%       7.752127e-01\n",
       "10%      8.619343e-01\n",
       "25%      9.448525e-01\n",
       "50%      9.820991e-01\n",
       "max      9.999995e-01\n",
       "dtype: float64"
      ]
     },
     "execution_count": 17,
     "metadata": {},
     "output_type": "execute_result"
    }
   ],
   "source": [
    "pd.Series(all_edges_preds.squeeze()).describe(percentiles=[0, 0.05, 0.1, 0.25])"
   ]
  },
  {
   "cell_type": "markdown",
   "id": "plain-report",
   "metadata": {},
   "source": [
    "## Evaluating negative sampling predictions"
   ]
  },
  {
   "cell_type": "code",
   "execution_count": 18,
   "id": "suited-possibility",
   "metadata": {},
   "outputs": [],
   "source": [
    "neg_edges = negative_sampling(edge_index, num_nodes=data.adj_t.size(0),\n",
    "                              num_neg_samples=100000, method='sparse')"
   ]
  },
  {
   "cell_type": "code",
   "execution_count": 19,
   "id": "relative-dream",
   "metadata": {},
   "outputs": [
    {
     "data": {
      "text/plain": [
       "torch.Size([99999])"
      ]
     },
     "execution_count": 19,
     "metadata": {},
     "output_type": "execute_result"
    }
   ],
   "source": [
    "neg_edges[0].size()"
   ]
  },
  {
   "cell_type": "code",
   "execution_count": 20,
   "id": "refined-sample",
   "metadata": {},
   "outputs": [],
   "source": [
    "neg_edges_preds = predictor(h[neg_edges[0]], h[neg_edges[1]]).cpu().detach().numpy()"
   ]
  },
  {
   "cell_type": "code",
   "execution_count": 21,
   "id": "bacterial-investing",
   "metadata": {},
   "outputs": [
    {
     "data": {
      "text/plain": [
       "(99999,)"
      ]
     },
     "execution_count": 21,
     "metadata": {},
     "output_type": "execute_result"
    }
   ],
   "source": [
    "neg_edges_preds.shape"
   ]
  },
  {
   "cell_type": "code",
   "execution_count": 22,
   "id": "nonprofit-gospel",
   "metadata": {
    "scrolled": true
   },
   "outputs": [
    {
     "data": {
      "text/plain": [
       "0.9996811"
      ]
     },
     "execution_count": 22,
     "metadata": {},
     "output_type": "execute_result"
    }
   ],
   "source": [
    "neg_edges_preds.max()"
   ]
  },
  {
   "cell_type": "code",
   "execution_count": 23,
   "id": "encouraging-complement",
   "metadata": {},
   "outputs": [
    {
     "data": {
      "text/plain": [
       "<seaborn.axisgrid.FacetGrid at 0x7f410f59b910>"
      ]
     },
     "execution_count": 23,
     "metadata": {},
     "output_type": "execute_result"
    },
    {
     "data": {
      "image/png": "[encoded data removed]",
      "text/plain": [
       "<Figure size 360x360 with 1 Axes>"
      ]
     },
     "metadata": {
      "needs_background": "light"
     },
     "output_type": "display_data"
    }
   ],
   "source": [
    "sns.displot(neg_edges_preds.round(4))"
   ]
  },
  {
   "cell_type": "code",
   "execution_count": 24,
   "id": "specific-winner",
   "metadata": {},
   "outputs": [
    {
     "data": {
      "text/plain": [
       "count    99999.000000\n",
       "mean         0.511845\n",
       "std          0.187363\n",
       "min          0.133427\n",
       "0%           0.133427\n",
       "5%           0.286427\n",
       "10%          0.314510\n",
       "25%          0.371845\n",
       "50%          0.457704\n",
       "80%          0.673807\n",
       "90%          0.820365\n",
       "95%          0.905851\n",
       "max          0.999681\n",
       "dtype: float64"
      ]
     },
     "execution_count": 24,
     "metadata": {},
     "output_type": "execute_result"
    }
   ],
   "source": [
    "pd.Series(neg_edges_preds.squeeze()).describe(percentiles=[0, 0.05, 0.1, 0.25, 0.8, 0.9, 0.95])"
   ]
  },
  {
   "cell_type": "markdown",
   "id": "dirty-authentication",
   "metadata": {},
   "source": [
    "## Cosine similarity of all edges"
   ]
  },
  {
   "cell_type": "code",
   "execution_count": 25,
   "id": "visible-citation",
   "metadata": {},
   "outputs": [
    {
     "data": {
      "text/plain": [
       "<seaborn.axisgrid.FacetGrid at 0x7f4103b58e80>"
      ]
     },
     "execution_count": 25,
     "metadata": {},
     "output_type": "execute_result"
    },
    {
     "data": {
      "image/png": "[encoded data removed]",
      "text/plain": [
       "<Figure size 360x360 with 1 Axes>"
      ]
     },
     "metadata": {
      "needs_background": "light"
     },
     "output_type": "display_data"
    }
   ],
   "source": [
    "similarities = F.cosine_similarity(h[row], h[col]).cpu().detach().numpy()\n",
    "sns.displot(similarities)"
   ]
  }
 ],
 "metadata": {
  "kernelspec": {
   "display_name": "Python 3",
   "language": "python",
   "name": "python3"
  },
  "language_info": {
   "codemirror_mode": {
    "name": "ipython",
    "version": 3
   },
   "file_extension": ".py",
   "mimetype": "text/x-python",
   "name": "python",
   "nbconvert_exporter": "python",
   "pygments_lexer": "ipython3",
   "version": "3.8.5"
  }
 },
 "nbformat": 4,
 "nbformat_minor": 5
}
