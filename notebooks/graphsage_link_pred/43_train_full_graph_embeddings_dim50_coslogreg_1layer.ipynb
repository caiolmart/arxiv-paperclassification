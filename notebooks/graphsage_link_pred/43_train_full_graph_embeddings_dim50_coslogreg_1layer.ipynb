{
 "cells": [
  {
   "cell_type": "code",
   "execution_count": 2,
   "metadata": {},
   "outputs": [
    {
     "name": "stderr",
     "output_type": "stream",
     "text": [
      "Using backend: pytorch\n"
     ]
    }
   ],
   "source": [
    "import numpy as np\n",
    "from sklearn.metrics import accuracy_score\n",
    "import torch\n",
    "import torch.nn.functional as F\n",
    "from ogb.nodeproppred import PygNodePropPredDataset, Evaluator\n",
    "import torch_geometric.transforms as T\n",
    "from torch_geometric.utils import negative_sampling\n",
    "from torch_geometric.data import DataLoader\n",
    "from torch_geometric.nn import SAGEConv"
   ]
  },
  {
   "cell_type": "code",
   "execution_count": 3,
   "metadata": {},
   "outputs": [
    {
     "data": {
      "text/plain": [
       "PygNodePropPredDataset()"
      ]
     },
     "execution_count": 3,
     "metadata": {},
     "output_type": "execute_result"
    }
   ],
   "source": [
    "dataset = PygNodePropPredDataset(name='ogbn-arxiv', \n",
    "                                 root='../../data/dataset/',\n",
    "                                 transform=T.ToSparseTensor())\n",
    "dataset"
   ]
  },
  {
   "cell_type": "code",
   "execution_count": 4,
   "metadata": {
    "scrolled": false
   },
   "outputs": [
    {
     "data": {
      "text/plain": [
       "True"
      ]
     },
     "execution_count": 4,
     "metadata": {},
     "output_type": "execute_result"
    }
   ],
   "source": [
    "torch.cuda.is_available()"
   ]
  },
  {
   "cell_type": "code",
   "execution_count": 5,
   "metadata": {},
   "outputs": [
    {
     "data": {
      "text/plain": [
       "Data(adj_t=[169343, 169343, nnz=1166243], node_year=[169343, 1], x=[169343, 128], y=[169343, 1])"
      ]
     },
     "execution_count": 5,
     "metadata": {},
     "output_type": "execute_result"
    }
   ],
   "source": [
    "data = dataset[0]\n",
    "data"
   ]
  },
  {
   "cell_type": "code",
   "execution_count": 6,
   "metadata": {},
   "outputs": [
    {
     "data": {
      "text/plain": [
       "{'train': tensor([     0,      1,      2,  ..., 169145, 169148, 169251]),\n",
       " 'valid': tensor([   349,    357,    366,  ..., 169185, 169261, 169296]),\n",
       " 'test': tensor([   346,    398,    451,  ..., 169340, 169341, 169342])}"
      ]
     },
     "execution_count": 6,
     "metadata": {},
     "output_type": "execute_result"
    }
   ],
   "source": [
    "split_idx = dataset.get_idx_split()\n",
    "split_idx"
   ]
  },
  {
   "cell_type": "code",
   "execution_count": 7,
   "metadata": {},
   "outputs": [
    {
     "data": {
      "text/plain": [
       "SparseTensor(row=tensor([     0,      0,      0,  ..., 169341, 169342, 169342]),\n",
       "             col=tensor([   411,    640,   1162,  ..., 163274,  27824, 158981]),\n",
       "             size=(169343, 169343), nnz=2315598, density=0.01%)"
      ]
     },
     "execution_count": 7,
     "metadata": {},
     "output_type": "execute_result"
    }
   ],
   "source": [
    "data.adj_t = data.adj_t.to_symmetric()\n",
    "data.adj_t"
   ]
  },
  {
   "cell_type": "code",
   "execution_count": 8,
   "metadata": {},
   "outputs": [],
   "source": [
    "row, col, _ = data.adj_t.coo()"
   ]
  },
  {
   "cell_type": "code",
   "execution_count": 9,
   "metadata": {},
   "outputs": [
    {
     "data": {
      "text/plain": [
       "tensor([[   411,    640,   1162,  ..., 163274,  27824, 158981],\n",
       "        [     0,      0,      0,  ..., 169341, 169342, 169342]])"
      ]
     },
     "execution_count": 9,
     "metadata": {},
     "output_type": "execute_result"
    }
   ],
   "source": [
    "edge_index = torch.stack([col, row], dim=0)\n",
    "edge_index"
   ]
  },
  {
   "cell_type": "code",
   "execution_count": 10,
   "metadata": {},
   "outputs": [
    {
     "data": {
      "text/plain": [
       "tensor([[   411,      0],\n",
       "        [   640,      0],\n",
       "        [  1162,      0],\n",
       "        ...,\n",
       "        [163274, 169341],\n",
       "        [ 27824, 169342],\n",
       "        [158981, 169342]])"
      ]
     },
     "execution_count": 10,
     "metadata": {},
     "output_type": "execute_result"
    }
   ],
   "source": [
    "edge_index.t()"
   ]
  },
  {
   "cell_type": "code",
   "execution_count": 11,
   "metadata": {},
   "outputs": [
    {
     "data": {
      "text/plain": [
       "torch.Size([2, 2315598])"
      ]
     },
     "execution_count": 11,
     "metadata": {},
     "output_type": "execute_result"
    }
   ],
   "source": [
    "edge_index.shape"
   ]
  },
  {
   "cell_type": "code",
   "execution_count": 12,
   "metadata": {
    "scrolled": true
   },
   "outputs": [
    {
     "data": {
      "text/plain": [
       "tensor([411,   0])"
      ]
     },
     "execution_count": 12,
     "metadata": {},
     "output_type": "execute_result"
    }
   ],
   "source": [
    "edge_index[:, 0]"
   ]
  },
  {
   "cell_type": "code",
   "execution_count": 13,
   "metadata": {},
   "outputs": [
    {
     "data": {
      "text/plain": [
       "tensor([411,   0])"
      ]
     },
     "execution_count": 13,
     "metadata": {},
     "output_type": "execute_result"
    }
   ],
   "source": [
    "edge_index.t()[0]"
   ]
  },
  {
   "cell_type": "code",
   "execution_count": 124,
   "metadata": {},
   "outputs": [],
   "source": [
    "class SAGE(torch.nn.Module):\n",
    "    def __init__(self, in_channels, out_channels,\n",
    "                 dropout):\n",
    "        super(SAGE, self).__init__()\n",
    "\n",
    "        self.convs = torch.nn.ModuleList()\n",
    "        self.convs.append(SAGEConv(in_channels, out_channels))\n",
    "\n",
    "        self.dropout = dropout\n",
    "\n",
    "    def reset_parameters(self):\n",
    "        for conv in self.convs:\n",
    "            conv.reset_parameters()\n",
    "\n",
    "    def forward(self, x, adj_t):\n",
    "        for conv in self.convs[:-1]:\n",
    "            x = conv(x, adj_t)\n",
    "            x = F.relu(x)\n",
    "            x = F.dropout(x, p=self.dropout, training=self.training)\n",
    "        x = self.convs[-1](x, adj_t)\n",
    "        return x\n",
    "\n",
    "\n",
    "class LinkPredictor(torch.nn.Module):\n",
    "    def __init__(self, out_channels, bias=True):\n",
    "        super(LinkPredictor, self).__init__()\n",
    "        self.lin = torch.nn.Linear(1, out_channels, bias=bias)\n",
    "\n",
    "    def reset_parameters(self):\n",
    "        self.lin.weight.data.fill_(1)\n",
    "        self.lin.bias.data.fill_(0)\n",
    "\n",
    "    def forward(self, x_i, x_j):\n",
    "        cos_sim = torch.sum(\n",
    "            torch.mul(F.normalize(x_i), \n",
    "                      F.normalize(x_j)), \n",
    "            dim=1,\n",
    "            keepdim=True\n",
    "        )\n",
    "        x = self.lin(cos_sim)\n",
    "        return torch.sigmoid(x)"
   ]
  },
  {
   "cell_type": "code",
   "execution_count": 125,
   "metadata": {},
   "outputs": [],
   "source": [
    "device=0\n",
    "log_steps=1\n",
    "num_layers=1\n",
    "hidden_channels=50\n",
    "dropout=0.5\n",
    "batch_size=128 * 1024\n",
    "lr=0.005\n",
    "epochs=100\n",
    "eval_steps=2\n",
    "runs=10"
   ]
  },
  {
   "cell_type": "code",
   "execution_count": 126,
   "metadata": {},
   "outputs": [
    {
     "data": {
      "text/plain": [
       "device(type='cuda', index=0)"
      ]
     },
     "execution_count": 126,
     "metadata": {},
     "output_type": "execute_result"
    }
   ],
   "source": [
    "device = f'cuda:{device}' if torch.cuda.is_available() else 'cpu'\n",
    "device = torch.device(device)\n",
    "device"
   ]
  },
  {
   "cell_type": "code",
   "execution_count": 127,
   "metadata": {},
   "outputs": [],
   "source": [
    "adj_t = data.adj_t.to(device)"
   ]
  },
  {
   "cell_type": "code",
   "execution_count": 128,
   "metadata": {},
   "outputs": [
    {
     "data": {
      "text/plain": [
       "<torch._C.Generator at 0x7f9bd2825a90>"
      ]
     },
     "execution_count": 128,
     "metadata": {},
     "output_type": "execute_result"
    }
   ],
   "source": [
    "torch.manual_seed(12345)"
   ]
  },
  {
   "cell_type": "code",
   "execution_count": 129,
   "metadata": {},
   "outputs": [],
   "source": [
    "model = SAGE(hidden_channels, hidden_channels,\n",
    "             dropout).to(device)"
   ]
  },
  {
   "cell_type": "code",
   "execution_count": 130,
   "metadata": {},
   "outputs": [],
   "source": [
    "emb = torch.nn.Embedding(data.num_nodes, hidden_channels).to(device)"
   ]
  },
  {
   "cell_type": "code",
   "execution_count": 131,
   "metadata": {},
   "outputs": [],
   "source": [
    "predictor = LinkPredictor(1).to(device)"
   ]
  },
  {
   "cell_type": "code",
   "execution_count": 132,
   "metadata": {},
   "outputs": [
    {
     "data": {
      "text/plain": [
       "Parameter containing:\n",
       "tensor([[0.6750]], device='cuda:0', requires_grad=True)"
      ]
     },
     "execution_count": 132,
     "metadata": {},
     "output_type": "execute_result"
    }
   ],
   "source": [
    "predictor.lin.weight"
   ]
  },
  {
   "cell_type": "code",
   "execution_count": 133,
   "metadata": {},
   "outputs": [
    {
     "data": {
      "text/plain": [
       "(169343, 50)"
      ]
     },
     "execution_count": 133,
     "metadata": {},
     "output_type": "execute_result"
    }
   ],
   "source": [
    "emb.weight.size(0), emb.weight.size(1)"
   ]
  },
  {
   "cell_type": "code",
   "execution_count": 134,
   "metadata": {
    "scrolled": true
   },
   "outputs": [
    {
     "data": {
      "text/plain": [
       "Parameter containing:\n",
       "tensor([[ 3.8116e-03, -1.7777e-04,  2.6052e-03,  ..., -9.5538e-04,\n",
       "         -5.6698e-03,  2.9117e-03],\n",
       "        [ 4.8286e-03,  5.7555e-03,  4.1475e-03,  ...,  2.2556e-03,\n",
       "          2.7162e-03,  4.5704e-03],\n",
       "        [ 1.6921e-03, -1.5087e-03,  3.1802e-03,  ..., -4.9685e-03,\n",
       "         -5.1306e-04, -9.3337e-04],\n",
       "        ...,\n",
       "        [ 4.1685e-03,  3.3565e-03,  3.5653e-03,  ...,  3.1168e-03,\n",
       "         -1.2510e-03, -3.7040e-03],\n",
       "        [-6.9713e-04,  2.8990e-03,  4.6939e-03,  ...,  3.2265e-03,\n",
       "          2.1993e-03,  4.2817e-03],\n",
       "        [ 4.2867e-03, -3.3813e-03,  3.8860e-05,  ...,  2.8638e-03,\n",
       "          5.3680e-04, -6.6582e-05]], device='cuda:0', requires_grad=True)"
      ]
     },
     "execution_count": 134,
     "metadata": {},
     "output_type": "execute_result"
    }
   ],
   "source": [
    "torch.nn.init.xavier_uniform_(emb.weight)"
   ]
  },
  {
   "cell_type": "code",
   "execution_count": 135,
   "metadata": {},
   "outputs": [],
   "source": [
    "model.reset_parameters()\n",
    "predictor.reset_parameters()"
   ]
  },
  {
   "cell_type": "code",
   "execution_count": 136,
   "metadata": {},
   "outputs": [
    {
     "data": {
      "text/plain": [
       "Parameter containing:\n",
       "tensor([[1.]], device='cuda:0', requires_grad=True)"
      ]
     },
     "execution_count": 136,
     "metadata": {},
     "output_type": "execute_result"
    }
   ],
   "source": [
    "predictor.lin.weight"
   ]
  },
  {
   "cell_type": "code",
   "execution_count": 137,
   "metadata": {},
   "outputs": [
    {
     "data": {
      "text/plain": [
       "Parameter containing:\n",
       "tensor([0.], device='cuda:0', requires_grad=True)"
      ]
     },
     "execution_count": 137,
     "metadata": {},
     "output_type": "execute_result"
    }
   ],
   "source": [
    "predictor.lin.bias"
   ]
  },
  {
   "cell_type": "code",
   "execution_count": 138,
   "metadata": {},
   "outputs": [],
   "source": [
    "optimizer = torch.optim.Adam(\n",
    "    list(model.parameters()) + list(emb.parameters()) +\n",
    "    list(predictor.parameters()), lr=lr)"
   ]
  },
  {
   "cell_type": "code",
   "execution_count": 139,
   "metadata": {},
   "outputs": [],
   "source": [
    "def train(model, predictor, x, adj_t, optimizer, batch_size):\n",
    "\n",
    "    row, col, _ = adj_t.coo()\n",
    "    edge_index = torch.stack([col, row], dim=0)\n",
    "\n",
    "    model.train()\n",
    "    predictor.train()\n",
    "\n",
    "    pos_train_edge = edge_index.t().to(x.device)\n",
    "\n",
    "    total_loss = total_examples = 0\n",
    "    for perm in DataLoader(range(pos_train_edge.size(0)), batch_size,\n",
    "                           shuffle=True):\n",
    "        optimizer.zero_grad()\n",
    "\n",
    "        h = model(x, adj_t)\n",
    "\n",
    "        edge = pos_train_edge[perm].t()\n",
    "\n",
    "        pos_out = predictor(h[edge[0]], h[edge[1]])\n",
    "        pos_loss = -torch.log(pos_out + 1e-15).mean()\n",
    "\n",
    "        edge = negative_sampling(edge_index, num_nodes=x.size(0),\n",
    "                                 num_neg_samples=perm.size(0), method='sparse')\n",
    "\n",
    "        neg_out = predictor(h[edge[0]], h[edge[1]])\n",
    "        neg_loss = -torch.log(1 - neg_out + 1e-15).mean()\n",
    "\n",
    "        loss = pos_loss + neg_loss\n",
    "        loss.backward()\n",
    "\n",
    "        torch.nn.utils.clip_grad_norm_(x, 1.0)\n",
    "        torch.nn.utils.clip_grad_norm_(model.parameters(), 1.0)\n",
    "        torch.nn.utils.clip_grad_norm_(predictor.parameters(), 1.0)\n",
    "\n",
    "        optimizer.step()\n",
    "\n",
    "        num_examples = pos_out.size(0)\n",
    "        total_loss += loss.item() * num_examples\n",
    "        total_examples += num_examples\n",
    "\n",
    "    return total_loss / total_examples"
   ]
  },
  {
   "cell_type": "code",
   "execution_count": 140,
   "metadata": {},
   "outputs": [
    {
     "name": "stdout",
     "output_type": "stream",
     "text": [
      "Epoch: 02, Loss: 1.0788\n",
      "Epoch: 04, Loss: 1.0019\n",
      "Epoch: 06, Loss: 0.9404\n",
      "Epoch: 08, Loss: 0.8842\n",
      "Epoch: 10, Loss: 0.8337\n",
      "Epoch: 12, Loss: 0.7876\n",
      "Epoch: 14, Loss: 0.7456\n",
      "Epoch: 16, Loss: 0.7078\n",
      "Epoch: 18, Loss: 0.6732\n",
      "Epoch: 20, Loss: 0.6418\n",
      "Epoch: 22, Loss: 0.6130\n",
      "Epoch: 24, Loss: 0.5866\n",
      "Epoch: 26, Loss: 0.5624\n",
      "Epoch: 28, Loss: 0.5395\n",
      "Epoch: 30, Loss: 0.5182\n",
      "Epoch: 32, Loss: 0.4978\n",
      "Epoch: 34, Loss: 0.4799\n",
      "Epoch: 36, Loss: 0.4625\n",
      "Epoch: 38, Loss: 0.4464\n",
      "Epoch: 40, Loss: 0.4309\n",
      "Epoch: 42, Loss: 0.4167\n",
      "Epoch: 44, Loss: 0.4031\n",
      "Epoch: 46, Loss: 0.3910\n",
      "Epoch: 48, Loss: 0.3790\n",
      "Epoch: 50, Loss: 0.3674\n",
      "Epoch: 52, Loss: 0.3573\n",
      "Epoch: 54, Loss: 0.3475\n",
      "Epoch: 56, Loss: 0.3379\n",
      "Epoch: 58, Loss: 0.3291\n",
      "Epoch: 60, Loss: 0.3201\n",
      "Epoch: 62, Loss: 0.3115\n",
      "Epoch: 64, Loss: 0.3040\n",
      "Epoch: 66, Loss: 0.2961\n",
      "Epoch: 68, Loss: 0.2891\n",
      "Epoch: 70, Loss: 0.2824\n",
      "Epoch: 72, Loss: 0.2755\n",
      "Epoch: 74, Loss: 0.2694\n",
      "Epoch: 76, Loss: 0.2629\n",
      "Epoch: 78, Loss: 0.2572\n",
      "Epoch: 80, Loss: 0.2519\n",
      "Epoch: 82, Loss: 0.2468\n",
      "Epoch: 84, Loss: 0.2419\n",
      "Epoch: 86, Loss: 0.2373\n",
      "Epoch: 88, Loss: 0.2322\n",
      "Epoch: 90, Loss: 0.2279\n",
      "Epoch: 92, Loss: 0.2230\n",
      "Epoch: 94, Loss: 0.2188\n",
      "Epoch: 96, Loss: 0.2142\n",
      "Epoch: 98, Loss: 0.2100\n",
      "Epoch: 100, Loss: 0.2063\n"
     ]
    }
   ],
   "source": [
    "for epoch in range(1, 1 + epochs):\n",
    "    loss = train(model, predictor, emb.weight, adj_t,\n",
    "                 optimizer, batch_size)\n",
    "    \n",
    "    if epoch % eval_steps == 0:\n",
    "        print(f'Epoch: {epoch:02d}, '\n",
    "              f'Loss: {loss:.4f}')"
   ]
  },
  {
   "cell_type": "code",
   "execution_count": 141,
   "metadata": {},
   "outputs": [
    {
     "data": {
      "text/plain": [
       "Parameter containing:\n",
       "tensor([[6.5461]], device='cuda:0', requires_grad=True)"
      ]
     },
     "execution_count": 141,
     "metadata": {},
     "output_type": "execute_result"
    }
   ],
   "source": [
    "predictor.lin.weight"
   ]
  },
  {
   "cell_type": "code",
   "execution_count": 142,
   "metadata": {},
   "outputs": [
    {
     "data": {
      "text/plain": [
       "Parameter containing:\n",
       "tensor([-3.0290], device='cuda:0', requires_grad=True)"
      ]
     },
     "execution_count": 142,
     "metadata": {},
     "output_type": "execute_result"
    }
   ],
   "source": [
    "predictor.lin.bias"
   ]
  },
  {
   "cell_type": "code",
   "execution_count": 143,
   "metadata": {
    "scrolled": true
   },
   "outputs": [
    {
     "data": {
      "text/plain": [
       "SAGE(\n",
       "  (convs): ModuleList(\n",
       "    (0): SAGEConv(50, 50)\n",
       "  )\n",
       ")"
      ]
     },
     "execution_count": 143,
     "metadata": {},
     "output_type": "execute_result"
    }
   ],
   "source": [
    "model.eval()"
   ]
  },
  {
   "cell_type": "code",
   "execution_count": 144,
   "metadata": {},
   "outputs": [
    {
     "data": {
      "text/plain": [
       "Parameter containing:\n",
       "tensor([[ 0.3819,  0.1922, -0.1587,  ...,  0.0416, -0.0627, -0.1687],\n",
       "        [-0.1920, -0.0258, -0.0561,  ...,  0.2288, -0.0568,  0.0695],\n",
       "        [ 0.0694, -0.1284,  0.1548,  ..., -0.0669,  0.1322, -0.2019],\n",
       "        ...,\n",
       "        [ 0.0605,  0.1047, -0.0364,  ..., -0.1115, -0.1010,  0.0672],\n",
       "        [ 0.2273, -0.0060, -0.1404,  ...,  0.0610, -0.1124, -0.1006],\n",
       "        [-0.0603, -0.0364,  0.1967,  ...,  0.1632, -0.2398,  0.0146]],\n",
       "       device='cuda:0', requires_grad=True)"
      ]
     },
     "execution_count": 144,
     "metadata": {},
     "output_type": "execute_result"
    }
   ],
   "source": [
    "emb.weight"
   ]
  },
  {
   "cell_type": "code",
   "execution_count": 145,
   "metadata": {},
   "outputs": [],
   "source": [
    "h = model(emb.weight, adj_t)"
   ]
  },
  {
   "cell_type": "code",
   "execution_count": 146,
   "metadata": {},
   "outputs": [
    {
     "data": {
      "text/plain": [
       "tensor([[-0.2372, -0.4194,  0.2084,  ...,  0.0710, -0.3547,  0.1303],\n",
       "        [-0.0282, -1.4530, -1.0147,  ...,  0.0901, -0.0268, -0.5035],\n",
       "        [ 0.1827,  0.4492,  0.7295,  ...,  0.4557,  0.0898, -0.7916],\n",
       "        ...,\n",
       "        [ 0.0659, -0.3972, -0.3447,  ..., -0.1438,  0.3730, -0.3034],\n",
       "        [-0.0729, -0.4610,  0.0285,  ...,  0.1237, -0.4734,  0.2572],\n",
       "        [ 0.3317,  1.4260, -0.7288,  ..., -0.5351,  0.9650,  0.6444]],\n",
       "       device='cuda:0', grad_fn=<AddBackward0>)"
      ]
     },
     "execution_count": 146,
     "metadata": {},
     "output_type": "execute_result"
    }
   ],
   "source": [
    "h"
   ]
  },
  {
   "cell_type": "code",
   "execution_count": 147,
   "metadata": {},
   "outputs": [
    {
     "data": {
      "text/plain": [
       "tensor([[0.8980],\n",
       "        [0.0664]], device='cuda:0', grad_fn=<SigmoidBackward>)"
      ]
     },
     "execution_count": 147,
     "metadata": {},
     "output_type": "execute_result"
    }
   ],
   "source": [
    "predictor(h[0:2], h[411:413])"
   ]
  },
  {
   "cell_type": "code",
   "execution_count": 148,
   "metadata": {},
   "outputs": [
    {
     "data": {
      "text/plain": [
       "tensor([[0.0938],\n",
       "        [0.0200]], device='cuda:0', grad_fn=<SigmoidBackward>)"
      ]
     },
     "execution_count": 148,
     "metadata": {},
     "output_type": "execute_result"
    }
   ],
   "source": [
    "predictor(h[0:2], h[2:4])"
   ]
  },
  {
   "cell_type": "code",
   "execution_count": 149,
   "metadata": {},
   "outputs": [
    {
     "data": {
      "text/plain": [
       "tensor(0.9522, device='cuda:0', grad_fn=<SumBackward0>)"
      ]
     },
     "execution_count": 149,
     "metadata": {},
     "output_type": "execute_result"
    }
   ],
   "source": [
    "(h[0] * h[2]).sum()"
   ]
  },
  {
   "cell_type": "code",
   "execution_count": 150,
   "metadata": {},
   "outputs": [
    {
     "data": {
      "text/plain": [
       "tensor(5.5484, device='cuda:0', grad_fn=<SumBackward0>)"
      ]
     },
     "execution_count": 150,
     "metadata": {},
     "output_type": "execute_result"
    }
   ],
   "source": [
    "(h[0] * h[411]).sum()"
   ]
  },
  {
   "cell_type": "code",
   "execution_count": 151,
   "metadata": {},
   "outputs": [],
   "source": [
    "np.save('../../models/graphsage_link_pred/full_graphsage_linkpred_43_h.npy', h.cpu().detach().numpy())\n",
    "torch.save(model, '../../models/graphsage_link_pred/43_model.pt')\n",
    "torch.save(emb, '../../models/graphsage_link_pred/43_embedding.pt')\n",
    "torch.save(predictor, '../../models/graphsage_link_pred/43_predictor.pt')"
   ]
  }
 ],
 "metadata": {
  "kernelspec": {
   "display_name": "Python 3",
   "language": "python",
   "name": "python3"
  },
  "language_info": {
   "codemirror_mode": {
    "name": "ipython",
    "version": 3
   },
   "file_extension": ".py",
   "mimetype": "text/x-python",
   "name": "python",
   "nbconvert_exporter": "python",
   "pygments_lexer": "ipython3",
   "version": "3.8.5"
  }
 },
 "nbformat": 4,
 "nbformat_minor": 4
}
