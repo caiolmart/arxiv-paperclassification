{
 "cells": [
  {
   "cell_type": "code",
   "execution_count": 1,
   "metadata": {},
   "outputs": [],
   "source": [
    "import os"
   ]
  },
  {
   "cell_type": "code",
   "execution_count": 2,
   "metadata": {},
   "outputs": [],
   "source": [
    "os.chdir('../..')"
   ]
  },
  {
   "cell_type": "code",
   "execution_count": 3,
   "metadata": {},
   "outputs": [
    {
     "name": "stderr",
     "output_type": "stream",
     "text": [
      "Using backend: pytorch\n"
     ]
    }
   ],
   "source": [
    "import dgl"
   ]
  },
  {
   "cell_type": "code",
   "execution_count": 4,
   "metadata": {},
   "outputs": [],
   "source": [
    "import numpy as np\n",
    "from sklearn.metrics import accuracy_score\n",
    "import torch\n",
    "import torch.nn.functional as F\n",
    "from ogb.nodeproppred import DglNodePropPredDataset, Evaluator\n",
    "import dgl\n",
    "\n",
    "from dgl.nn.pytorch.conv import SAGEConv"
   ]
  },
  {
   "cell_type": "code",
   "execution_count": 5,
   "metadata": {},
   "outputs": [
    {
     "data": {
      "text/plain": [
       "DglNodePropPredDataset(1)"
      ]
     },
     "execution_count": 5,
     "metadata": {},
     "output_type": "execute_result"
    }
   ],
   "source": [
    "dataset = DglNodePropPredDataset(name='ogbn-arxiv', \n",
    "                                 root='data/dataset_dgl/')\n",
    "dataset"
   ]
  },
  {
   "cell_type": "code",
   "execution_count": 6,
   "metadata": {
    "scrolled": true
   },
   "outputs": [
    {
     "data": {
      "text/plain": [
       "True"
      ]
     },
     "execution_count": 6,
     "metadata": {},
     "output_type": "execute_result"
    }
   ],
   "source": [
    "torch.cuda.is_available()"
   ]
  },
  {
   "cell_type": "code",
   "execution_count": 7,
   "metadata": {},
   "outputs": [],
   "source": [
    "device = 'cuda:0' if torch.cuda.is_available() else 'cpu'\n",
    "device = torch.device(device)"
   ]
  },
  {
   "cell_type": "code",
   "execution_count": 8,
   "metadata": {},
   "outputs": [
    {
     "data": {
      "text/plain": [
       "Graph(num_nodes=169343, num_edges=1166243,\n",
       "      ndata_schemes={'year': Scheme(shape=(1,), dtype=torch.int64), 'feat': Scheme(shape=(128,), dtype=torch.float32)}\n",
       "      edata_schemes={})"
      ]
     },
     "execution_count": 8,
     "metadata": {},
     "output_type": "execute_result"
    }
   ],
   "source": [
    "graph = dataset[0][0]\n",
    "graph"
   ]
  },
  {
   "cell_type": "code",
   "execution_count": 9,
   "metadata": {},
   "outputs": [],
   "source": [
    "split_idx = dataset.get_idx_split()"
   ]
  },
  {
   "cell_type": "code",
   "execution_count": 10,
   "metadata": {},
   "outputs": [],
   "source": [
    "graph.add_edges(graph.edges()[1], graph.edges()[0])"
   ]
  },
  {
   "cell_type": "code",
   "execution_count": 11,
   "metadata": {
    "scrolled": true
   },
   "outputs": [
    {
     "data": {
      "text/plain": [
       "Graph(num_nodes=169343, num_edges=2332486,\n",
       "      ndata_schemes={'year': Scheme(shape=(1,), dtype=torch.int64), 'feat': Scheme(shape=(128,), dtype=torch.float32)}\n",
       "      edata_schemes={})"
      ]
     },
     "execution_count": 11,
     "metadata": {},
     "output_type": "execute_result"
    }
   ],
   "source": [
    "graph"
   ]
  },
  {
   "cell_type": "code",
   "execution_count": 12,
   "metadata": {},
   "outputs": [],
   "source": [
    "torch.cuda.set_device(device)"
   ]
  },
  {
   "cell_type": "code",
   "execution_count": 13,
   "metadata": {},
   "outputs": [],
   "source": [
    "features = graph.ndata['feat'].cuda()\n",
    "labels = dataset.labels.cuda()\n",
    "train_mask = split_idx['train'].cuda()\n",
    "val_mask = split_idx['valid'].cuda()\n",
    "test_mask = split_idx['test'].cuda()"
   ]
  },
  {
   "cell_type": "code",
   "execution_count": 14,
   "metadata": {},
   "outputs": [
    {
     "name": "stderr",
     "output_type": "stream",
     "text": [
      "<ipython-input-14-fa10932ea454>:1: UserWarning: This overload of nonzero is deprecated:\n",
      "\tnonzero()\n",
      "Consider using one of the following signatures instead:\n",
      "\tnonzero(*, bool as_tuple) (Triggered internally at  /pytorch/torch/csrc/utils/python_arg_parser.cpp:882.)\n",
      "  train_nid = train_mask.nonzero().squeeze()\n"
     ]
    }
   ],
   "source": [
    "train_nid = train_mask.nonzero().squeeze()\n",
    "val_nid = val_mask.nonzero().squeeze()\n",
    "test_nid = test_mask.nonzero().squeeze()"
   ]
  },
  {
   "cell_type": "code",
   "execution_count": 15,
   "metadata": {},
   "outputs": [],
   "source": [
    "n_edges = graph.number_of_edges()"
   ]
  },
  {
   "cell_type": "code",
   "execution_count": 16,
   "metadata": {},
   "outputs": [],
   "source": [
    "graph = graph.int().to(device)"
   ]
  },
  {
   "cell_type": "code",
   "execution_count": 17,
   "metadata": {},
   "outputs": [],
   "source": [
    "n_iters = 3000\n",
    "epochs = 1000\n",
    "log_steps = 100\n",
    "input_dim = features.shape[1]\n",
    "hidden_channels = input_dim * 2\n",
    "output_dim = dataset.num_classes\n",
    "lr_rate = 0.001"
   ]
  },
  {
   "cell_type": "code",
   "execution_count": 18,
   "metadata": {},
   "outputs": [],
   "source": [
    "class ThreeLayer(torch.nn.Module):\n",
    "    def __init__(self, input_dim, hidden_channels, output_dim, dropout):\n",
    "        super(ThreeLayer, self).__init__()\n",
    "        \n",
    "        self.convs = torch.nn.ModuleList()\n",
    "        self.bns = torch.nn.ModuleList()\n",
    "        \n",
    "        self.convs.append(SAGEConv(input_dim, hidden_channels, 'mean'))\n",
    "        self.bns.append(torch.nn.BatchNorm1d(hidden_channels))\n",
    "        \n",
    "        self.convs.append(SAGEConv(hidden_channels, hidden_channels, 'mean'))\n",
    "        self.bns.append(torch.nn.BatchNorm1d(hidden_channels))\n",
    "        \n",
    "        self.convs.append(SAGEConv(hidden_channels, output_dim, 'mean'))\n",
    "        \n",
    "        self.dropout = dropout\n",
    "        \n",
    "\n",
    "    def forward(self, graph, x):\n",
    "        x = self.convs[0](graph, x)\n",
    "        x = self.bns[0](x)\n",
    "        x = F.relu(x)\n",
    "        x = F.dropout(x, p=self.dropout, training=self.training)\n",
    "        \n",
    "        x = self.convs[1](graph, x)\n",
    "        x = self.bns[1](x)\n",
    "        x = F.relu(x)\n",
    "        x = F.dropout(x, p=self.dropout, training=self.training)\n",
    "        \n",
    "        x = self.convs[2](graph, x)\n",
    "        return x.log_softmax(dim=-1)"
   ]
  },
  {
   "cell_type": "code",
   "execution_count": 19,
   "metadata": {},
   "outputs": [],
   "source": [
    "model = ThreeLayer(input_dim,\n",
    "                   hidden_channels,\n",
    "                   output_dim,\n",
    "                   0.5).cuda()"
   ]
  },
  {
   "cell_type": "code",
   "execution_count": 20,
   "metadata": {},
   "outputs": [],
   "source": [
    "def train(model, graph, features, train_mask, optimizer):\n",
    "    model.train()\n",
    "\n",
    "    optimizer.zero_grad()\n",
    "    out = model(graph, features)[train_mask]\n",
    "    loss = F.nll_loss(out, labels.squeeze(1)[train_mask])\n",
    "    loss.backward()\n",
    "    optimizer.step()\n",
    "\n",
    "    return loss.item()"
   ]
  },
  {
   "cell_type": "code",
   "execution_count": 21,
   "metadata": {},
   "outputs": [],
   "source": [
    "@torch.no_grad()\n",
    "def test(model, graph, features, labels, train_mask, val_mask, test_mask, evaluator):\n",
    "    model.eval()\n",
    "\n",
    "    out = model(graph, features)\n",
    "    y_pred = out.argmax(dim=-1, keepdim=True)\n",
    "\n",
    "    train_acc = evaluator.eval({\n",
    "        'y_true': labels[train_mask],\n",
    "        'y_pred': y_pred[train_mask],\n",
    "    })['acc']\n",
    "    valid_acc = evaluator.eval({\n",
    "        'y_true': labels[val_mask],\n",
    "        'y_pred': y_pred[val_mask],\n",
    "    })['acc']\n",
    "    test_acc = evaluator.eval({\n",
    "        'y_true': labels[test_mask],\n",
    "        'y_pred': y_pred[test_mask],\n",
    "    })['acc']\n",
    "\n",
    "    return train_acc, valid_acc, test_acc"
   ]
  },
  {
   "cell_type": "code",
   "execution_count": 22,
   "metadata": {},
   "outputs": [],
   "source": [
    "evaluator = Evaluator(name='ogbn-arxiv')"
   ]
  },
  {
   "cell_type": "code",
   "execution_count": 23,
   "metadata": {},
   "outputs": [
    {
     "name": "stdout",
     "output_type": "stream",
     "text": [
      "Epoch: 100, Loss: 1.3095, Train: 68.98%, Valid: 68.32% Test: 66.80%\n",
      "Epoch: 200, Loss: 1.1143, Train: 71.45%, Valid: 70.05% Test: 68.31%\n",
      "Epoch: 300, Loss: 1.0232, Train: 72.84%, Valid: 70.86% Test: 69.47%\n",
      "Epoch: 400, Loss: 0.9613, Train: 73.96%, Valid: 71.44% Test: 70.06%\n",
      "Epoch: 500, Loss: 0.9187, Train: 74.94%, Valid: 71.71% Test: 70.51%\n",
      "Epoch: 600, Loss: 0.8829, Train: 75.81%, Valid: 71.92% Test: 70.62%\n",
      "Epoch: 700, Loss: 0.8507, Train: 76.73%, Valid: 72.09% Test: 70.77%\n",
      "Epoch: 800, Loss: 0.8213, Train: 77.57%, Valid: 72.31% Test: 71.13%\n",
      "Epoch: 900, Loss: 0.7968, Train: 78.38%, Valid: 72.36% Test: 71.00%\n",
      "Epoch: 1000, Loss: 0.7741, Train: 79.11%, Valid: 72.49% Test: 70.93%\n"
     ]
    }
   ],
   "source": [
    "optimizer = torch.optim.Adam(model.parameters(), lr=lr_rate)\n",
    "for epoch in range(1, 1 + epochs):\n",
    "    loss = train(model, graph, features, train_mask, optimizer)\n",
    "    result = test(model, graph, features, labels, train_mask, val_mask, test_mask, evaluator)\n",
    "\n",
    "    if epoch % log_steps == 0:\n",
    "        train_acc, valid_acc, test_acc = result\n",
    "        print(f'Epoch: {epoch:02d}, '\n",
    "              f'Loss: {loss:.4f}, '\n",
    "              f'Train: {100 * train_acc:.2f}%, '\n",
    "              f'Valid: {100 * valid_acc:.2f}% '\n",
    "              f'Test: {100 * test_acc:.2f}%')"
   ]
  }
 ],
 "metadata": {
  "kernelspec": {
   "display_name": "Python 3",
   "language": "python",
   "name": "python3"
  },
  "language_info": {
   "codemirror_mode": {
    "name": "ipython",
    "version": 3
   },
   "file_extension": ".py",
   "mimetype": "text/x-python",
   "name": "python",
   "nbconvert_exporter": "python",
   "pygments_lexer": "ipython3",
   "version": "3.8.10"
  }
 },
 "nbformat": 4,
 "nbformat_minor": 4
}
