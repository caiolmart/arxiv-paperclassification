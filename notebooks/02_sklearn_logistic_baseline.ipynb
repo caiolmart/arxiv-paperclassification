{
 "cells": [
  {
   "cell_type": "code",
   "execution_count": 1,
   "metadata": {},
   "outputs": [],
   "source": [
    "import numpy as np\n",
    "from sklearn.linear_model import LogisticRegression\n",
    "from sklearn.metrics import accuracy_score"
   ]
  },
  {
   "cell_type": "code",
   "execution_count": 2,
   "metadata": {},
   "outputs": [],
   "source": [
    "train_idx = np.load('../data/train_idx.npy')\n",
    "valid_idx = np.load('../data/valid_idx.npy')\n",
    "test_idx = np.load('../data/test_idx.npy')"
   ]
  },
  {
   "cell_type": "code",
   "execution_count": 3,
   "metadata": {},
   "outputs": [],
   "source": [
    "labels = np.load('../data/label.npy')\n",
    "node_feat = np.load('../data/node_feat.npy')"
   ]
  },
  {
   "cell_type": "code",
   "execution_count": 4,
   "metadata": {},
   "outputs": [],
   "source": [
    "X_train, X_valid, X_test = node_feat[train_idx, :], node_feat[valid_idx, :], node_feat[test_idx, :]\n",
    "y_train, y_valid, y_test = labels[train_idx, 0], labels[valid_idx, 0], labels[test_idx, 0]"
   ]
  },
  {
   "cell_type": "code",
   "execution_count": 5,
   "metadata": {
    "scrolled": false
   },
   "outputs": [
    {
     "data": {
      "text/plain": [
       "{0: 437,\n",
       " 1: 382,\n",
       " 2: 3604,\n",
       " 3: 1014,\n",
       " 4: 2864,\n",
       " 5: 2933,\n",
       " 6: 703,\n",
       " 7: 380,\n",
       " 8: 4056,\n",
       " 9: 2245,\n",
       " 10: 5182,\n",
       " 11: 391,\n",
       " 12: 21,\n",
       " 13: 1290,\n",
       " 14: 473,\n",
       " 15: 248,\n",
       " 16: 9998,\n",
       " 17: 202,\n",
       " 18: 402,\n",
       " 19: 1873,\n",
       " 20: 1495,\n",
       " 21: 304,\n",
       " 22: 1268,\n",
       " 23: 1539,\n",
       " 24: 6989,\n",
       " 25: 457,\n",
       " 26: 2854,\n",
       " 27: 1661,\n",
       " 28: 16284,\n",
       " 29: 239,\n",
       " 30: 4334,\n",
       " 31: 1350,\n",
       " 32: 270,\n",
       " 33: 926,\n",
       " 34: 5426,\n",
       " 35: 75,\n",
       " 36: 2506,\n",
       " 37: 1615,\n",
       " 38: 1100,\n",
       " 39: 1551}"
      ]
     },
     "execution_count": 5,
     "metadata": {},
     "output_type": "execute_result"
    }
   ],
   "source": [
    "counts = np.unique(y_train, return_counts=True)\n",
    "dict_counts = dict(zip(counts[0], counts[1]))\n",
    "dict_counts"
   ]
  },
  {
   "cell_type": "code",
   "execution_count": 6,
   "metadata": {},
   "outputs": [
    {
     "data": {
      "text/plain": [
       "0.17906114953651267"
      ]
     },
     "execution_count": 6,
     "metadata": {},
     "output_type": "execute_result"
    }
   ],
   "source": [
    "np.max(list(dict_counts.values())) / y_train.shape[0]"
   ]
  },
  {
   "cell_type": "code",
   "execution_count": 7,
   "metadata": {},
   "outputs": [],
   "source": [
    "clf = LogisticRegression(max_iter=1000)"
   ]
  },
  {
   "cell_type": "code",
   "execution_count": 8,
   "metadata": {},
   "outputs": [
    {
     "data": {
      "text/plain": [
       "LogisticRegression(max_iter=1000)"
      ]
     },
     "execution_count": 8,
     "metadata": {},
     "output_type": "execute_result"
    }
   ],
   "source": [
    "clf.fit(X_train, y_train)"
   ]
  },
  {
   "cell_type": "code",
   "execution_count": 9,
   "metadata": {},
   "outputs": [
    {
     "name": "stdout",
     "output_type": "stream",
     "text": [
      "Accuracy on train: 0.54994\n",
      "Accuracy on valid: 0.55002\n",
      "Accuracy on test: 0.52503\n"
     ]
    }
   ],
   "source": [
    "acc_train = accuracy_score(y_train, clf.predict(X_train))\n",
    "acc_valid = accuracy_score(y_valid, clf.predict(X_valid))\n",
    "acc_test = accuracy_score(y_test, clf.predict(X_test))\n",
    "\n",
    "print(f'Accuracy on train: {acc_train:.5}')\n",
    "print(f'Accuracy on valid: {acc_valid:.5}')\n",
    "print(f'Accuracy on test: {acc_test:.5}')"
   ]
  }
 ],
 "metadata": {
  "kernelspec": {
   "display_name": "Python 3",
   "language": "python",
   "name": "python3"
  },
  "language_info": {
   "codemirror_mode": {
    "name": "ipython",
    "version": 3
   },
   "file_extension": ".py",
   "mimetype": "text/x-python",
   "name": "python",
   "nbconvert_exporter": "python",
   "pygments_lexer": "ipython3",
   "version": "3.8.5"
  }
 },
 "nbformat": 4,
 "nbformat_minor": 4
}
